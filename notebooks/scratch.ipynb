{
 "cells": [
  {
   "cell_type": "code",
   "execution_count": 1,
   "id": "05562a91",
   "metadata": {},
   "outputs": [],
   "source": [
    "import pandas as pd\n",
    "from pathlib import Path\n",
    "import multiprocessing\n"
   ]
  },
  {
   "cell_type": "code",
   "execution_count": 2,
   "id": "fbbde32a",
   "metadata": {},
   "outputs": [
    {
     "data": {
      "text/html": [
       "<div>\n",
       "<style scoped>\n",
       "    .dataframe tbody tr th:only-of-type {\n",
       "        vertical-align: middle;\n",
       "    }\n",
       "\n",
       "    .dataframe tbody tr th {\n",
       "        vertical-align: top;\n",
       "    }\n",
       "\n",
       "    .dataframe thead th {\n",
       "        text-align: right;\n",
       "    }\n",
       "</style>\n",
       "<table border=\"1\" class=\"dataframe\">\n",
       "  <thead>\n",
       "    <tr style=\"text-align: right;\">\n",
       "      <th></th>\n",
       "      <th>Unnamed: 0</th>\n",
       "      <th>rmf_file</th>\n",
       "      <th>frame</th>\n",
       "      <th>n_clash</th>\n",
       "      <th>n_total</th>\n",
       "    </tr>\n",
       "  </thead>\n",
       "  <tbody>\n",
       "    <tr>\n",
       "      <th>0</th>\n",
       "      <td>0</td>\n",
       "      <td>/wynton/group/sali/mhancock/mtorc2/analysis/13...</td>\n",
       "      <td>0</td>\n",
       "      <td>19374</td>\n",
       "      <td>679195.0</td>\n",
       "    </tr>\n",
       "    <tr>\n",
       "      <th>1</th>\n",
       "      <td>1</td>\n",
       "      <td>/wynton/group/sali/mhancock/mtorc2/analysis/13...</td>\n",
       "      <td>1</td>\n",
       "      <td>19396</td>\n",
       "      <td>679195.0</td>\n",
       "    </tr>\n",
       "    <tr>\n",
       "      <th>2</th>\n",
       "      <td>2</td>\n",
       "      <td>/wynton/group/sali/mhancock/mtorc2/analysis/13...</td>\n",
       "      <td>2</td>\n",
       "      <td>18962</td>\n",
       "      <td>679195.0</td>\n",
       "    </tr>\n",
       "    <tr>\n",
       "      <th>3</th>\n",
       "      <td>3</td>\n",
       "      <td>/wynton/group/sali/mhancock/mtorc2/analysis/13...</td>\n",
       "      <td>3</td>\n",
       "      <td>19394</td>\n",
       "      <td>679195.0</td>\n",
       "    </tr>\n",
       "    <tr>\n",
       "      <th>4</th>\n",
       "      <td>4</td>\n",
       "      <td>/wynton/group/sali/mhancock/mtorc2/analysis/13...</td>\n",
       "      <td>4</td>\n",
       "      <td>19174</td>\n",
       "      <td>679195.0</td>\n",
       "    </tr>\n",
       "  </tbody>\n",
       "</table>\n",
       "</div>"
      ],
      "text/plain": [
       "   Unnamed: 0                                           rmf_file  frame  \\\n",
       "0           0  /wynton/group/sali/mhancock/mtorc2/analysis/13...      0   \n",
       "1           1  /wynton/group/sali/mhancock/mtorc2/analysis/13...      1   \n",
       "2           2  /wynton/group/sali/mhancock/mtorc2/analysis/13...      2   \n",
       "3           3  /wynton/group/sali/mhancock/mtorc2/analysis/13...      3   \n",
       "4           4  /wynton/group/sali/mhancock/mtorc2/analysis/13...      4   \n",
       "\n",
       "   n_clash   n_total  \n",
       "0    19374  679195.0  \n",
       "1    19396  679195.0  \n",
       "2    18962  679195.0  \n",
       "3    19394  679195.0  \n",
       "4    19174  679195.0  "
      ]
     },
     "execution_count": 2,
     "metadata": {},
     "output_type": "execute_result"
    }
   ],
   "source": [
    "ev_clash_df = pd.read_csv(Path(Path.home(), \"Documents/mtorc2/data/models/submission_3/136_2_1/ev_clash.csv\"))\n",
    "ev_clash_df.head()"
   ]
  },
  {
   "cell_type": "code",
   "execution_count": 6,
   "id": "05401c0c",
   "metadata": {},
   "outputs": [
    {
     "name": "stdout",
     "output_type": "stream",
     "text": [
      "0.9723290071334447\n",
      "0.9706858854968013\n"
     ]
    }
   ],
   "source": [
    "print(1-(ev_clash_df[\"n_clash\"] / ev_clash_df[\"n_total\"]).min())\n",
    "print(1-(ev_clash_df[\"n_clash\"] / ev_clash_df[\"n_total\"]).max())"
   ]
  },
  {
   "cell_type": "code",
   "execution_count": null,
   "id": "9271d5ef",
   "metadata": {},
   "outputs": [],
   "source": []
  }
 ],
 "metadata": {
  "kernelspec": {
   "display_name": "Python 3 (ipykernel)",
   "language": "python",
   "name": "python3"
  },
  "language_info": {
   "codemirror_mode": {
    "name": "ipython",
    "version": 3
   },
   "file_extension": ".py",
   "mimetype": "text/x-python",
   "name": "python",
   "nbconvert_exporter": "python",
   "pygments_lexer": "ipython3",
   "version": "3.12.1"
  }
 },
 "nbformat": 4,
 "nbformat_minor": 5
}
