{
 "cells": [
  {
   "cell_type": "code",
   "execution_count": 1,
   "id": "c48610e4",
   "metadata": {},
   "outputs": [],
   "source": [
    "import pandas as pd\n",
    "from pathlib import Path\n",
    "import IMP\n",
    "import IMP.atom\n",
    "import IMP.rmf\n",
    "import RMF\n",
    "import random\n",
    "import numpy as np\n",
    "import matplotlib.pyplot as plt\n",
    "\n",
    "import IMP\n",
    "import IMP.core\n",
    "import IMP.atom\n",
    "import IMP.container\n",
    "import IMP.isd\n",
    "import IMP.pmi.tools\n",
    "from operator import itemgetter\n",
    "import math\n",
    "\n",
    "import time"
   ]
  },
  {
   "cell_type": "code",
   "execution_count": 2,
   "id": "137b6bdd",
   "metadata": {},
   "outputs": [],
   "source": [
    "gsms_dir = Path(Path.home(), \"Documents/mtorc2/tmp/1000R\")\n"
   ]
  },
  {
   "cell_type": "code",
   "execution_count": 3,
   "id": "87eaf0a4",
   "metadata": {
    "scrolled": true
   },
   "outputs": [],
   "source": [
    "# sampcon_job_dir = Path(\"/wynton/group/sali/mhancock/mtorc2/exp_13/116/analysis/693502/sampcon_4/3\")\n",
    "\n",
    "# # gsms_dir = Path(\"/Users/matthew/Downloads/116/1000_edit\")\n",
    "# # sampcon_job_dir = Path(\"/Users/matthew/Downloads/116/3\")\n",
    "\n",
    "# cluster = 0\n",
    "# cluster_dir = Path(sampcon_job_dir, \"cluster.{}\".format(cluster))\n",
    "\n",
    "# # Script needs to read in the number of structures contained in the A.rmf3 file because the structures in sampcon cluster A are indexed between 0:N_A-1 while structures in cluster B are indexed between N_A:N_A+N_B-1.\n",
    "# with open(Path(gsms_dir, \"A.txt\"), 'r') as fp:\n",
    "#     N_A = len(fp.readlines())\n",
    "#     print(\"N_A: {}\".format(N_A))\n",
    "\n",
    "# samp_clust_file = Path(sampcon_job_dir, \"cluster.{}.all.txt\".format(cluster))\n",
    "# samp_clust_df = pd.read_csv(samp_clust_file, header=None)\n",
    "# # samp_clust_df = samp_clust_df.iloc[:1]\n",
    "\n",
    "# print(samp_clust_file)\n",
    "# print(len(samp_clust_df))\n",
    "\n",
    "# models = list()\n",
    "# for i in range(len(samp_clust_df)):\n",
    "#     frame_num = samp_clust_df.iloc[i,0]\n",
    "#     if frame_num < N_A:\n",
    "#         rmf_file = Path(gsms_dir, \"A.rmf3\")\n",
    "#     else:\n",
    "#         rmf_file = Path(gsms_dir, \"B.rmf3\")\n",
    "#         frame_num = frame_num - N_A\n",
    "\n",
    "#     models.append((rmf_file, frame_num))\n",
    "\n"
   ]
  },
  {
   "cell_type": "code",
   "execution_count": 3,
   "id": "9f6adba9",
   "metadata": {},
   "outputs": [
    {
     "name": "stdout",
     "output_type": "stream",
     "text": [
      "1166\n"
     ]
    }
   ],
   "source": [
    "included_objects = list()\n",
    "\n",
    "rmf_file = Path(gsms_dir, \"A.rmf3\")\n",
    "for i in range(1000):\n",
    "    fh = RMF.open_rmf_file_read_only(str(rmf_file))\n",
    "    m = IMP.Model()\n",
    "    h = IMP.rmf.create_hierarchies(fh, m)[0]\n",
    "    IMP.rmf.load_frame(fh, RMF.FrameID(i))\n",
    "\n",
    "    pids = IMP.atom.Selection(h, resolution=10).get_selected_particle_indexes()\n",
    "\n",
    "    print(len(pids))\n",
    "\n",
    "    # n_clash = 0\n",
    "    # for pid_0 in pids:\n",
    "    #     xyzr_0  = IMP.core.XYZR(m, pid_0)\n",
    "    #     for pid_1 in pids:\n",
    "    #         xyzr_1  = IMP.core.XYZR(m, pid_1)\n",
    "\n",
    "    #         if pid_0 != pid_1 and IMP.core.get_distance(xyzr_0, xyzr_1) < xyzr_0.get_radius() + xyzr_1.get_radius():\n",
    "    #             print(\"Overlap \", pid_0, pid_1)\n",
    "\n",
    "    #             n_clash += 1\n",
    "\n",
    "        # break\n",
    "\n",
    "\n",
    "\n",
    "    break"
   ]
  },
  {
   "cell_type": "code",
   "execution_count": 16,
   "id": "95f011f0",
   "metadata": {},
   "outputs": [
    {
     "data": {
      "text/plain": [
       "0.014262472485810408"
      ]
     },
     "execution_count": 16,
     "metadata": {},
     "output_type": "execute_result"
    }
   ],
   "source": [
    "n_clash / (len(pids) * (len(pids) - 1))"
   ]
  },
  {
   "cell_type": "code",
   "execution_count": 7,
   "id": "e8fc5e98",
   "metadata": {},
   "outputs": [
    {
     "data": {
      "text/plain": [
       "5.140711380565968"
      ]
     },
     "execution_count": 7,
     "metadata": {},
     "output_type": "execute_result"
    }
   ],
   "source": [
    "kappa = 1\n",
    "cpc = None\n",
    "\n",
    "# gather IMP hierarchies from input objects\n",
    "hierarchies = IMP.pmi.tools.input_adaptor(included_objects,\n",
    "                                          10,\n",
    "                                          flatten=True)\n",
    "included_ps = []\n",
    "\n",
    "# perform selection\n",
    "mdl = hierarchies[0].get_model()\n",
    "\n",
    "included_ps = [h.get_particle() for h in hierarchies]\n",
    "\n",
    "# setup score\n",
    "ssps = IMP.core.SoftSpherePairScore(kappa)\n",
    "lsa = IMP.container.ListSingletonContainer(m)\n",
    "lsa.add(IMP.get_indexes(included_ps))\n",
    "\n",
    "# setup close pair container\n",
    "rbcpf = IMP.core.RigidClosePairsFinder()\n",
    "cpc = IMP.container.ClosePairContainer(lsa, 0.0, rbcpf, 10.0)\n",
    "evr = IMP.container.PairsRestraint(ssps, cpc)\n",
    "evr.evaluate(False)"
   ]
  },
  {
   "cell_type": "code",
   "execution_count": null,
   "id": "78bffd67",
   "metadata": {},
   "outputs": [],
   "source": [
    "cpc.get_indexes()"
   ]
  },
  {
   "cell_type": "code",
   "execution_count": null,
   "id": "ca2ddbf8",
   "metadata": {},
   "outputs": [],
   "source": [
    "kappa = 1\n",
    "close_pairs = cpc.get_indexes()\n",
    "for i in range(len(close_pairs)):\n",
    "    pt_0 = m.get_particle(close_pairs[i][0])\n",
    "    pt_1 = m.get_particle(close_pairs[i][1])\n",
    "\n",
    "    hu = IMP.core.HarmonicLowerBound(0, kappa)\n",
    "\n",
    "    dps = IMP.core.SphereDistancePairScore(hu)\n",
    "#                 sphere_dist = math.sqrt(dps.evaluate_index(m, (pt0.get_index(), pt1.get_index()), None) * 2 / 10)\n",
    "\n",
    "    xyz_0 = IMP.core.XYZR(pt_0)\n",
    "    xyz_1 = IMP.core.XYZR(pt_1)\n",
    "\n",
    "#                 r_0 = xyz_0.get_radius()\n",
    "#                 r_1 = xyz_1.get_radius()\n",
    "\n",
    "#                 d = IMP.algebra.distance(xyz_0,xyz_1)\n",
    "\n",
    "    print(IMP.algebra.get_distance(xyz_0.get_sphere(), xyz_1.get_sphere()))\n"
   ]
  },
  {
   "cell_type": "code",
   "execution_count": null,
   "id": "a1fa9dcf",
   "metadata": {},
   "outputs": [],
   "source": [
    "ev_dict = dict()\n",
    "for rmf_file, frame_num in models:\n",
    "    print(rmf_file, frame_num)\n",
    "    included_objects = list()\n",
    "    fh = RMF.open_rmf_file_read_only(str(rmf_file))\n",
    "    m = IMP.Model()\n",
    "    h = IMP.rmf.create_hierarchies(fh, m)[0]\n",
    "    IMP.rmf.load_frame(fh, RMF.FrameID(frame_num))\n",
    "    for i in range(0,10,2):\n",
    "        h_mol = h.get_children()[0].get_children()[i]\n",
    "        included_objects.append(h_mol)\n",
    "\n",
    "    # gather IMP hierarchies from input objects\n",
    "    hierarchies = IMP.pmi.tools.input_adaptor(included_objects,\n",
    "                                              10,\n",
    "                                              flatten=True)\n",
    "    included_ps = []\n",
    "\n",
    "    # perform selection\n",
    "    mdl = hierarchies[0].get_model()\n",
    "\n",
    "    included_ps = [h.get_particle() for h in hierarchies]\n",
    "\n",
    "    # setup score\n",
    "    ssps = IMP.core.SoftSpherePairScore(kappa)\n",
    "    lsa = IMP.container.ListSingletonContainer(m)\n",
    "    lsa.add(IMP.get_indexes(included_ps))\n",
    "\n",
    "    # setup close pair container\n",
    "    rbcpf = IMP.core.RigidClosePairsFinder()\n",
    "    cpc = IMP.container.ClosePairContainer(lsa, 0.0, rbcpf, 10.0)\n",
    "    evr = IMP.container.PairsRestraint(ssps, cpc)\n",
    "    evr.evaluate(False)\n",
    "    close_pairs = cpc.get_indexes()\n",
    "    for j in range(len(close_pairs)):\n",
    "        pt_0 = m.get_particle(close_pairs[j][0])\n",
    "        pt_1 = m.get_particle(close_pairs[j][1])\n",
    "\n",
    "        entry = \"{},{}\".format(str(close_pairs[j][0]), str(close_pairs[j][1]))\n",
    "\n",
    "        hu = IMP.core.HarmonicLowerBound(0, kappa)\n",
    "\n",
    "        dps = IMP.core.SphereDistancePairScore(hu)\n",
    "    #                 sphere_dist = math.sqrt(dps.evaluate_index(m, (pt0.get_index(), pt1.get_index()), None) * 2 / 10)\n",
    "\n",
    "        xyz_0 = IMP.core.XYZR(pt_0)\n",
    "        xyz_1 = IMP.core.XYZR(pt_1)\n",
    "\n",
    "    #                 r_0 = xyz_0.get_radius()\n",
    "    #                 r_1 = xyz_1.get_radius()\n",
    "\n",
    "    #                 d = IMP.algebra.distance(xyz_0,xyz_1)\n",
    "\n",
    "        d = IMP.algebra.get_distance(xyz_0.get_sphere(), xyz_1.get_sphere())\n",
    "\n",
    "        if entry in ev_dict.keys():\n",
    "            ev_dict[entry].append(d)\n",
    "        else:\n",
    "            ev_dict[entry] = [d]\n",
    "\n"
   ]
  },
  {
   "cell_type": "code",
   "execution_count": 5,
   "id": "eea59e0a",
   "metadata": {
    "scrolled": true
   },
   "outputs": [],
   "source": [
    "rmf_file, frame_num = models[0]\n",
    "fh = RMF.open_rmf_file_read_only(str(rmf_file))\n",
    "m = IMP.Model()\n",
    "h = IMP.rmf.create_hierarchies(fh, m)[0]\n",
    "IMP.rmf.load_frame(fh, RMF.FrameID(frame_num))\n",
    "for i in range(0,10,2):\n",
    "    h_mol = h.get_children()[0].get_children()[i]\n",
    "    included_objects.append(h_mol)\n",
    "\n",
    "hierarchies = IMP.pmi.tools.input_adaptor(included_objects,\n",
    "                                          10,\n",
    "                                          flatten=True)\n",
    "mdl = hierarchies[0].get_model()\n",
    "\n",
    "included_ps = [h.get_particle() for h in hierarchies]\n",
    "\n",
    "ev_matrix = np.ndarray(shape=(len(included_ps),len(included_ps),len(models)))\n"
   ]
  },
  {
   "cell_type": "code",
   "execution_count": 6,
   "id": "d0b29179",
   "metadata": {},
   "outputs": [
    {
     "name": "stdout",
     "output_type": "stream",
     "text": [
      "/wynton/group/sali/mhancock/mtorc2/exp_13/116/analysis/693502/sampcon_4/gsms/1000_edit/A.rmf3 0\n",
      "-10.476304769515991\n",
      "/wynton/group/sali/mhancock/mtorc2/exp_13/116/analysis/693502/sampcon_4/gsms/1000_edit/A.rmf3 1\n",
      "-8.984430313110352\n",
      "/wynton/group/sali/mhancock/mtorc2/exp_13/116/analysis/693502/sampcon_4/gsms/1000_edit/A.rmf3 2\n",
      "-8.736343145370483\n",
      "/wynton/group/sali/mhancock/mtorc2/exp_13/116/analysis/693502/sampcon_4/gsms/1000_edit/A.rmf3 3\n",
      "-8.803475141525269\n",
      "/wynton/group/sali/mhancock/mtorc2/exp_13/116/analysis/693502/sampcon_4/gsms/1000_edit/A.rmf3 4\n",
      "-8.689037084579468\n",
      "/wynton/group/sali/mhancock/mtorc2/exp_13/116/analysis/693502/sampcon_4/gsms/1000_edit/A.rmf3 5\n",
      "-8.702443361282349\n",
      "/wynton/group/sali/mhancock/mtorc2/exp_13/116/analysis/693502/sampcon_4/gsms/1000_edit/A.rmf3 6\n",
      "-8.698261976242065\n",
      "/wynton/group/sali/mhancock/mtorc2/exp_13/116/analysis/693502/sampcon_4/gsms/1000_edit/A.rmf3 7\n",
      "-8.810563087463379\n",
      "/wynton/group/sali/mhancock/mtorc2/exp_13/116/analysis/693502/sampcon_4/gsms/1000_edit/A.rmf3 8\n",
      "-8.814204692840576\n",
      "/wynton/group/sali/mhancock/mtorc2/exp_13/116/analysis/693502/sampcon_4/gsms/1000_edit/A.rmf3 9\n",
      "-9.877946853637695\n"
     ]
    }
   ],
   "source": [
    "\n",
    "kappa = 10\n",
    "\n",
    "ev_dict = dict()\n",
    "# for rmf_file, frame_num in models[:10]:\n",
    "# for i in range(len(models)):\n",
    "for i in range(10):\n",
    "    t0 = time.time()\n",
    "    rmf_file, frame_num = models[i]\n",
    "    print(rmf_file, frame_num)\n",
    "    included_objects = list()\n",
    "    fh = RMF.open_rmf_file_read_only(str(rmf_file))\n",
    "    m = IMP.Model()\n",
    "    h = IMP.rmf.create_hierarchies(fh, m)[0]\n",
    "    IMP.rmf.load_frame(fh, RMF.FrameID(frame_num))\n",
    "    for i in range(0,10,2):\n",
    "        h_mol = h.get_children()[0].get_children()[i]\n",
    "        included_objects.append(h_mol)\n",
    "\n",
    "    hierarchies = IMP.pmi.tools.input_adaptor(included_objects,\n",
    "                                              10,\n",
    "                                              flatten=True)\n",
    "    mdl = hierarchies[0].get_model()\n",
    "    included_ps = [h.get_particle() for h in hierarchies]\n",
    "\n",
    "    for j in range(len(included_ps)):\n",
    "        for k in range(len(included_ps)):\n",
    "            pt_0 = included_ps[i]\n",
    "            pt_1 = included_ps[j]\n",
    "\n",
    "            xyz_0 = IMP.core.XYZR(pt_0)\n",
    "            xyz_1 = IMP.core.XYZR(pt_1)\n",
    "            d = IMP.algebra.get_distance(xyz_0.get_sphere(), xyz_1.get_sphere())\n",
    "            ev_matrix[j,k,i] = d\n",
    "            ev_matrix[k,j,i] = d\n",
    "    t1 = time.time()\n",
    "    print(t0 - t1)\n"
   ]
  },
  {
   "cell_type": "code",
   "execution_count": 60,
   "id": "b61a3f9c",
   "metadata": {},
   "outputs": [
    {
     "name": "stdout",
     "output_type": "stream",
     "text": [
      "[\"1\", \"Fragment [2-12)\", \"Fragment [12-22)\", \"Fragment [22-32)\", \"Fragment [32-42)\", \"Fragment [42-50)\", \"50-59_bead\", \"60-69_bead\", \"70-76_bead\", \"Fragment [77-87)\", \"Fragment [87-97)\", \"Fragment [97-107)\", \"Fragment [107-117)\", \"Fragment [117-127)\", \"Fragment [127-133)\"]\n"
     ]
    }
   ],
   "source": [
    "print(included_ps[477:492])"
   ]
  },
  {
   "cell_type": "code",
   "execution_count": 27,
   "id": "d545d521",
   "metadata": {},
   "outputs": [],
   "source": [
    "ranges_dict = {}\n",
    "ranges_dict[\"MTOR\"] = range(267)\n",
    "ranges_dict[\"RICTOR\"] = range(267,443)\n",
    "ranges_dict[\"MLST8\"] = range(443,477)\n",
    "ranges_dict[\"MSIN1_0\"] = range(477,492)\n",
    "ranges_dict[\"MSIN1_1\"] = range(492,536)\n",
    "ranges_dict[\"AKT1\"] = range(536,589)"
   ]
  },
  {
   "cell_type": "code",
   "execution_count": 18,
   "id": "a4b5f81e",
   "metadata": {},
   "outputs": [
    {
     "data": {
      "text/plain": [
       "157263"
      ]
     },
     "execution_count": 18,
     "metadata": {},
     "output_type": "execute_result"
    }
   ],
   "source": [
    "len(ranges_dict[\"MTOR\"])  * 589"
   ]
  },
  {
   "cell_type": "code",
   "execution_count": 28,
   "id": "708f650f",
   "metadata": {},
   "outputs": [
    {
     "name": "stdout",
     "output_type": "stream",
     "text": [
      "MTOR [0, 1, 2, 3, 4, 5, 6, 7, 8, 9, 10, 11, 12, 13, 14, 15, 16, 17, 18, 19, 20, 21, 22, 23, 24, 25, 26, 27, 28, 29, 30, 31, 32, 33, 34, 35, 36, 37, 38, 39, 40, 41, 42, 43, 44, 45, 46, 47, 48, 49, 50, 51, 52, 53, 54, 55, 56, 57, 58, 59, 60, 61, 62, 63, 64, 65, 66, 67, 68, 69, 70, 71, 72, 73, 74, 75, 76, 77, 78, 79, 80, 81, 82, 83, 84, 85, 86, 87, 88, 89, 90, 91, 92, 93, 94, 95, 96, 97, 98, 99, 100, 101, 102, 103, 104, 105, 106, 107, 108, 109, 110, 111, 112, 113, 114, 115, 116, 117, 118, 119, 120, 121, 122, 123, 124, 125, 126, 127, 128, 129, 130, 131, 132, 133, 134, 135, 136, 137, 138, 139, 140, 141, 142, 143, 144, 145, 146, 147, 148, 149, 150, 151, 152, 153, 154, 155, 156, 157, 158, 159, 160, 161, 162, 163, 164, 165, 166, 167, 168, 169, 170, 171, 172, 173, 174, 175, 176, 177, 178, 179, 180, 181, 182, 183, 184, 185, 186, 187, 188, 189, 190, 191, 192, 193, 194, 195, 196, 197, 198, 199, 200, 201, 202, 203, 204, 205, 206, 207, 208, 209, 210, 211, 212, 213, 214, 215, 216, 217, 218, 219, 220, 221, 222, 223, 224, 225, 226, 227, 228, 229, 230, 231, 232, 233, 234, 235, 236, 237, 238, 239, 240, 241, 242, 243, 244, 245, 246, 247, 248, 249, 250, 251, 252, 253, 254, 255, 256, 257, 258, 259, 260, 261, 262, 263, 264, 265, 266]\n",
      "RICTOR [267, 268, 269, 270, 271, 272, 273, 274, 275, 276, 277, 278, 279, 280, 281, 282, 283, 284, 285, 286, 287, 288, 289, 290, 291, 292, 293, 294, 295, 296, 297, 298, 299, 300, 301, 302, 303, 304, 305, 306, 307, 308, 309, 310, 311, 312, 313, 314, 315, 316, 317, 318, 319, 320, 321, 322, 323, 324, 325, 326, 327, 328, 329, 330, 331, 332, 333, 334, 335, 336, 337, 338, 339, 340, 341, 342, 343, 344, 345, 346, 347, 348, 349, 350, 351, 352, 353, 354, 355, 356, 357, 358, 359, 360, 361, 362, 363, 364, 365, 366, 367, 368, 369, 370, 371, 372, 373, 374, 375, 376, 377, 378, 379, 380, 381, 382, 383, 384, 385, 386, 387, 388, 389, 390, 391, 392, 393, 394, 395, 396, 397, 398, 399, 400, 401, 402, 403, 404, 405, 406, 407, 408, 409, 410, 411, 412, 413, 414, 415, 416, 417, 418, 419, 420, 421, 422, 423, 424, 425, 426, 427, 428, 429, 430, 431, 432, 433, 434, 435, 436, 437, 438, 439, 440, 441, 442]\n",
      "MLST8 [443, 444, 445, 446, 447, 448, 449, 450, 451, 452, 453, 454, 455, 456, 457, 458, 459, 460, 461, 462, 463, 464, 465, 466, 467, 468, 469, 470, 471, 472, 473, 474, 475, 476]\n",
      "MSIN1_0 [477, 478, 479, 480, 481, 482, 483, 484, 485, 486, 487, 488, 489, 490, 491]\n",
      "MSIN1_1 [492, 493, 494, 495, 496, 497, 498, 499, 500, 501, 502, 503, 504, 505, 506, 507, 508, 509, 510, 511, 512, 513, 514, 515, 516, 517, 518, 519, 520, 521, 522, 523, 524, 525, 526, 527, 528, 529, 530, 531, 532, 533, 534, 535]\n",
      "AKT1 [536, 537, 538, 539, 540, 541, 542, 543, 544, 545, 546, 547, 548, 549, 550, 551, 552, 553, 554, 555, 556, 557, 558, 559, 560, 561, 562, 563, 564, 565, 566, 567, 568, 569, 570, 571, 572, 573, 574, 575, 576, 577, 578, 579, 580, 581, 582, 583, 584, 585, 586, 587, 588]\n"
     ]
    }
   ],
   "source": [
    "for mol in ranges_dict.keys():\n",
    "    print(mol, list(ranges_dict[mol]))"
   ]
  },
  {
   "cell_type": "code",
   "execution_count": 35,
   "id": "8d226287",
   "metadata": {},
   "outputs": [],
   "source": [
    "def non_motive_ev_pairs(\n",
    "    mol,\n",
    "    bead2_mols\n",
    "):\n",
    "    mol = \"MTOR\"\n",
    "    ev_pairs = list()\n",
    "    for bead1_id in ranges_dict[mol]:\n",
    "        bead1 = included_ps[bead1_id]\n",
    "        bead1_name = str(bead1).split(\"\\\"\")[1]\n",
    "\n",
    "        bead2_list = list()\n",
    "        if \"bead\" in bead1_name:\n",
    "            for bead2_mol in bead2_mols:\n",
    "#                 print(bead2_mol, list(ranges_dict[bead2_mol]))\n",
    "                bead2_list.extend(list(ranges_dict[bead2_mol]))\n",
    "        else:\n",
    "            for bead2_mol in list(set([\"AKT1\", \"MSIN1_1\"])-set([mol])):\n",
    "                bead2_list.extend(list(ranges_dict[bead2_mol]))\n",
    "\n",
    "#         print(bead1, len(bead2_list), bead2_list)\n",
    "        for bead2_id in bead2_list:\n",
    "            if bead2_id != bead1_id:\n",
    "                ev_pairs.append((bead1_id, bead2_id))\n",
    "\n",
    "    return ev_pairs\n"
   ]
  },
  {
   "cell_type": "code",
   "execution_count": 54,
   "id": "e2a27df7",
   "metadata": {},
   "outputs": [
    {
     "name": "stdout",
     "output_type": "stream",
     "text": [
      "345744\n"
     ]
    }
   ],
   "source": [
    "import itertools\n",
    "bead1_ids = list(range(588))\n",
    "bead2_ids = list(range(588))\n",
    "ev_pairs = list(itertools.product(bead1_ids, bead2_ids))\n",
    "print(len(ev_pairs))\n"
   ]
  },
  {
   "cell_type": "code",
   "execution_count": 66,
   "id": "e7fdf9d3",
   "metadata": {},
   "outputs": [
    {
     "data": {
      "text/plain": [
       "172578"
      ]
     },
     "execution_count": 66,
     "metadata": {},
     "output_type": "execute_result"
    }
   ],
   "source": [
    "## Remove duplicates and self pairs\n",
    "ev_pairs_filter = set(ev_pairs.copy())\n",
    "for ev_pair in ev_pairs:\n",
    "    ev_pair_dup = (ev_pair[1], ev_pair[0])\n",
    "    if ev_pair in ev_pairs_filter and ev_pair_dup in ev_pairs_filter:\n",
    "        ev_pairs_filter.remove(ev_pair_dup)\n",
    "\n",
    "len(ev_pairs_filter)"
   ]
  },
  {
   "cell_type": "code",
   "execution_count": null,
   "id": "77bc39f3",
   "metadata": {},
   "outputs": [],
   "source": [
    "## Remove mTOR, Rictor, mLST8, mSin1 rigid body rigid body pairs\n",
    "rb_rb_pairs = list()\n",
    "for mol1 in [\"MTOR\", \"RICTOR\", \"MLST8\", \"MSIN1_0\"]:\n",
    "    for mol2 in [\"MTOR\", \"RICTOR\", \"MLST8\", \"MSIN1_0\"]:\n",
    "        for bead1_id in ranges_dict[mol]:\n",
    "            for bead2_id in ranges_dict[mol]:\n",
    "                bead1 = included_ps[bead1_id]\n",
    "                bead2 = included_ps[bead2_id]\n",
    "\n",
    "\n",
    "#             bead1_name = str(bead1).split(\"\\\"\")[1]\n",
    "\n",
    "#             bead2_list = list()\n",
    "#             if \"bead\" in bead1_name:\n",
    "#                 for bead2_mol in bead2_mols:\n",
    "#         #                 print(bead2_mol, list(ranges_dict[bead2_mol]))\n",
    "#                     bead2_list.extend(list(ranges_dict[bead2_mol]))\n",
    "#             else:\n",
    "#                 for bead2_mol in list(set([\"AKT1\", \"MSIN1_1\"])-set([mol])):\n",
    "#                     bead2_list.extend(list(ranges_dict[bead2_mol]))\n",
    "\n",
    "#         #         print(bead1, len(bead2_list), bead2_list)\n",
    "#             for bead2_id in bead2_list:\n",
    "#                 if bead2_id != bead1_id:\n",
    "#                     ev_pairs.append((bead1_id, bead2_id))\n",
    "\n",
    "#         return ev_pairs\n"
   ]
  },
  {
   "cell_type": "code",
   "execution_count": 36,
   "id": "46abdcbf",
   "metadata": {},
   "outputs": [
    {
     "data": {
      "text/plain": [
       "45048"
      ]
     },
     "execution_count": 36,
     "metadata": {},
     "output_type": "execute_result"
    }
   ],
   "source": [
    "len(non_motive_ev_pairs(\"MTOR\", [\"MTOR\", \"RICTOR\", \"MLST8\", \"MSIN1_0\", \"MSIN1_1\", \"AKT1\"]))\n"
   ]
  },
  {
   "cell_type": "code",
   "execution_count": 31,
   "id": "975188d3",
   "metadata": {},
   "outputs": [
    {
     "name": "stdout",
     "output_type": "stream",
     "text": [
      "RICTOR [267, 268, 269, 270, 271, 272, 273, 274, 275, 276, 277, 278, 279, 280, 281, 282, 283, 284, 285, 286, 287, 288, 289, 290, 291, 292, 293, 294, 295, 296, 297, 298, 299, 300, 301, 302, 303, 304, 305, 306, 307, 308, 309, 310, 311, 312, 313, 314, 315, 316, 317, 318, 319, 320, 321, 322, 323, 324, 325, 326, 327, 328, 329, 330, 331, 332, 333, 334, 335, 336, 337, 338, 339, 340, 341, 342, 343, 344, 345, 346, 347, 348, 349, 350, 351, 352, 353, 354, 355, 356, 357, 358, 359, 360, 361, 362, 363, 364, 365, 366, 367, 368, 369, 370, 371, 372, 373, 374, 375, 376, 377, 378, 379, 380, 381, 382, 383, 384, 385, 386, 387, 388, 389, 390, 391, 392, 393, 394, 395, 396, 397, 398, 399, 400, 401, 402, 403, 404, 405, 406, 407, 408, 409, 410, 411, 412, 413, 414, 415, 416, 417, 418, 419, 420, 421, 422, 423, 424, 425, 426, 427, 428, 429, 430, 431, 432, 433, 434, 435, 436, 437, 438, 439, 440, 441, 442]\n",
      "MLST8 [443, 444, 445, 446, 447, 448, 449, 450, 451, 452, 453, 454, 455, 456, 457, 458, 459, 460, 461, 462, 463, 464, 465, 466, 467, 468, 469, 470, 471, 472, 473, 474, 475, 476]\n",
      "MSIN1_0 [477, 478, 479, 480, 481, 482, 483, 484, 485, 486, 487, 488, 489, 490, 491]\n",
      "MSIN1_1 [492, 493, 494, 495, 496, 497, 498, 499, 500, 501, 502, 503, 504, 505, 506, 507, 508, 509, 510, 511, 512, 513, 514, 515, 516, 517, 518, 519, 520, 521, 522, 523, 524, 525, 526, 527, 528, 529, 530, 531, 532, 533, 534, 535]\n",
      "AKT1 [536, 537, 538, 539, 540, 541, 542, 543, 544, 545, 546, 547, 548, 549, 550, 551, 552, 553, 554, 555, 556, 557, 558, 559, 560, 561, 562, 563, 564, 565, 566, 567, 568, 569, 570, 571, 572, 573, 574, 575, 576, 577, 578, 579, 580, 581, 582, 583, 584, 585, 586, 587, 588]\n",
      "\"1-10_bead\" 322 [267, 268, 269, 270, 271, 272, 273, 274, 275, 276, 277, 278, 279, 280, 281, 282, 283, 284, 285, 286, 287, 288, 289, 290, 291, 292, 293, 294, 295, 296, 297, 298, 299, 300, 301, 302, 303, 304, 305, 306, 307, 308, 309, 310, 311, 312, 313, 314, 315, 316, 317, 318, 319, 320, 321, 322, 323, 324, 325, 326, 327, 328, 329, 330, 331, 332, 333, 334, 335, 336, 337, 338, 339, 340, 341, 342, 343, 344, 345, 346, 347, 348, 349, 350, 351, 352, 353, 354, 355, 356, 357, 358, 359, 360, 361, 362, 363, 364, 365, 366, 367, 368, 369, 370, 371, 372, 373, 374, 375, 376, 377, 378, 379, 380, 381, 382, 383, 384, 385, 386, 387, 388, 389, 390, 391, 392, 393, 394, 395, 396, 397, 398, 399, 400, 401, 402, 403, 404, 405, 406, 407, 408, 409, 410, 411, 412, 413, 414, 415, 416, 417, 418, 419, 420, 421, 422, 423, 424, 425, 426, 427, 428, 429, 430, 431, 432, 433, 434, 435, 436, 437, 438, 439, 440, 441, 442, 443, 444, 445, 446, 447, 448, 449, 450, 451, 452, 453, 454, 455, 456, 457, 458, 459, 460, 461, 462, 463, 464, 465, 466, 467, 468, 469, 470, 471, 472, 473, 474, 475, 476, 477, 478, 479, 480, 481, 482, 483, 484, 485, 486, 487, 488, 489, 490, 491, 492, 493, 494, 495, 496, 497, 498, 499, 500, 501, 502, 503, 504, 505, 506, 507, 508, 509, 510, 511, 512, 513, 514, 515, 516, 517, 518, 519, 520, 521, 522, 523, 524, 525, 526, 527, 528, 529, 530, 531, 532, 533, 534, 535, 536, 537, 538, 539, 540, 541, 542, 543, 544, 545, 546, 547, 548, 549, 550, 551, 552, 553, 554, 555, 556, 557, 558, 559, 560, 561, 562, 563, 564, 565, 566, 567, 568, 569, 570, 571, 572, 573, 574, 575, 576, 577, 578, 579, 580, 581, 582, 583, 584, 585, 586, 587, 588]\n"
     ]
    },
    {
     "data": {
      "text/plain": [
       "322"
      ]
     },
     "execution_count": 31,
     "metadata": {},
     "output_type": "execute_result"
    }
   ],
   "source": [
    "len(non_motive_ev_pairs(\"RICTOR\", [\"RICTOR\", \"MLST8\", \"MSIN1_0\", \"MSIN1_1\", \"AKT1\"]))\n"
   ]
  },
  {
   "cell_type": "code",
   "execution_count": 16,
   "id": "6a72c87a",
   "metadata": {},
   "outputs": [
    {
     "data": {
      "text/plain": [
       "162792"
      ]
     },
     "execution_count": 16,
     "metadata": {},
     "output_type": "execute_result"
    }
   ],
   "source": [
    "len(non_motive_ev_pairs(\"MLST8\", [\"MLST8\", \"MSIN1_0\", \"MSIN1_1\", \"AKT1\"]))\n"
   ]
  },
  {
   "cell_type": "code",
   "execution_count": 68,
   "id": "f333715e",
   "metadata": {},
   "outputs": [
    {
     "data": {
      "text/plain": [
       "{'AKT1', 'MLST8', 'MSIN1_0', 'MSIN1_1', 'MTOR', 'RICTOR'}"
      ]
     },
     "execution_count": 68,
     "metadata": {},
     "output_type": "execute_result"
    }
   ],
   "source": [
    "set(ranges_dict.keys()) - set(\"MTOR\")"
   ]
  },
  {
   "cell_type": "code",
   "execution_count": 63,
   "id": "39d9a315",
   "metadata": {},
   "outputs": [
    {
     "data": {
      "text/plain": [
       "22932"
      ]
     },
     "execution_count": 63,
     "metadata": {},
     "output_type": "execute_result"
    }
   ],
   "source": [
    "len(ev_pairs)"
   ]
  },
  {
   "cell_type": "code",
   "execution_count": 46,
   "id": "9c447600",
   "metadata": {},
   "outputs": [
    {
     "data": {
      "text/plain": [
       "589"
      ]
     },
     "execution_count": 46,
     "metadata": {},
     "output_type": "execute_result"
    }
   ],
   "source": [
    "len(included_ps)"
   ]
  },
  {
   "cell_type": "code",
   "execution_count": null,
   "id": "0c8cae50",
   "metadata": {},
   "outputs": [],
   "source": [
    "m.get_particle_name(pt_1)"
   ]
  },
  {
   "cell_type": "code",
   "execution_count": null,
   "id": "cf838c97",
   "metadata": {},
   "outputs": [],
   "source": [
    "IMP.atom.Domain(pt_0)"
   ]
  },
  {
   "cell_type": "code",
   "execution_count": null,
   "id": "5037606c",
   "metadata": {},
   "outputs": [],
   "source": [
    "list(ev_dict.keys())[0]"
   ]
  },
  {
   "cell_type": "code",
   "execution_count": null,
   "id": "8b328d3f",
   "metadata": {},
   "outputs": [],
   "source": [
    "589 * 589"
   ]
  },
  {
   "cell_type": "code",
   "execution_count": null,
   "id": "76f3761f",
   "metadata": {},
   "outputs": [],
   "source": [
    "print(len(ev_dict))"
   ]
  },
  {
   "cell_type": "code",
   "execution_count": null,
   "id": "b1deb093",
   "metadata": {},
   "outputs": [],
   "source": [
    "for key in ev_dict.keys():\n",
    "    print(len(ev_dict[key]))"
   ]
  },
  {
   "cell_type": "code",
   "execution_count": null,
   "id": "6f6f014f",
   "metadata": {},
   "outputs": [],
   "source": [
    "print(len(ev_dict.keys()))"
   ]
  },
  {
   "cell_type": "code",
   "execution_count": null,
   "id": "f33066c8",
   "metadata": {},
   "outputs": [],
   "source": [
    "ev_df = pd.DataFrame(ev_dict)\n",
    "ev_df.to_csv(Path(Path.home(), \"mtorc2/manuscript/submission/models/116_693502_3/cluster.0/ev.csv\"))"
   ]
  },
  {
   "cell_type": "code",
   "execution_count": null,
   "id": "055807f5",
   "metadata": {
    "scrolled": true
   },
   "outputs": [],
   "source": [
    "rbcpf.get_close_pairs()"
   ]
  },
  {
   "cell_type": "code",
   "execution_count": null,
   "id": "3fbc39a3",
   "metadata": {},
   "outputs": [],
   "source": [
    "\"{},{}\".format(str(close_pairs[0][0]), str(close_pairs[0][1]))"
   ]
  },
  {
   "cell_type": "code",
   "execution_count": null,
   "id": "f8c255fd",
   "metadata": {
    "scrolled": true
   },
   "outputs": [],
   "source": [
    "cpc.get_indexes()"
   ]
  },
  {
   "cell_type": "code",
   "execution_count": null,
   "id": "196bcb08",
   "metadata": {},
   "outputs": [],
   "source": [
    "evr.evaluate(False)"
   ]
  },
  {
   "cell_type": "code",
   "execution_count": 68,
   "id": "a92417f7",
   "metadata": {},
   "outputs": [],
   "source": [
    "std_dev = -math.sqrt(1.380649 * 10**(-23) * 310 / 1) * 10**10\n"
   ]
  },
  {
   "cell_type": "code",
   "execution_count": 69,
   "id": "091bac67",
   "metadata": {},
   "outputs": [
    {
     "data": {
      "text/plain": [
       "-1.9626539965057521"
      ]
     },
     "execution_count": 69,
     "metadata": {},
     "output_type": "execute_result"
    }
   ],
   "source": [
    "std_dev * 3"
   ]
  },
  {
   "cell_type": "code",
   "execution_count": 70,
   "id": "905b6d68",
   "metadata": {},
   "outputs": [],
   "source": [
    "dist_matrix_merge = np.load(Path(Path.home(), \"mtorc2/manuscript/submission/models/116_693502_3/cluster.0/distances.npy\"))\n",
    "ev_sat = np.where(dist_matrix_merge > 3 * std_dev, 0, 1)\n",
    "\n",
    "\n"
   ]
  },
  {
   "cell_type": "code",
   "execution_count": 71,
   "id": "bb237d67",
   "metadata": {},
   "outputs": [
    {
     "name": "stdout",
     "output_type": "stream",
     "text": [
      "542 544 1923\n",
      "104 139 1923\n",
      "449 451 1923\n",
      "209 210 1923\n",
      "304 341 1923\n",
      "389 402 1\n",
      "472 474 1923\n",
      "142 143 1923\n",
      "230 234 1923\n",
      "345 348 1923\n",
      "111 115 1923\n",
      "212 224 1923\n",
      "367 412 1923\n",
      "425 426 1\n",
      "305 356 1923\n",
      "454 455 1923\n",
      "445 474 1923\n",
      "223 227 1923\n",
      "541 581 1\n",
      "431 435 1923\n",
      "566 567 1923\n",
      "127 130 1923\n",
      "213 223 1923\n",
      "462 464 1923\n",
      "103 104 1923\n",
      "574 575 1923\n",
      "20 24 1923\n",
      "569 573 1923\n",
      "444 446 1923\n",
      "158 159 1923\n",
      "395 397 1\n",
      "496 506 1\n",
      "470 472 1923\n",
      "496 498 1923\n",
      "140 141 1923\n",
      "218 292 1923\n",
      "447 449 1923\n",
      "465 470 1923\n",
      "525 527 1923\n",
      "135 139 13\n",
      "270 271 1923\n",
      "151 152 1923\n",
      "218 293 1923\n",
      "213 217 1923\n",
      "94 98 1923\n",
      "169 173 1923\n",
      "120 124 1923\n",
      "273 277 1923\n",
      "448 475 1923\n",
      "177 179 1923\n",
      "565 570 1923\n",
      "512 513 1923\n",
      "538 539 1923\n",
      "541 544 1923\n",
      "185 187 1923\n",
      "21 24 1923\n",
      "564 565 1923\n",
      "523 524 1\n",
      "359 361 1923\n",
      "362 366 1923\n",
      "290 478 1923\n",
      "460 462 1923\n",
      "226 229 1923\n",
      "430 439 1923\n",
      "310 315 1923\n",
      "60 61 1923\n",
      "445 447 1923\n",
      "557 558 1923\n",
      "50 56 1923\n",
      "364 413 1923\n",
      "253 261 1923\n",
      "471 473 1923\n",
      "63 64 1\n",
      "107 111 1923\n",
      "572 574 1923\n",
      "453 455 1923\n",
      "24 31 1923\n",
      "273 483 1\n",
      "227 228 1923\n",
      "175 176 1923\n",
      "144 148 1923\n",
      "331 332 1923\n",
      "453 456 1923\n",
      "328 329 1923\n",
      "284 437 1923\n",
      "276 277 1923\n",
      "14 19 1923\n",
      "357 358 1923\n",
      "149 151 1923\n",
      "243 250 1923\n",
      "434 487 1923\n",
      "352 356 1923\n",
      "458 459 1923\n",
      "339 340 1923\n",
      "298 307 1923\n",
      "510 511 1923\n",
      "282 286 1923\n",
      "334 338 1923\n",
      "56 59 1923\n",
      "477 478 1\n",
      "222 293 1923\n",
      "1 5 1\n",
      "532 533 1\n",
      "558 559 1923\n",
      "537 544 1923\n",
      "581 582 1\n",
      "503 505 1923\n",
      "105 109 1923\n",
      "451 453 1923\n",
      "9 11 1923\n",
      "90 94 1923\n",
      "116 120 1923\n",
      "225 226 1923\n",
      "303 304 1923\n",
      "455 489 1923\n",
      "451 454 1923\n",
      "207 208 1923\n",
      "173 175 1923\n",
      "137 144 1923\n",
      "236 237 1923\n",
      "555 558 1923\n",
      "202 206 1923\n",
      "509 514 1923\n",
      "262 263 1923\n",
      "462 465 1923\n",
      "233 243 1923\n",
      "348 357 1923\n",
      "543 556 1\n",
      "348 349 1923\n",
      "571 572 1923\n",
      "452 453 1923\n",
      "525 528 1923\n",
      "527 528 1923\n",
      "551 554 2\n",
      "444 448 1923\n",
      "158 161 1923\n",
      "155 158 1923\n",
      "504 505 1923\n",
      "98 169 1923\n",
      "252 262 1923\n",
      "18 19 1923\n",
      "301 309 1923\n",
      "44 45 1\n",
      "244 247 1923\n",
      "70 71 1923\n",
      "553 555 1923\n",
      "270 273 1923\n",
      "31 46 1923\n",
      "114 118 1923\n",
      "499 504 1923\n",
      "249 250 1923\n",
      "305 345 1923\n",
      "297 413 1923\n",
      "156 157 1923\n",
      "301 302 1923\n",
      "286 287 1923\n",
      "364 365 1923\n",
      "200 204 1923\n",
      "304 316 1923\n",
      "512 515 1923\n",
      "278 282 1923\n",
      "231 233 1923\n",
      "538 541 1923\n",
      "333 337 1923\n",
      "52 55 1\n",
      "359 363 1923\n",
      "164 166 1923\n",
      "312 314 1923\n",
      "78 81 1923\n",
      "543 544 1923\n",
      "502 503 1923\n",
      "570 576 1923\n",
      "330 335 1923\n",
      "346 348 1923\n",
      "368 412 1923\n",
      "138 141 1923\n",
      "453 457 1923\n",
      "513 514 1923\n",
      "11 15 1923\n",
      "89 93 1923\n",
      "86 90 1923\n",
      "323 328 1923\n",
      "112 116 1923\n",
      "552 559 1923\n",
      "247 248 1923\n",
      "291 414 1923\n",
      "19 23 1923\n",
      "235 246 1923\n",
      "510 512 1923\n",
      "123 127 1923\n",
      "539 541 1923\n",
      "180 181 1923\n",
      "435 438 1923\n",
      "310 311 1923\n",
      "139 140 1923\n",
      "336 337 1923\n",
      "284 285 1923\n",
      "536 539 1923\n",
      "568 581 1\n",
      "217 218 1923\n",
      "292 293 1923\n",
      "87 89 1923\n",
      "318 319 1\n",
      "214 216 1923\n",
      "326 333 1923\n",
      "560 568 1\n",
      "191 193 1\n",
      "456 457 1923\n",
      "58 61 1923\n",
      "495 499 1923\n",
      "14 15 1923\n",
      "521 525 1923\n",
      "537 538 1923\n",
      "92 93 1923\n",
      "22 23 1923\n",
      "456 458 1923\n",
      "167 168 1923\n",
      "555 559 1923\n",
      "199 202 1923\n",
      "519 529 1923\n",
      "256 257 1\n",
      "282 283 1923\n",
      "519 521 1923\n",
      "121 125 1923\n",
      "308 309 1923\n",
      "137 138 1923\n",
      "334 335 1923\n",
      "337 340 1923\n",
      "163 164 1923\n",
      "181 185 1923\n",
      "290 291 1923\n",
      "23 30 1923\n",
      "238 239 1923\n",
      "267 268 1\n",
      "184 188 1923\n",
      "80 85 1923\n",
      "289 479 1923\n",
      "498 499 1923\n",
      "208 225 1923\n",
      "288 292 1923\n",
      "475 476 1\n",
      "254 261 1923\n",
      "51 57 1923\n",
      "236 241 1923\n",
      "457 458 1923\n",
      "12 13 1923\n",
      "509 510 1923\n",
      "20 21 1923\n",
      "457 459 1923\n",
      "569 570 1923\n",
      "49 50 1923\n",
      "127 128 1923\n",
      "322 327 1923\n",
      "93 97 1923\n",
      "202 203 1923\n",
      "153 154 1923\n",
      "150 151 1923\n",
      "119 123 1923\n",
      "228 229 1923\n",
      "465 467 1923\n",
      "67 71 1923\n",
      "208 211 1923\n",
      "83 84 1923\n",
      "280 281 1923\n",
      "41 46 1923\n",
      "460 465 1923\n",
      "172 173 1923\n",
      "366 367 1923\n",
      "299 308 1923\n",
      "161 163 1923\n",
      "283 287 1923\n",
      "392 393 1\n",
      "343 344 1923\n",
      "361 365 1923\n",
      "187 189 1923\n",
      "502 505 1923\n",
      "338 342 1923\n",
      "351 361 1923\n",
      "454 489 1923\n",
      "91 94 1923\n",
      "172 175 1923\n",
      "47 48 1\n",
      "73 74 1\n",
      "302 315 1923\n",
      "148 149 1923\n",
      "331 336 1923\n",
      "200 201 1923\n",
      "81 82 1923\n",
      "357 362 1923\n",
      "466 468 1923\n",
      "103 146 1923\n",
      "541 543 1923\n",
      "461 466 1923\n",
      "336 339 1923\n",
      "243 246 1923\n",
      "328 334 1923\n",
      "552 554 1923\n",
      "30 45 1923\n",
      "144 145 1923\n",
      "341 342 1923\n",
      "170 171 1923\n",
      "311 411 1\n",
      "159 161 1923\n",
      "552 555 1923\n",
      "510 516 1\n",
      "375 376 1\n",
      "326 327 1923\n",
      "453 454 1923\n",
      "219 221 1923\n",
      "526 529 1923\n",
      "366 412 1923\n",
      "311 412 1923\n",
      "479 480 1923\n",
      "448 452 1923\n",
      "271 273 1923\n",
      "277 281 1923\n",
      "189 199 1923\n",
      "433 437 1923\n",
      "251 264 1923\n",
      "293 295 1923\n",
      "53 54 1\n",
      "233 246 1923\n",
      "204 207 1923\n",
      "444 475 1923\n",
      "79 80 1923\n",
      "105 106 1923\n"
     ]
    }
   ],
   "source": [
    "unsat = 0\n",
    "total = 0\n",
    "for pair in ev_pairs_filter:\n",
    "    if np.sum(ev_sat[pair[0],pair[1],:]) > 0:\n",
    "        unsat = unsat + 1\n",
    "        print(pair[0],pair[1],np.sum(ev_sat[pair[0],pair[1],:]))\n",
    "    total = total + 1"
   ]
  },
  {
   "cell_type": "code",
   "execution_count": 72,
   "id": "552fedba",
   "metadata": {},
   "outputs": [
    {
     "name": "stdout",
     "output_type": "stream",
     "text": [
      "326 172578\n"
     ]
    }
   ],
   "source": [
    "print(unsat, total)"
   ]
  },
  {
   "cell_type": "code",
   "execution_count": 29,
   "id": "f7ded4c6",
   "metadata": {},
   "outputs": [
    {
     "name": "stdout",
     "output_type": "stream",
     "text": [
      "1 5 1\n",
      "9 11 1923\n",
      "11 15 1923\n",
      "12 13 1923\n",
      "14 15 1923\n",
      "14 19 1923\n",
      "18 19 1923\n",
      "19 23 1923\n",
      "20 21 1923\n",
      "20 24 1923\n",
      "21 24 1923\n",
      "22 23 1923\n",
      "23 30 1923\n",
      "24 31 1923\n",
      "30 45 1923\n",
      "31 46 1923\n",
      "41 46 1923\n",
      "44 45 1\n",
      "47 48 1\n",
      "49 50 1923\n",
      "50 56 1923\n",
      "51 57 1923\n",
      "52 55 1\n",
      "53 54 1\n",
      "56 59 1923\n",
      "58 61 1923\n",
      "60 61 1923\n",
      "63 64 1\n",
      "67 71 1923\n",
      "70 71 1923\n",
      "73 74 1\n",
      "78 81 1923\n",
      "79 80 1923\n",
      "80 85 1923\n",
      "81 82 1923\n",
      "83 84 1923\n",
      "86 90 1923\n",
      "87 89 1923\n",
      "89 93 1923\n",
      "90 94 1923\n",
      "91 94 1923\n",
      "92 93 1923\n",
      "93 97 1923\n",
      "94 98 1923\n",
      "98 169 1923\n",
      "103 104 1923\n",
      "103 146 1923\n",
      "104 139 1923\n",
      "105 106 1923\n",
      "105 109 1923\n",
      "107 111 1923\n",
      "111 115 1923\n",
      "112 116 1923\n",
      "114 118 1923\n",
      "116 120 1923\n",
      "119 123 1923\n",
      "120 124 1923\n",
      "121 125 1923\n",
      "123 127 1923\n",
      "127 128 1923\n",
      "127 130 1923\n",
      "135 139 13\n",
      "137 138 1923\n",
      "137 144 1923\n",
      "138 141 1923\n",
      "139 140 1923\n",
      "140 141 1923\n",
      "142 143 1923\n",
      "144 145 1923\n",
      "144 148 1923\n",
      "148 149 1923\n",
      "149 151 1923\n",
      "150 151 1923\n",
      "151 152 1923\n",
      "153 154 1923\n",
      "155 158 1923\n",
      "156 157 1923\n",
      "158 159 1923\n",
      "158 161 1923\n",
      "159 161 1923\n",
      "161 163 1923\n",
      "163 164 1923\n",
      "164 166 1923\n",
      "167 168 1923\n",
      "169 173 1923\n",
      "170 171 1923\n",
      "172 173 1923\n",
      "172 175 1923\n",
      "173 175 1923\n",
      "175 176 1923\n",
      "177 179 1923\n",
      "180 181 1923\n",
      "181 185 1923\n",
      "184 188 1923\n",
      "185 187 1923\n",
      "187 189 1923\n",
      "189 199 1923\n",
      "191 193 1\n",
      "199 202 1923\n",
      "200 201 1923\n",
      "200 204 1923\n",
      "202 203 1923\n",
      "202 206 1923\n",
      "204 207 1923\n",
      "207 208 1923\n",
      "208 211 1923\n",
      "208 225 1923\n",
      "209 210 1923\n",
      "212 224 1923\n",
      "213 217 1923\n",
      "213 223 1923\n",
      "214 216 1923\n",
      "217 218 1923\n",
      "218 292 1923\n",
      "218 293 1923\n",
      "219 221 1923\n",
      "222 293 1923\n",
      "223 227 1923\n",
      "225 226 1923\n",
      "226 229 1923\n",
      "227 228 1923\n",
      "228 229 1923\n",
      "230 234 1923\n",
      "231 233 1923\n",
      "233 243 1923\n",
      "233 246 1923\n",
      "235 246 1923\n",
      "236 237 1923\n",
      "236 241 1923\n",
      "238 239 1923\n",
      "243 246 1923\n",
      "243 250 1923\n",
      "244 247 1923\n",
      "247 248 1923\n",
      "249 250 1923\n",
      "251 264 1923\n",
      "252 262 1923\n",
      "253 261 1923\n",
      "254 261 1923\n",
      "256 257 1\n",
      "262 263 1923\n",
      "267 268 1\n",
      "270 271 1923\n",
      "270 273 1923\n",
      "271 273 1923\n",
      "273 277 1923\n",
      "273 483 1\n",
      "276 277 1923\n",
      "277 281 1923\n",
      "278 282 1923\n",
      "280 281 1923\n",
      "282 283 1923\n",
      "282 286 1923\n",
      "283 287 1923\n",
      "284 285 1923\n",
      "284 437 1923\n",
      "286 287 1923\n",
      "288 292 1923\n",
      "289 479 1923\n",
      "290 291 1923\n",
      "290 478 1923\n",
      "291 414 1923\n",
      "292 293 1923\n",
      "293 295 1923\n",
      "297 413 1923\n",
      "298 307 1923\n",
      "299 308 1923\n",
      "301 302 1923\n",
      "301 309 1923\n",
      "302 315 1923\n",
      "303 304 1923\n",
      "304 316 1923\n",
      "304 341 1923\n",
      "305 345 1923\n",
      "305 356 1923\n",
      "308 309 1923\n",
      "310 311 1923\n",
      "310 315 1923\n",
      "311 411 1\n",
      "311 412 1923\n",
      "312 314 1923\n",
      "318 319 1\n",
      "322 327 1923\n",
      "323 328 1923\n",
      "326 327 1923\n",
      "326 333 1923\n",
      "328 329 1923\n",
      "328 334 1923\n",
      "330 335 1923\n",
      "331 332 1923\n",
      "331 336 1923\n",
      "333 337 1923\n",
      "334 335 1923\n",
      "334 338 1923\n",
      "336 337 1923\n",
      "336 339 1923\n",
      "337 340 1923\n",
      "338 342 1923\n",
      "339 340 1923\n",
      "341 342 1923\n",
      "343 344 1923\n",
      "345 348 1923\n",
      "346 348 1923\n",
      "348 349 1923\n",
      "348 357 1923\n",
      "351 361 1923\n",
      "352 356 1923\n",
      "357 358 1923\n",
      "357 362 1923\n",
      "359 361 1923\n",
      "359 363 1923\n",
      "361 365 1923\n",
      "362 366 1923\n",
      "364 365 1923\n",
      "364 413 1923\n",
      "366 367 1923\n",
      "366 412 1923\n",
      "367 412 1923\n",
      "368 412 1923\n",
      "375 376 1\n",
      "389 402 1\n",
      "392 393 1\n",
      "395 397 1\n",
      "425 426 1\n",
      "430 439 1923\n",
      "431 435 1923\n",
      "433 437 1923\n",
      "434 487 1923\n",
      "435 438 1923\n",
      "444 446 1923\n",
      "444 448 1923\n",
      "444 475 1923\n",
      "445 447 1923\n",
      "445 474 1923\n",
      "447 449 1923\n",
      "448 452 1923\n",
      "448 475 1923\n",
      "449 451 1923\n",
      "451 453 1923\n",
      "451 454 1923\n",
      "452 453 1923\n",
      "453 454 1923\n",
      "453 455 1923\n",
      "453 456 1923\n",
      "453 457 1923\n",
      "454 455 1923\n",
      "454 489 1923\n",
      "455 489 1923\n",
      "456 457 1923\n",
      "456 458 1923\n",
      "457 458 1923\n",
      "457 459 1923\n",
      "458 459 1923\n",
      "460 462 1923\n",
      "460 465 1923\n",
      "461 466 1923\n",
      "462 464 1923\n",
      "462 465 1923\n",
      "465 467 1923\n",
      "465 470 1923\n",
      "466 468 1923\n",
      "470 472 1923\n",
      "471 473 1923\n",
      "472 474 1923\n",
      "475 476 1\n",
      "477 478 1\n",
      "479 480 1923\n",
      "495 499 1923\n",
      "496 498 1923\n",
      "496 506 1\n",
      "498 499 1923\n",
      "499 504 1923\n",
      "502 503 1923\n",
      "502 505 1923\n",
      "503 505 1923\n",
      "504 505 1923\n",
      "509 510 1923\n",
      "509 514 1923\n",
      "510 511 1923\n",
      "510 512 1923\n",
      "510 516 1\n",
      "512 513 1923\n",
      "512 515 1923\n",
      "513 514 1923\n",
      "519 521 1923\n",
      "519 529 1923\n",
      "521 525 1923\n",
      "523 524 1\n",
      "525 527 1923\n",
      "525 528 1923\n",
      "526 529 1923\n",
      "527 528 1923\n",
      "532 533 1\n",
      "536 539 1923\n",
      "537 538 1923\n",
      "537 544 1923\n",
      "538 539 1923\n",
      "538 541 1923\n",
      "539 541 1923\n",
      "541 543 1923\n",
      "541 544 1923\n",
      "541 581 1\n",
      "542 544 1923\n",
      "543 544 1923\n",
      "543 556 1\n",
      "551 554 2\n",
      "552 554 1923\n",
      "552 555 1923\n",
      "552 559 1923\n",
      "553 555 1923\n",
      "555 558 1923\n",
      "555 559 1923\n",
      "557 558 1923\n",
      "558 559 1923\n",
      "560 568 1\n",
      "564 565 1923\n",
      "565 570 1923\n",
      "566 567 1923\n",
      "568 581 1\n",
      "569 570 1923\n",
      "569 573 1923\n",
      "570 576 1923\n",
      "571 572 1923\n",
      "572 574 1923\n",
      "574 575 1923\n",
      "581 582 1\n"
     ]
    }
   ],
   "source": [
    "unsat = 0\n",
    "total = 0\n",
    "for i in range(ev_sat.shape[0]):\n",
    "    for j in range(i+1, ev_sat.shape[1]):\n",
    "        if np.sum(ev_sat[i,j,:]) > 0:\n",
    "            unsat = unsat + 1\n",
    "            print(i,j,np.sum(ev_sat[i,j,:]))\n",
    "        total = total + 1\n"
   ]
  },
  {
   "cell_type": "code",
   "execution_count": 25,
   "id": "9a09985b",
   "metadata": {},
   "outputs": [
    {
     "data": {
      "text/plain": [
       "array([ 1.07070866,  1.90334214,  2.05452072, ...,  0.37641127,\n",
       "       -0.13590734,  1.28665121])"
      ]
     },
     "execution_count": 25,
     "metadata": {},
     "output_type": "execute_result"
    }
   ],
   "source": [
    "dist_matrix_merge[0,1,:]"
   ]
  },
  {
   "cell_type": "code",
   "execution_count": 30,
   "id": "1f40a443",
   "metadata": {},
   "outputs": [
    {
     "data": {
      "text/plain": [
       "0.9981174133490408"
      ]
     },
     "execution_count": 30,
     "metadata": {},
     "output_type": "execute_result"
    }
   ],
   "source": [
    "(total - unsat) / total"
   ]
  },
  {
   "cell_type": "code",
   "execution_count": null,
   "id": "0926ab42",
   "metadata": {},
   "outputs": [],
   "source": []
  }
 ],
 "metadata": {
  "kernelspec": {
   "display_name": "Python 3 (ipykernel)",
   "language": "python",
   "name": "python3"
  },
  "language_info": {
   "codemirror_mode": {
    "name": "ipython",
    "version": 3
   },
   "file_extension": ".py",
   "mimetype": "text/x-python",
   "name": "python",
   "nbconvert_exporter": "python",
   "pygments_lexer": "ipython3",
   "version": "3.12.1"
  }
 },
 "nbformat": 4,
 "nbformat_minor": 5
}
