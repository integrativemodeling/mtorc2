{
 "cells": [
  {
   "cell_type": "code",
   "execution_count": 1,
   "id": "596de27f",
   "metadata": {},
   "outputs": [],
   "source": [
    "from pathlib import Path\n",
    "import IMP.pmi.restraints.crosslinking\n",
    "import IMP.pmi.restraints.stereochemistry\n",
    "import IMP.pmi.restraints.em\n",
    "import IMP.pmi.restraints.basic\n",
    "import IMP.bayesianem\n",
    "import IMP.bayesianem.restraint\n",
    "import IMP.algebra\n",
    "import IMP.pmi.restraints.stereochemistry\n",
    "import IMP.pmi.restraints.basic\n",
    "import IMP\n",
    "import IMP.pmi\n",
    "import IMP.pmi.topology\n",
    "import IMP.pmi.dof\n",
    "import IMP.pmi.macros\n",
    "import time\n",
    "import sys\n",
    "import math\n",
    "sys.path.append(\"/home/matthew/mtorc2/src\")\n",
    "sys.path.append(\"/wynton/home/sali/mhancock/mtorc2/src\")\n",
    "from restraints import get_xl_restraint"
   ]
  },
  {
   "cell_type": "code",
   "execution_count": 48,
   "id": "2cc300cc",
   "metadata": {},
   "outputs": [
    {
     "name": "stdout",
     "output_type": "stream",
     "text": [
      "MTOR\n",
      "2549\n",
      "(1,60,\"MTOR\"),(75,81,\"MTOR\"),(247,257,\"MTOR\"),(290,385,\"MTOR\"),(405,409,\"MTOR\"),(467,477,\"MTOR\"),(549,578,\"MTOR\"),(634,643,\"MTOR\"),(904,932,\"MTOR\"),(1223,1260,\"MTOR\"),(1815,1866,\"MTOR\"),(2437,2491,\"MTOR\"),\n",
      "RICTOR\n",
      "1708\n",
      "(1,25,\"RICTOR\"),(503,523,\"RICTOR\"),(638,646,\"RICTOR\"),(858,872,\"RICTOR\"),(1006,1422,\"RICTOR\"),(1441,1514,\"RICTOR\"),(1530,1604,\"RICTOR\"),(1696,1707,\"RICTOR\"),\n",
      "MLST8\n",
      "326\n",
      "(1,7,\"MLST8\"),(325,325,\"MLST8\"),\n",
      "MSIN1\n",
      "157\n",
      "(50,76,\"MSIN1\"),(133,156,\"MSIN1\"),\n",
      "CRIM\n",
      "122\n",
      "(110,121,\"CRIM\"),\n",
      "RBD\n",
      "102\n",
      "(75,101,\"RBD\"),\n",
      "MSIN1PH\n",
      "141\n",
      "(33,48,\"MSIN1PH\"),(108,140,\"MSIN1PH\"),\n",
      "AKT1PH\n",
      "145\n",
      "(117,144,\"AKT1PH\"),\n",
      "KINASE\n",
      "335\n",
      "(301,334,\"KINASE\"),\n"
     ]
    }
   ],
   "source": [
    "m = IMP.Model()\n",
    "s = IMP.pmi.topology.System(m)\n",
    "\n",
    "glob_data_dir = Path(Path.home(), \"mtorc2/data\")\n",
    "fasta_file = Path(glob_data_dir, \"fasta/mtorc2.domain.fasta\")\n",
    "seqs = IMP.pmi.topology.Sequences(fasta_fn=str(fasta_file))\n",
    "st = s.create_state()\n",
    "\n",
    "structures = dict()\n",
    "pdb_file = Path(Path.home(), \"mtorc2/data/pdb/1601720.no_bead.pdb\")\n",
    "structures[\"MTOR\"] = (pdb_file, \"A\", \"orange\", \"J\")\n",
    "structures[\"RICTOR\"] = (pdb_file, \"B\", \"blue\", \"K\")\n",
    "structures[\"MLST8\"] = (pdb_file, \"C\", \"green\", \"L\")\n",
    "structures[\"MSIN1\"] = (pdb_file, \"D\", \"red\", \"M\")\n",
    "structures[\"CRIM\"] = (pdb_file, \"E\", \"purple\", \"N\")\n",
    "structures[\"RBD\"] = (pdb_file, \"F\", \"brown\", \"O\")\n",
    "structures[\"MSIN1PH\"] = (pdb_file, \"G\", \"tan\", \"P\")\n",
    "structures[\"AKT1PH\"] = (pdb_file, \"H\", \"salmon\", \"Q\")\n",
    "structures[\"KINASE\"] = (pdb_file, \"I\", \"black\", \"R\")\n",
    "\n",
    "clones = dict()\n",
    "mols = dict()\n",
    "for component in structures.keys():\n",
    "    print(component)\n",
    "    pdb_file, chain, color, clone_chain = structures[component]\n",
    "\n",
    "    mol = st.create_molecule(\n",
    "        name=component,\n",
    "        sequence=seqs[component],\n",
    "        chain_id=chain\n",
    "    )\n",
    "    mols[component] = mol\n",
    "\n",
    "    atom = mol.add_structure(\n",
    "        pdb_fn=str(pdb_file),\n",
    "        chain_id=chain,\n",
    "        soft_check=True\n",
    "    )\n",
    "    \n",
    "    atomic_res = mol.get_atomic_residues()\n",
    "    non_atomic_res = mol.get_non_atomic_residues()\n",
    "    seq_length = len(atomic_res) + len(non_atomic_res)\n",
    "    \n",
    "    print(seq_length)\n",
    "\n",
    "    atomic_res_ids = list() \n",
    "    for res in atomic_res: \n",
    "        atomic_res_ids.append(int(str(res).split(\"_\")[-1][1:]))\n",
    "\n",
    "    non_atomic_res_ids = list() \n",
    "    for res in non_atomic_res: \n",
    "        non_atomic_res_ids.append(int(str(res).split(\"_\")[-1][1:]))\n",
    "        \n",
    "        \n",
    "    i = 1 \n",
    "    entries = \"\" \n",
    "    prev_flex = False \n",
    "    while i < seq_length + 1: \n",
    "        cur_flex = False \n",
    "\n",
    "        if i in non_atomic_res_ids: \n",
    "            cur_flex = True \n",
    "\n",
    "        if cur_flex and not prev_flex: \n",
    "            start = i \n",
    "\n",
    "        if (prev_flex and not cur_flex) or (cur_flex and i == seq_length): \n",
    "            end = i \n",
    "            entry = \"({},{},{})\".format(start, end-1, '\"{}\"'.format(component))\n",
    "            entries = entries + entry + \",\"\n",
    "\n",
    "        prev_flex = cur_flex     \n",
    "        i = i+1\n",
    "        \n",
    "    print(entries)"
   ]
  },
  {
   "cell_type": "code",
   "execution_count": null,
   "id": "1cf31b4b",
   "metadata": {},
   "outputs": [],
   "source": [
    "for i in range(seq_length): \n",
    "    atomic_res\n",
    "    "
   ]
  },
  {
   "cell_type": "code",
   "execution_count": 9,
   "id": "a7a53f41",
   "metadata": {},
   "outputs": [
    {
     "name": "stdout",
     "output_type": "stream",
     "text": [
      "2549\n"
     ]
    }
   ],
   "source": [
    "print(len(mol.get_atomic_residues()) + len(mol.get_non_atomic_residues()))"
   ]
  },
  {
   "cell_type": "code",
   "execution_count": 7,
   "id": "b4697168",
   "metadata": {},
   "outputs": [
    {
     "name": "stdout",
     "output_type": "stream",
     "text": [
      "OrderedSet([0_KINASE_0_T1, 0_KINASE_0_M2, 0_KINASE_0_N3, 0_KINASE_0_E4, 0_KINASE_0_F5, 0_KINASE_0_E6, 0_KINASE_0_Y7, 0_KINASE_0_L8, 0_KINASE_0_K9, 0_KINASE_0_L10, 0_KINASE_0_L11, 0_KINASE_0_G12, 0_KINASE_0_K13, 0_KINASE_0_G14, 0_KINASE_0_T15, 0_KINASE_0_F16, 0_KINASE_0_G17, 0_KINASE_0_K18, 0_KINASE_0_V19, 0_KINASE_0_I20, 0_KINASE_0_L21, 0_KINASE_0_V22, 0_KINASE_0_K23, 0_KINASE_0_E24, 0_KINASE_0_K25, 0_KINASE_0_A26, 0_KINASE_0_T27, 0_KINASE_0_G28, 0_KINASE_0_R29, 0_KINASE_0_Y30, 0_KINASE_0_Y31, 0_KINASE_0_A32, 0_KINASE_0_M33, 0_KINASE_0_K34, 0_KINASE_0_I35, 0_KINASE_0_L36, 0_KINASE_0_K37, 0_KINASE_0_K38, 0_KINASE_0_E39, 0_KINASE_0_V40, 0_KINASE_0_I41, 0_KINASE_0_V42, 0_KINASE_0_A43, 0_KINASE_0_K44, 0_KINASE_0_D45, 0_KINASE_0_E46, 0_KINASE_0_V47, 0_KINASE_0_A48, 0_KINASE_0_H49, 0_KINASE_0_T50, 0_KINASE_0_L51, 0_KINASE_0_T52, 0_KINASE_0_E53, 0_KINASE_0_N54, 0_KINASE_0_R55, 0_KINASE_0_V56, 0_KINASE_0_L57, 0_KINASE_0_Q58, 0_KINASE_0_N59, 0_KINASE_0_S60, 0_KINASE_0_R61, 0_KINASE_0_H62, 0_KINASE_0_P63, 0_KINASE_0_F64, 0_KINASE_0_L65, 0_KINASE_0_T66, 0_KINASE_0_A67, 0_KINASE_0_L68, 0_KINASE_0_K69, 0_KINASE_0_Y70, 0_KINASE_0_S71, 0_KINASE_0_F72, 0_KINASE_0_Q73, 0_KINASE_0_T74, 0_KINASE_0_H75, 0_KINASE_0_D76, 0_KINASE_0_R77, 0_KINASE_0_L78, 0_KINASE_0_C79, 0_KINASE_0_F80, 0_KINASE_0_V81, 0_KINASE_0_M82, 0_KINASE_0_E83, 0_KINASE_0_Y84, 0_KINASE_0_A85, 0_KINASE_0_N86, 0_KINASE_0_G87, 0_KINASE_0_G88, 0_KINASE_0_E89, 0_KINASE_0_L90, 0_KINASE_0_F91, 0_KINASE_0_F92, 0_KINASE_0_H93, 0_KINASE_0_L94, 0_KINASE_0_S95, 0_KINASE_0_R96, 0_KINASE_0_E97, 0_KINASE_0_R98, 0_KINASE_0_V99, 0_KINASE_0_F100, 0_KINASE_0_S101, 0_KINASE_0_E102, 0_KINASE_0_D103, 0_KINASE_0_R104, 0_KINASE_0_A105, 0_KINASE_0_R106, 0_KINASE_0_F107, 0_KINASE_0_Y108, 0_KINASE_0_G109, 0_KINASE_0_A110, 0_KINASE_0_E111, 0_KINASE_0_I112, 0_KINASE_0_V113, 0_KINASE_0_S114, 0_KINASE_0_A115, 0_KINASE_0_L116, 0_KINASE_0_D117, 0_KINASE_0_Y118, 0_KINASE_0_L119, 0_KINASE_0_H120, 0_KINASE_0_S121, 0_KINASE_0_E122, 0_KINASE_0_K123, 0_KINASE_0_N124, 0_KINASE_0_V125, 0_KINASE_0_V126, 0_KINASE_0_Y127, 0_KINASE_0_R128, 0_KINASE_0_D129, 0_KINASE_0_L130, 0_KINASE_0_K131, 0_KINASE_0_L132, 0_KINASE_0_E133, 0_KINASE_0_N134, 0_KINASE_0_L135, 0_KINASE_0_M136, 0_KINASE_0_L137, 0_KINASE_0_D138, 0_KINASE_0_K139, 0_KINASE_0_D140, 0_KINASE_0_G141, 0_KINASE_0_H142, 0_KINASE_0_I143, 0_KINASE_0_K144, 0_KINASE_0_I145, 0_KINASE_0_T146, 0_KINASE_0_D147, 0_KINASE_0_F148, 0_KINASE_0_G149, 0_KINASE_0_L150, 0_KINASE_0_C151, 0_KINASE_0_K152, 0_KINASE_0_E153, 0_KINASE_0_G154, 0_KINASE_0_I155, 0_KINASE_0_K156, 0_KINASE_0_D157, 0_KINASE_0_G158, 0_KINASE_0_A159, 0_KINASE_0_T160, 0_KINASE_0_M161, 0_KINASE_0_K162, 0_KINASE_0_T163, 0_KINASE_0_F164, 0_KINASE_0_C165, 0_KINASE_0_G166, 0_KINASE_0_T167, 0_KINASE_0_P168, 0_KINASE_0_E169, 0_KINASE_0_Y170, 0_KINASE_0_L171, 0_KINASE_0_A172, 0_KINASE_0_P173, 0_KINASE_0_E174, 0_KINASE_0_V175, 0_KINASE_0_L176, 0_KINASE_0_E177, 0_KINASE_0_D178, 0_KINASE_0_N179, 0_KINASE_0_D180, 0_KINASE_0_Y181, 0_KINASE_0_G182, 0_KINASE_0_R183, 0_KINASE_0_A184, 0_KINASE_0_V185, 0_KINASE_0_D186, 0_KINASE_0_W187, 0_KINASE_0_W188, 0_KINASE_0_G189, 0_KINASE_0_L190, 0_KINASE_0_G191, 0_KINASE_0_V192, 0_KINASE_0_V193, 0_KINASE_0_M194, 0_KINASE_0_Y195, 0_KINASE_0_E196, 0_KINASE_0_M197, 0_KINASE_0_M198, 0_KINASE_0_C199, 0_KINASE_0_G200, 0_KINASE_0_R201, 0_KINASE_0_L202, 0_KINASE_0_P203, 0_KINASE_0_F204, 0_KINASE_0_Y205, 0_KINASE_0_N206, 0_KINASE_0_Q207, 0_KINASE_0_D208, 0_KINASE_0_H209, 0_KINASE_0_E210, 0_KINASE_0_K211, 0_KINASE_0_L212, 0_KINASE_0_F213, 0_KINASE_0_E214, 0_KINASE_0_L215, 0_KINASE_0_I216, 0_KINASE_0_L217, 0_KINASE_0_M218, 0_KINASE_0_E219, 0_KINASE_0_E220, 0_KINASE_0_I221, 0_KINASE_0_R222, 0_KINASE_0_F223, 0_KINASE_0_P224, 0_KINASE_0_R225, 0_KINASE_0_T226, 0_KINASE_0_L227, 0_KINASE_0_G228, 0_KINASE_0_P229, 0_KINASE_0_E230, 0_KINASE_0_A231, 0_KINASE_0_K232, 0_KINASE_0_S233, 0_KINASE_0_L234, 0_KINASE_0_L235, 0_KINASE_0_S236, 0_KINASE_0_G237, 0_KINASE_0_L238, 0_KINASE_0_L239, 0_KINASE_0_K240, 0_KINASE_0_K241, 0_KINASE_0_D242, 0_KINASE_0_P243, 0_KINASE_0_K244, 0_KINASE_0_Q245, 0_KINASE_0_R246, 0_KINASE_0_L247, 0_KINASE_0_G248, 0_KINASE_0_G249, 0_KINASE_0_G250, 0_KINASE_0_S251, 0_KINASE_0_E252, 0_KINASE_0_D253, 0_KINASE_0_A254, 0_KINASE_0_K255, 0_KINASE_0_E256, 0_KINASE_0_I257, 0_KINASE_0_M258, 0_KINASE_0_Q259, 0_KINASE_0_H260, 0_KINASE_0_R261, 0_KINASE_0_F262, 0_KINASE_0_F263, 0_KINASE_0_A264, 0_KINASE_0_G265, 0_KINASE_0_I266, 0_KINASE_0_V267, 0_KINASE_0_W268, 0_KINASE_0_Q269, 0_KINASE_0_H270, 0_KINASE_0_V271, 0_KINASE_0_Y272, 0_KINASE_0_E273, 0_KINASE_0_K274, 0_KINASE_0_K275, 0_KINASE_0_L276, 0_KINASE_0_S277, 0_KINASE_0_P278, 0_KINASE_0_P279, 0_KINASE_0_F280, 0_KINASE_0_K281, 0_KINASE_0_P282, 0_KINASE_0_Q283, 0_KINASE_0_V284, 0_KINASE_0_T285, 0_KINASE_0_S286, 0_KINASE_0_E287, 0_KINASE_0_T288, 0_KINASE_0_D289, 0_KINASE_0_T290, 0_KINASE_0_R291, 0_KINASE_0_Y292, 0_KINASE_0_F293, 0_KINASE_0_D294, 0_KINASE_0_E295, 0_KINASE_0_E296, 0_KINASE_0_F297, 0_KINASE_0_T298, 0_KINASE_0_A299, 0_KINASE_0_Q300])\n"
     ]
    }
   ],
   "source": [
    "print(mol.get_atomic_residues())"
   ]
  },
  {
   "cell_type": "code",
   "execution_count": null,
   "id": "d9968381",
   "metadata": {},
   "outputs": [],
   "source": []
  }
 ],
 "metadata": {
  "kernelspec": {
   "display_name": "Python 3",
   "language": "python",
   "name": "python3"
  },
  "language_info": {
   "codemirror_mode": {
    "name": "ipython",
    "version": 3
   },
   "file_extension": ".py",
   "mimetype": "text/x-python",
   "name": "python",
   "nbconvert_exporter": "python",
   "pygments_lexer": "ipython3",
   "version": "3.6.15"
  }
 },
 "nbformat": 4,
 "nbformat_minor": 5
}
