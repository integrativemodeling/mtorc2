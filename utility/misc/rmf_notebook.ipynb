{
 "cells": [
  {
   "cell_type": "code",
   "execution_count": 3,
   "id": "5de85bee",
   "metadata": {},
   "outputs": [],
   "source": [
    "import IMP\n",
    "import IMP.rmf\n",
    "import IMP.pmi\n",
    "import IMP.pmi.analysis\n",
    "import matplotlib.pyplot as plt"
   ]
  },
  {
   "cell_type": "code",
   "execution_count": 4,
   "id": "cf176e8d",
   "metadata": {},
   "outputs": [],
   "source": [
    "m=IMP.Model()\n",
    "rmf_file='/Users/matthew/Documents/mtorc2/rigid_body_0/data/multiscale_output/rmfs/0.rmf3'\n",
    "# frame_number=0\n",
    "f = IMP.rmf.RMF.open_rmf_file_read_only(rmf_file)\n",
    "# IMP.rmf.load_frame(f, frame)\n",
    "# prot=IMP.rmf.create_hierarchies(f, m)\n",
    "\n",
    "h = IMP.rmf.create_hierarchies(f, m)[0]\n",
    "prot = IMP.rmf.load_frame(f, 0)"
   ]
  },
  {
   "cell_type": "code",
   "execution_count": 5,
   "id": "51da17d8",
   "metadata": {},
   "outputs": [
    {
     "data": {
      "text/plain": [
       "\"Model 1\""
      ]
     },
     "execution_count": 5,
     "metadata": {},
     "output_type": "execute_result"
    }
   ],
   "source": [
    "h.get_model()\n"
   ]
  },
  {
   "cell_type": "code",
   "execution_count": 6,
   "id": "422ddc03",
   "metadata": {},
   "outputs": [],
   "source": [
    "xl_table = IMP.pmi.analysis.CrossLinkTable()\n",
    "xl_table.set_hierarchy(h)"
   ]
  },
  {
   "cell_type": "code",
   "execution_count": 7,
   "id": "2bb4a09a",
   "metadata": {},
   "outputs": [],
   "source": [
    "stat_file = \"/Users/matthew/Documents/mtorc2/rigid_body_0/data/multiscale_output/stat.0.out\""
   ]
  },
  {
   "cell_type": "code",
   "execution_count": 15,
   "id": "c8005a00",
   "metadata": {},
   "outputs": [],
   "source": [
    "xl_map = {\"Protein1\": 3, \"Protein2\": 5, \"Residue1\": 4, \"Residue2\": 6}"
   ]
  },
  {
   "cell_type": "code",
   "execution_count": 20,
   "id": "5fb61fc8",
   "metadata": {},
   "outputs": [
    {
     "name": "stdout",
     "output_type": "stream",
     "text": [
      "CrossLinkingMassSpectrometryRestraint_Distance_|INTER|0.1|MTOR|1197|RICTOR|516|0|PSI|\n"
     ]
    },
    {
     "ename": "IndexError",
     "evalue": "list index out of range",
     "output_type": "error",
     "traceback": [
      "\u001b[0;31m---------------------------------------------------------------------------\u001b[0m",
      "\u001b[0;31mIndexError\u001b[0m                                Traceback (most recent call last)",
      "Input \u001b[0;32mIn [20]\u001b[0m, in \u001b[0;36m<module>\u001b[0;34m\u001b[0m\n\u001b[0;32m----> 1\u001b[0m \u001b[43mxl_table\u001b[49m\u001b[38;5;241;43m.\u001b[39;49m\u001b[43mset_crosslinks\u001b[49m\u001b[43m(\u001b[49m\u001b[43mstat_file\u001b[49m\u001b[43m,\u001b[49m\u001b[43m \u001b[49m\u001b[38;5;124;43m\"\u001b[39;49m\u001b[38;5;124;43mCrossLinkingMassSpectrometryRestraint_Distance_|\u001b[39;49m\u001b[38;5;124;43m\"\u001b[39;49m\u001b[43m)\u001b[49m\n",
      "File \u001b[0;32m~/opt/anaconda3/envs/imp/lib/python3.10/site-packages/IMP/pmi/analysis.py:1832\u001b[0m, in \u001b[0;36mCrossLinkTable.set_crosslinks\u001b[0;34m(self, data_file, search_label, mapping, filter_label, filter_rmf_file_names, external_csv_data_file, external_csv_data_file_unique_id_key)\u001b[0m\n\u001b[1;32m   1829\u001b[0m         \u001b[38;5;28;01mcontinue\u001b[39;00m\n\u001b[1;32m   1831\u001b[0m \u001b[38;5;28;01mif\u001b[39;00m mapping \u001b[38;5;129;01mis\u001b[39;00m \u001b[38;5;28;01mNone\u001b[39;00m:\n\u001b[0;32m-> 1832\u001b[0m     r1 \u001b[38;5;241m=\u001b[39m \u001b[38;5;28mint\u001b[39m(\u001b[43mkeysplit\u001b[49m\u001b[43m[\u001b[49m\u001b[38;5;241;43m5\u001b[39;49m\u001b[43m]\u001b[49m)\n\u001b[1;32m   1833\u001b[0m     c1 \u001b[38;5;241m=\u001b[39m keysplit[\u001b[38;5;241m6\u001b[39m]\n\u001b[1;32m   1834\u001b[0m     r2 \u001b[38;5;241m=\u001b[39m \u001b[38;5;28mint\u001b[39m(keysplit[\u001b[38;5;241m7\u001b[39m])\n",
      "\u001b[0;31mIndexError\u001b[0m: list index out of range"
     ]
    }
   ],
   "source": [
    "xl_table.set_crosslinks(stat_file, \"CrossLinkingMassSpectrometryRestraint_Distance_|\")\n"
   ]
  },
  {
   "cell_type": "code",
   "execution_count": 11,
   "id": "2711cc8a",
   "metadata": {},
   "outputs": [
    {
     "data": {
      "text/plain": [
       "[]"
      ]
     },
     "execution_count": 11,
     "metadata": {},
     "output_type": "execute_result"
    }
   ],
   "source": [
    "xl_table.crosslinks"
   ]
  },
  {
   "cell_type": "code",
   "execution_count": null,
   "id": "8f5dfb7c",
   "metadata": {},
   "outputs": [],
   "source": [
    "xl_table.plot()\n",
    "plt.savefig(\"xl.png\")"
   ]
  },
  {
   "cell_type": "code",
   "execution_count": null,
   "id": "8d4128ce",
   "metadata": {},
   "outputs": [],
   "source": []
  },
  {
   "cell_type": "code",
   "execution_count": null,
   "id": "1863737c",
   "metadata": {},
   "outputs": [],
   "source": []
  }
 ],
 "metadata": {
  "kernelspec": {
   "display_name": "Python 3 (ipykernel)",
   "language": "python",
   "name": "python3"
  },
  "language_info": {
   "codemirror_mode": {
    "name": "ipython",
    "version": 3
   },
   "file_extension": ".py",
   "mimetype": "text/x-python",
   "name": "python",
   "nbconvert_exporter": "python",
   "pygments_lexer": "ipython3",
   "version": "3.10.2"
  }
 },
 "nbformat": 4,
 "nbformat_minor": 5
}
