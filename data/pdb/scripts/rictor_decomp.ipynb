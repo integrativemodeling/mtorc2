{
 "cells": [
  {
   "cell_type": "code",
   "execution_count": 43,
   "id": "2b92756b",
   "metadata": {},
   "outputs": [],
   "source": [
    "from pathlib import Path\n",
    "import Bio.PDB"
   ]
  },
  {
   "cell_type": "code",
   "execution_count": 44,
   "id": "3a264f92",
   "metadata": {},
   "outputs": [],
   "source": [
    "pdb_file = Path(\"/Users/matthew/Documents/mtorc2/data/pdb/RICTOR.af.pdb\")"
   ]
  },
  {
   "cell_type": "code",
   "execution_count": 45,
   "id": "034171f1",
   "metadata": {},
   "outputs": [],
   "source": [
    "pdb_parser = Bio.PDB.PDBParser(QUIET=True)\n",
    "ref_model = pdb_parser.get_structure(\"reference\", str(pdb_file))[0]"
   ]
  },
  {
   "cell_type": "code",
   "execution_count": 46,
   "id": "6b021aa4",
   "metadata": {},
   "outputs": [],
   "source": [
    "avg_plddts = list() \n",
    "for res in ref_model.get_residues():\n",
    "    n_atoms = 0 \n",
    "    avg_plddt = 0\n",
    "    for atom in res.get_atoms(): \n",
    "        n_atoms = n_atoms + 1\n",
    "        avg_plddt = avg_plddt + atom.bfactor\n",
    "        \n",
    "    avg_plddt = avg_plddt / n_atoms \n",
    "    avg_plddts.append(avg_plddt)\n",
    "    "
   ]
  },
  {
   "cell_type": "code",
   "execution_count": 47,
   "id": "d207ea03",
   "metadata": {},
   "outputs": [],
   "source": [
    "cutoff = 50\n",
    "ordered = list() \n",
    "\n",
    "for plddt in avg_plddts: \n",
    "    if plddt > cutoff: \n",
    "        ordered.append(1)\n",
    "    else: \n",
    "        ordered.append(0)\n",
    "        "
   ]
  },
  {
   "cell_type": "code",
   "execution_count": 48,
   "id": "216d9cac",
   "metadata": {},
   "outputs": [],
   "source": [
    "domains = dict() \n",
    "i = 0\n",
    "while i < len(ordered): \n",
    "    if ordered[i]: \n",
    "        domain_start = i\n",
    "        j = i+1\n",
    "        while ordered[j] == 1: \n",
    "            j = j+1 \n",
    "            \n",
    "        domain_end = j \n",
    "        ## Residue numbers are offset by 1\n",
    "        domains[len(domains.keys())] = (domain_start+1, domain_end)\n",
    "        i = j+1 \n",
    "    else: \n",
    "        i = i+1 "
   ]
  },
  {
   "cell_type": "code",
   "execution_count": 49,
   "id": "a0108788",
   "metadata": {},
   "outputs": [
    {
     "data": {
      "text/plain": [
       "{0: (24, 505),\n",
       " 1: (521, 521),\n",
       " 2: (523, 638),\n",
       " 3: (642, 860),\n",
       " 4: (863, 865),\n",
       " 5: (871, 1007),\n",
       " 6: (1331, 1332),\n",
       " 7: (1334, 1335),\n",
       " 8: (1338, 1338),\n",
       " 9: (1421, 1442),\n",
       " 10: (1513, 1531),\n",
       " 11: (1603, 1697)}"
      ]
     },
     "execution_count": 49,
     "metadata": {},
     "output_type": "execute_result"
    }
   ],
   "source": [
    "domains"
   ]
  },
  {
   "cell_type": "code",
   "execution_count": 50,
   "id": "77d31fee",
   "metadata": {},
   "outputs": [],
   "source": [
    "coverage = 0 \n",
    "for domain in domains.keys():\n",
    "    start = domains[domain][0]\n",
    "    end = domains[domain][1]\n",
    "    length = end - start + 1 \n",
    "    coverage = coverage + length\n",
    "    \n",
    "coverage = coverage / len(ordered)"
   ]
  },
  {
   "cell_type": "code",
   "execution_count": 51,
   "id": "fe50398a",
   "metadata": {},
   "outputs": [
    {
     "data": {
      "text/plain": [
       "0.6434426229508197"
      ]
     },
     "execution_count": 51,
     "metadata": {},
     "output_type": "execute_result"
    }
   ],
   "source": [
    "coverage"
   ]
  },
  {
   "cell_type": "markdown",
   "id": "fe7d7957",
   "metadata": {},
   "source": [
    "### Reconstruct the model identifying each ordered domain"
   ]
  },
  {
   "cell_type": "code",
   "execution_count": 52,
   "id": "61b00bdc",
   "metadata": {},
   "outputs": [],
   "source": [
    "chain_ids = \"ABCDEFGHIJKLMNOPQRSTUVWXYZ\"\n",
    "chains = dict() \n",
    "for domain in domains.keys(): \n",
    "    chain_id = chain_ids[domain] \n",
    "    chains[chain_id] = Bio.PDB.Chain.Chain(chain_id)"
   ]
  },
  {
   "cell_type": "code",
   "execution_count": 53,
   "id": "b9b485ed",
   "metadata": {},
   "outputs": [],
   "source": [
    "chain_copy = Bio.PDB.Chain.Chain(\"A\")"
   ]
  },
  {
   "cell_type": "code",
   "execution_count": 54,
   "id": "796640f7",
   "metadata": {},
   "outputs": [],
   "source": [
    "for res in ref_model.get_residues(): \n",
    "    ordered = False\n",
    "    \n",
    "    for domain in domains.keys():\n",
    "        start = domains[domain][0]\n",
    "        end = domains[domain][1]\n",
    "        chain_id = chain_ids[domain]\n",
    "        \n",
    "        if res.id[1] >= start and res.id[1] <= end:    \n",
    "            res_copy = res.copy() \n",
    "            chains[chain_id].add(res_copy)\n",
    "            chain_copy.add(res_copy)"
   ]
  },
  {
   "cell_type": "code",
   "execution_count": 55,
   "id": "8c901951",
   "metadata": {},
   "outputs": [],
   "source": [
    "thresh_model = Bio.PDB.Model.Model(\"thresh\")\n",
    "thresh_model.add(chain_copy)"
   ]
  },
  {
   "cell_type": "code",
   "execution_count": 56,
   "id": "e5124e96",
   "metadata": {},
   "outputs": [],
   "source": [
    "thresh_structure = Bio.PDB.Structure.Structure(\"thresh\")\n",
    "thresh_structure.add(thresh_model)"
   ]
  },
  {
   "cell_type": "code",
   "execution_count": 57,
   "id": "28a01dac",
   "metadata": {},
   "outputs": [],
   "source": [
    "thresh_pdb_file = Path(\"/Users/matthew/Documents/mtorc2/data/pdb/RICTOR.thresh.2.pdb\")\n",
    "pdb_io = Bio.PDB.PDBIO(use_model_flag=1)\n",
    "pdb_io.set_structure(thresh_structure)\n",
    "pdb_io.save(str(thresh_pdb_file))"
   ]
  },
  {
   "cell_type": "code",
   "execution_count": 40,
   "id": "9b06df75",
   "metadata": {},
   "outputs": [],
   "source": [
    "decomp_model = Bio.PDB.Model.Model(\"decomp\")\n",
    "for chain_id in chains.keys(): \n",
    "    decomp_model.add(chains[chain_id])"
   ]
  },
  {
   "cell_type": "code",
   "execution_count": 41,
   "id": "debd20a9",
   "metadata": {},
   "outputs": [],
   "source": [
    "decomp_structure = Bio.PDB.Structure.Structure(\"decomp\")\n",
    "decomp_structure.add(decomp_model)"
   ]
  },
  {
   "cell_type": "code",
   "execution_count": 42,
   "id": "1f6beebd",
   "metadata": {},
   "outputs": [],
   "source": [
    "decomp_pdb_file = Path(\"/Users/matthew/Documents/mtorc2/data/pdb/RICTOR.decomp.pdb\")\n",
    "pdb_io = Bio.PDB.PDBIO(use_model_flag=1)\n",
    "pdb_io.set_structure(decomp_structure)\n",
    "pdb_io.save(str(decomp_pdb_file))"
   ]
  },
  {
   "cell_type": "code",
   "execution_count": null,
   "id": "e2bf1810",
   "metadata": {},
   "outputs": [],
   "source": []
  }
 ],
 "metadata": {
  "kernelspec": {
   "display_name": "Python 3 (ipykernel)",
   "language": "python",
   "name": "python3"
  },
  "language_info": {
   "codemirror_mode": {
    "name": "ipython",
    "version": 3
   },
   "file_extension": ".py",
   "mimetype": "text/x-python",
   "name": "python",
   "nbconvert_exporter": "python",
   "pygments_lexer": "ipython3",
   "version": "3.10.1"
  }
 },
 "nbformat": 4,
 "nbformat_minor": 5
}
