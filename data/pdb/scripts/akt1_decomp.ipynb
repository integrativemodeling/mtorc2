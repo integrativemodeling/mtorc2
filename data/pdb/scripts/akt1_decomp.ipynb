{
 "cells": [
  {
   "cell_type": "code",
   "execution_count": 1,
   "id": "2b92756b",
   "metadata": {},
   "outputs": [],
   "source": [
    "from pathlib import Path\n",
    "import Bio.PDB"
   ]
  },
  {
   "cell_type": "code",
   "execution_count": 2,
   "id": "3a264f92",
   "metadata": {},
   "outputs": [],
   "source": [
    "pdb_file = Path(\"/Users/matthew/Documents/mtorc2/data/pdb/AKT1.af.pdb\")"
   ]
  },
  {
   "cell_type": "code",
   "execution_count": 3,
   "id": "034171f1",
   "metadata": {},
   "outputs": [],
   "source": [
    "pdb_parser = Bio.PDB.PDBParser(QUIET=True)\n",
    "ref_model = pdb_parser.get_structure(\"reference\", str(pdb_file))[0]"
   ]
  },
  {
   "cell_type": "code",
   "execution_count": 4,
   "id": "fc2796c8",
   "metadata": {},
   "outputs": [],
   "source": [
    "domains = dict() \n",
    "domains[0] = (1,116)\n",
    "domains[1] = (146,445)"
   ]
  },
  {
   "cell_type": "code",
   "execution_count": 5,
   "id": "6090c323",
   "metadata": {},
   "outputs": [],
   "source": [
    "chain_ids = \"ABCDEFGHIJKLMNOPQRSTUVWXYZ\"\n",
    "chains = dict() \n",
    "for domain in domains.keys(): \n",
    "    chain_id = chain_ids[domain] \n",
    "    chains[chain_id] = Bio.PDB.Chain.Chain(chain_id)"
   ]
  },
  {
   "cell_type": "code",
   "execution_count": 6,
   "id": "33837452",
   "metadata": {},
   "outputs": [],
   "source": [
    "for res in ref_model.get_residues(): \n",
    "    ordered = False\n",
    "    \n",
    "    for domain in domains.keys():\n",
    "        start = domains[domain][0]\n",
    "        end = domains[domain][1]\n",
    "        chain_id = chain_ids[domain]\n",
    "        \n",
    "        if res.id[1] >= start and res.id[1] <= end:    \n",
    "            res_copy = res.copy() \n",
    "            chains[chain_id].add(res_copy)"
   ]
  },
  {
   "cell_type": "code",
   "execution_count": 7,
   "id": "938d6c19",
   "metadata": {},
   "outputs": [],
   "source": [
    "decomp_model = Bio.PDB.Model.Model(\"decomp\")\n",
    "for chain_id in chains.keys(): \n",
    "    decomp_model.add(chains[chain_id])"
   ]
  },
  {
   "cell_type": "code",
   "execution_count": 8,
   "id": "875759ec",
   "metadata": {},
   "outputs": [],
   "source": [
    "decomp_structure = Bio.PDB.Structure.Structure(\"decomp\")\n",
    "decomp_structure.add(decomp_model)"
   ]
  },
  {
   "cell_type": "code",
   "execution_count": 9,
   "id": "b3f86f29",
   "metadata": {},
   "outputs": [],
   "source": [
    "decomp_pdb_file = Path(\"/Users/matthew/Documents/mtorc2/rigid_body_0/data/AKT1.decomp.pdb\")\n",
    "pdb_io = Bio.PDB.PDBIO(use_model_flag=1)\n",
    "pdb_io.set_structure(decomp_structure)\n",
    "pdb_io.save(str(decomp_pdb_file))"
   ]
  },
  {
   "cell_type": "code",
   "execution_count": null,
   "id": "b81ee7ca",
   "metadata": {},
   "outputs": [],
   "source": []
  }
 ],
 "metadata": {
  "kernelspec": {
   "display_name": "Python 3 (ipykernel)",
   "language": "python",
   "name": "python3"
  },
  "language_info": {
   "codemirror_mode": {
    "name": "ipython",
    "version": 3
   },
   "file_extension": ".py",
   "mimetype": "text/x-python",
   "name": "python",
   "nbconvert_exporter": "python",
   "pygments_lexer": "ipython3",
   "version": "3.10.1"
  }
 },
 "nbformat": 4,
 "nbformat_minor": 5
}
