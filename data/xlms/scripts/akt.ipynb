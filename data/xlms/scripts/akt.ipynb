{
 "cells": [
  {
   "cell_type": "code",
   "execution_count": 1,
   "id": "eadfdb41",
   "metadata": {},
   "outputs": [],
   "source": [
    "import pandas as pd\n",
    "from pathlib import Path"
   ]
  },
  {
   "cell_type": "code",
   "execution_count": 2,
   "id": "64166619",
   "metadata": {},
   "outputs": [
    {
     "data": {
      "text/html": [
       "<div>\n",
       "<style scoped>\n",
       "    .dataframe tbody tr th:only-of-type {\n",
       "        vertical-align: middle;\n",
       "    }\n",
       "\n",
       "    .dataframe tbody tr th {\n",
       "        vertical-align: top;\n",
       "    }\n",
       "\n",
       "    .dataframe thead th {\n",
       "        text-align: right;\n",
       "    }\n",
       "</style>\n",
       "<table border=\"1\" class=\"dataframe\">\n",
       "  <thead>\n",
       "    <tr style=\"text-align: right;\">\n",
       "      <th></th>\n",
       "      <th>prot1</th>\n",
       "      <th>res1</th>\n",
       "      <th>prot2</th>\n",
       "      <th>res2</th>\n",
       "    </tr>\n",
       "  </thead>\n",
       "  <tbody>\n",
       "    <tr>\n",
       "      <th>0</th>\n",
       "      <td>MTOR</td>\n",
       "      <td>1197</td>\n",
       "      <td>RICTOR</td>\n",
       "      <td>516</td>\n",
       "    </tr>\n",
       "    <tr>\n",
       "      <th>1</th>\n",
       "      <td>MTOR</td>\n",
       "      <td>1218</td>\n",
       "      <td>RICTOR</td>\n",
       "      <td>516</td>\n",
       "    </tr>\n",
       "    <tr>\n",
       "      <th>2</th>\n",
       "      <td>RICTOR</td>\n",
       "      <td>1642</td>\n",
       "      <td>MSIN1</td>\n",
       "      <td>102</td>\n",
       "    </tr>\n",
       "    <tr>\n",
       "      <th>3</th>\n",
       "      <td>MTOR</td>\n",
       "      <td>1993</td>\n",
       "      <td>RICTOR</td>\n",
       "      <td>1092</td>\n",
       "    </tr>\n",
       "    <tr>\n",
       "      <th>4</th>\n",
       "      <td>RICTOR</td>\n",
       "      <td>1642</td>\n",
       "      <td>MSIN1</td>\n",
       "      <td>104</td>\n",
       "    </tr>\n",
       "  </tbody>\n",
       "</table>\n",
       "</div>"
      ],
      "text/plain": [
       "    prot1  res1   prot2  res2\n",
       "0    MTOR  1197  RICTOR   516\n",
       "1    MTOR  1218  RICTOR   516\n",
       "2  RICTOR  1642   MSIN1   102\n",
       "3    MTOR  1993  RICTOR  1092\n",
       "4  RICTOR  1642   MSIN1   104"
      ]
     },
     "execution_count": 2,
     "metadata": {},
     "output_type": "execute_result"
    }
   ],
   "source": [
    "xl_sat_file = Path(Path.home(), \"Documents/mtorc2/data/xlms/44.csv\")\n",
    "xl_df = pd.read_csv(xl_sat_file)\n",
    "xl_df = xl_df.drop(columns=[\"Unnamed: 0\"])\n",
    "xl_df.head() \n"
   ]
  },
  {
   "cell_type": "code",
   "execution_count": 3,
   "id": "8ad862ea",
   "metadata": {},
   "outputs": [],
   "source": [
    "target_xls = list() \n",
    "for i in range(len(xl_df)):\n",
    "    prot1, res1, prot2, res2 = tuple(xl_df.iloc[i])\n",
    "\n",
    "    if prot1 in [\"AKT1PH\", \"KINASE\"] and prot2 in [\"AKT1PH\", \"KINASE\"]: \n",
    "        target_xls.append(i)\n",
    "        "
   ]
  },
  {
   "cell_type": "code",
   "execution_count": 4,
   "id": "741f1c7e",
   "metadata": {
    "scrolled": true
   },
   "outputs": [
    {
     "name": "stdout",
     "output_type": "stream",
     "text": [
      "62\n"
     ]
    }
   ],
   "source": [
    "print(len(target_xls))"
   ]
  },
  {
   "cell_type": "code",
   "execution_count": 5,
   "id": "fd47d747",
   "metadata": {
    "scrolled": true
   },
   "outputs": [
    {
     "name": "stdout",
     "output_type": "stream",
     "text": [
      "('KINASE', 18, 'KINASE', 38)\n",
      "('KINASE', 44, 'KINASE', 156)\n",
      "('KINASE', 18, 'KINASE', 156)\n",
      "('AKT1PH', 30, 'KINASE', 25)\n",
      "('AKT1PH', 30, 'KINASE', 38)\n",
      "('AKT1PH', 30, 'KINASE', 13)\n",
      "('KINASE', 44, 'KINASE', 18)\n",
      "('KINASE', 9, 'KINASE', 23)\n",
      "('KINASE', 34, 'KINASE', 38)\n",
      "('KINASE', 13, 'KINASE', 38)\n",
      "('KINASE', 281, 'KINASE', 139)\n",
      "('AKT1PH', 30, 'KINASE', 244)\n",
      "('KINASE', 69, 'KINASE', 139)\n",
      "('KINASE', 162, 'KINASE', 44)\n",
      "('KINASE', 123, 'AKT1PH', 112)\n",
      "('KINASE', 152, 'AKT1PH', 14)\n",
      "('KINASE', 131, 'KINASE', 34)\n",
      "('AKT1PH', 20, 'KINASE', 156)\n",
      "('AKT1PH', 112, 'KINASE', 18)\n",
      "('KINASE', 18, 'KINASE', 25)\n",
      "('KINASE', 152, 'KINASE', 131)\n",
      "('KINASE', 156, 'KINASE', 34)\n",
      "('KINASE', 44, 'KINASE', 34)\n",
      "('KINASE', 9, 'KINASE', 18)\n",
      "('AKT1PH', 30, 'KINASE', 156)\n",
      "('AKT1PH', 30, 'KINASE', 18)\n",
      "('KINASE', 18, 'KINASE', 13)\n",
      "('AKT1PH', 30, 'AKT1PH', 14)\n",
      "('KINASE', 38, 'KINASE', 18)\n",
      "('KINASE', 44, 'AKT1PH', 30)\n",
      "('AKT1PH', 20, 'AKT1PH', 14)\n",
      "('KINASE', 162, 'KINASE', 131)\n",
      "('KINASE', 123, 'AKT1PH', 30)\n",
      "('AKT1PH', 30, 'KINASE', 152)\n",
      "('AKT1PH', 30, 'KINASE', 241)\n",
      "('AKT1PH', 20, 'KINASE', 152)\n",
      "('AKT1PH', 20, 'KINASE', 18)\n",
      "('KINASE', 44, 'AKT1PH', 112)\n",
      "('KINASE', 9, 'KINASE', 139)\n",
      "('KINASE', 152, 'KINASE', 34)\n",
      "('KINASE', 274, 'KINASE', 139)\n",
      "('KINASE', 152, 'AKT1PH', 20)\n",
      "('KINASE', 18, 'KINASE', 34)\n",
      "('KINASE', 44, 'AKT1PH', 20)\n",
      "('KINASE', 162, 'KINASE', 37)\n",
      "('KINASE', 275, 'KINASE', 139)\n",
      "('KINASE', 123, 'KINASE', 34)\n",
      "('KINASE', 44, 'KINASE', 152)\n",
      "('KINASE', 139, 'KINASE', 281)\n",
      "('AKT1PH', 30, 'AKT1PH', 20)\n",
      "('KINASE', 38, 'KINASE', 37)\n",
      "('KINASE', 123, 'KINASE', 156)\n",
      "('KINASE', 162, 'KINASE', 34)\n",
      "('KINASE', 162, 'AKT1PH', 20)\n",
      "('AKT1PH', 39, 'AKT1PH', 14)\n",
      "('KINASE', 38, 'KINASE', 34)\n",
      "('KINASE', 44, 'KINASE', 23)\n",
      "('KINASE', 162, 'KINASE', 18)\n",
      "('KINASE', 162, 'KINASE', 13)\n",
      "('KINASE', 162, 'AKT1PH', 14)\n",
      "('AKT1PH', 30, 'KINASE', 232)\n",
      "('AKT1PH', 140, 'KINASE', 69)\n"
     ]
    }
   ],
   "source": [
    "xl_df = xl_df.iloc[target_xls].copy() \n",
    "# df_copy = df_copy.drop(columns=[\"contains\", \"satisfied\"])\n",
    "for i in range(len(xl_df)): \n",
    "    print(tuple(xl_df.iloc[i]))\n"
   ]
  },
  {
   "cell_type": "code",
   "execution_count": 6,
   "id": "bf1c0bc8",
   "metadata": {},
   "outputs": [],
   "source": [
    "xl_df.to_csv(Path(Path.home(), \"Documents/mtorc2/data/xlms/akt.csv\"))\n"
   ]
  },
  {
   "cell_type": "code",
   "execution_count": null,
   "id": "a9acf896",
   "metadata": {},
   "outputs": [],
   "source": []
  }
 ],
 "metadata": {
  "kernelspec": {
   "display_name": "Python 3",
   "language": "python",
   "name": "python3"
  },
  "language_info": {
   "codemirror_mode": {
    "name": "ipython",
    "version": 3
   },
   "file_extension": ".py",
   "mimetype": "text/x-python",
   "name": "python",
   "nbconvert_exporter": "python",
   "pygments_lexer": "ipython3",
   "version": "3.6.15"
  }
 },
 "nbformat": 4,
 "nbformat_minor": 5
}
