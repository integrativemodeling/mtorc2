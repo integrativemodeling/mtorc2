{
 "cells": [
  {
   "cell_type": "code",
   "execution_count": 1,
   "id": "2a127f62",
   "metadata": {},
   "outputs": [],
   "source": [
    "import pandas as pd\n",
    "from pathlib import Path"
   ]
  },
  {
   "cell_type": "code",
   "execution_count": 11,
   "id": "8e62a5cf",
   "metadata": {},
   "outputs": [
    {
     "data": {
      "text/html": [
       "<div>\n",
       "<style scoped>\n",
       "    .dataframe tbody tr th:only-of-type {\n",
       "        vertical-align: middle;\n",
       "    }\n",
       "\n",
       "    .dataframe tbody tr th {\n",
       "        vertical-align: top;\n",
       "    }\n",
       "\n",
       "    .dataframe thead th {\n",
       "        text-align: right;\n",
       "    }\n",
       "</style>\n",
       "<table border=\"1\" class=\"dataframe\">\n",
       "  <thead>\n",
       "    <tr style=\"text-align: right;\">\n",
       "      <th></th>\n",
       "      <th>prot1</th>\n",
       "      <th>res1</th>\n",
       "      <th>prot2</th>\n",
       "      <th>res2</th>\n",
       "      <th>contains</th>\n",
       "      <th>satisfied</th>\n",
       "    </tr>\n",
       "  </thead>\n",
       "  <tbody>\n",
       "    <tr>\n",
       "      <th>0</th>\n",
       "      <td>MTOR</td>\n",
       "      <td>1197</td>\n",
       "      <td>RICTOR</td>\n",
       "      <td>516</td>\n",
       "      <td>False</td>\n",
       "      <td>False</td>\n",
       "    </tr>\n",
       "    <tr>\n",
       "      <th>1</th>\n",
       "      <td>MTOR</td>\n",
       "      <td>1218</td>\n",
       "      <td>RICTOR</td>\n",
       "      <td>516</td>\n",
       "      <td>False</td>\n",
       "      <td>False</td>\n",
       "    </tr>\n",
       "    <tr>\n",
       "      <th>2</th>\n",
       "      <td>RICTOR</td>\n",
       "      <td>1642</td>\n",
       "      <td>MSIN1</td>\n",
       "      <td>102</td>\n",
       "      <td>False</td>\n",
       "      <td>False</td>\n",
       "    </tr>\n",
       "    <tr>\n",
       "      <th>3</th>\n",
       "      <td>RICTOR</td>\n",
       "      <td>1092</td>\n",
       "      <td>MTOR</td>\n",
       "      <td>1993</td>\n",
       "      <td>False</td>\n",
       "      <td>False</td>\n",
       "    </tr>\n",
       "    <tr>\n",
       "      <th>4</th>\n",
       "      <td>RICTOR</td>\n",
       "      <td>1642</td>\n",
       "      <td>MSIN1</td>\n",
       "      <td>104</td>\n",
       "      <td>False</td>\n",
       "      <td>False</td>\n",
       "    </tr>\n",
       "  </tbody>\n",
       "</table>\n",
       "</div>"
      ],
      "text/plain": [
       "    prot1  res1   prot2  res2  contains  satisfied\n",
       "0    MTOR  1197  RICTOR   516     False      False\n",
       "1    MTOR  1218  RICTOR   516     False      False\n",
       "2  RICTOR  1642   MSIN1   102     False      False\n",
       "3  RICTOR  1092    MTOR  1993     False      False\n",
       "4  RICTOR  1642   MSIN1   104     False      False"
      ]
     },
     "execution_count": 11,
     "metadata": {},
     "output_type": "execute_result"
    }
   ],
   "source": [
    "xl_sat_file = Path(Path.home(), \"Documents/mtorc2/utility/initial_model/data/init_xl_satisfaction.csv\")\n",
    "df = pd.read_csv(xl_sat_file)\n",
    "df = df.drop(columns=[\"Unnamed: 0\"])\n",
    "df.head() "
   ]
  },
  {
   "cell_type": "code",
   "execution_count": 12,
   "id": "67eb3573",
   "metadata": {
    "scrolled": true
   },
   "outputs": [],
   "source": [
    "rb_xls = list() \n",
    "flex_xls = list() \n",
    "target = \"MTOR\"\n",
    "for i in range(len(df)):\n",
    "    prot1 = df.iloc[i, df.columns.get_loc(\"prot1\")]\n",
    "    prot2 = df.iloc[i, df.columns.get_loc(\"prot2\")]\n",
    "    res1 = df.iloc[i, df.columns.get_loc(\"res1\")]\n",
    "    res2 = df.iloc[i, df.columns.get_loc(\"res2\")]\n",
    "    contains = df.iloc[i, df.columns.get_loc(\"contains\")]\n",
    "    \n",
    "    if prot1 == target and prot2 == target and contains: \n",
    "        rb_xls.append((prot1, res1, prot2, res2))\n",
    "    elif prot1 == target and prot2 == target and not contains: \n",
    "        flex_xls.append((prot1, res1, prot2, res2))\n"
   ]
  },
  {
   "cell_type": "code",
   "execution_count": 13,
   "id": "5f45c6c3",
   "metadata": {},
   "outputs": [
    {
     "name": "stdout",
     "output_type": "stream",
     "text": [
      "17\n"
     ]
    },
    {
     "data": {
      "text/html": [
       "<div>\n",
       "<style scoped>\n",
       "    .dataframe tbody tr th:only-of-type {\n",
       "        vertical-align: middle;\n",
       "    }\n",
       "\n",
       "    .dataframe tbody tr th {\n",
       "        vertical-align: top;\n",
       "    }\n",
       "\n",
       "    .dataframe thead th {\n",
       "        text-align: right;\n",
       "    }\n",
       "</style>\n",
       "<table border=\"1\" class=\"dataframe\">\n",
       "  <thead>\n",
       "    <tr style=\"text-align: right;\">\n",
       "      <th></th>\n",
       "      <th>prot1</th>\n",
       "      <th>res1</th>\n",
       "      <th>prot2</th>\n",
       "      <th>res2</th>\n",
       "    </tr>\n",
       "  </thead>\n",
       "  <tbody>\n",
       "    <tr>\n",
       "      <th>0</th>\n",
       "      <td>MTOR</td>\n",
       "      <td>900</td>\n",
       "      <td>MTOR</td>\n",
       "      <td>2218</td>\n",
       "    </tr>\n",
       "    <tr>\n",
       "      <th>1</th>\n",
       "      <td>MTOR</td>\n",
       "      <td>1655</td>\n",
       "      <td>MTOR</td>\n",
       "      <td>1745</td>\n",
       "    </tr>\n",
       "    <tr>\n",
       "      <th>2</th>\n",
       "      <td>MTOR</td>\n",
       "      <td>1267</td>\n",
       "      <td>MTOR</td>\n",
       "      <td>1293</td>\n",
       "    </tr>\n",
       "    <tr>\n",
       "      <th>3</th>\n",
       "      <td>MTOR</td>\n",
       "      <td>1277</td>\n",
       "      <td>MTOR</td>\n",
       "      <td>226</td>\n",
       "    </tr>\n",
       "    <tr>\n",
       "      <th>4</th>\n",
       "      <td>MTOR</td>\n",
       "      <td>2352</td>\n",
       "      <td>MTOR</td>\n",
       "      <td>900</td>\n",
       "    </tr>\n",
       "  </tbody>\n",
       "</table>\n",
       "</div>"
      ],
      "text/plain": [
       "  prot1  res1 prot2  res2\n",
       "0  MTOR   900  MTOR  2218\n",
       "1  MTOR  1655  MTOR  1745\n",
       "2  MTOR  1267  MTOR  1293\n",
       "3  MTOR  1277  MTOR   226\n",
       "4  MTOR  2352  MTOR   900"
      ]
     },
     "execution_count": 13,
     "metadata": {},
     "output_type": "execute_result"
    }
   ],
   "source": [
    "df_1 = pd.DataFrame(data=rb_xls, columns=[\"prot1\", \"res1\", \"prot2\", \"res2\"])\n",
    "print(len(df_1))\n",
    "df_1.head()\n"
   ]
  },
  {
   "cell_type": "code",
   "execution_count": 14,
   "id": "b07ef73e",
   "metadata": {},
   "outputs": [],
   "source": [
    "df_1.to_csv(Path(Path.home(), \"Documents/mtorc2/data/xlms/{}_intra_rb.csv\".format(target)))\n"
   ]
  },
  {
   "cell_type": "code",
   "execution_count": 15,
   "id": "466a7c78",
   "metadata": {},
   "outputs": [
    {
     "name": "stdout",
     "output_type": "stream",
     "text": [
      "23\n"
     ]
    },
    {
     "data": {
      "text/html": [
       "<div>\n",
       "<style scoped>\n",
       "    .dataframe tbody tr th:only-of-type {\n",
       "        vertical-align: middle;\n",
       "    }\n",
       "\n",
       "    .dataframe tbody tr th {\n",
       "        vertical-align: top;\n",
       "    }\n",
       "\n",
       "    .dataframe thead th {\n",
       "        text-align: right;\n",
       "    }\n",
       "</style>\n",
       "<table border=\"1\" class=\"dataframe\">\n",
       "  <thead>\n",
       "    <tr style=\"text-align: right;\">\n",
       "      <th></th>\n",
       "      <th>prot1</th>\n",
       "      <th>res1</th>\n",
       "      <th>prot2</th>\n",
       "      <th>res2</th>\n",
       "    </tr>\n",
       "  </thead>\n",
       "  <tbody>\n",
       "    <tr>\n",
       "      <th>0</th>\n",
       "      <td>MTOR</td>\n",
       "      <td>379</td>\n",
       "      <td>MTOR</td>\n",
       "      <td>251</td>\n",
       "    </tr>\n",
       "    <tr>\n",
       "      <th>1</th>\n",
       "      <td>MTOR</td>\n",
       "      <td>42</td>\n",
       "      <td>MTOR</td>\n",
       "      <td>301</td>\n",
       "    </tr>\n",
       "    <tr>\n",
       "      <th>2</th>\n",
       "      <td>MTOR</td>\n",
       "      <td>2437</td>\n",
       "      <td>MTOR</td>\n",
       "      <td>2496</td>\n",
       "    </tr>\n",
       "    <tr>\n",
       "      <th>3</th>\n",
       "      <td>MTOR</td>\n",
       "      <td>128</td>\n",
       "      <td>MTOR</td>\n",
       "      <td>42</td>\n",
       "    </tr>\n",
       "    <tr>\n",
       "      <th>4</th>\n",
       "      <td>MTOR</td>\n",
       "      <td>298</td>\n",
       "      <td>MTOR</td>\n",
       "      <td>42</td>\n",
       "    </tr>\n",
       "  </tbody>\n",
       "</table>\n",
       "</div>"
      ],
      "text/plain": [
       "  prot1  res1 prot2  res2\n",
       "0  MTOR   379  MTOR   251\n",
       "1  MTOR    42  MTOR   301\n",
       "2  MTOR  2437  MTOR  2496\n",
       "3  MTOR   128  MTOR    42\n",
       "4  MTOR   298  MTOR    42"
      ]
     },
     "execution_count": 15,
     "metadata": {},
     "output_type": "execute_result"
    }
   ],
   "source": [
    "df_2 = pd.DataFrame(data=flex_xls, columns=[\"prot1\", \"res1\", \"prot2\", \"res2\"])\n",
    "print(len(df_2))\n",
    "df_2.head()"
   ]
  },
  {
   "cell_type": "code",
   "execution_count": 16,
   "id": "0c0dc482",
   "metadata": {},
   "outputs": [],
   "source": [
    "df_2.to_csv(Path(Path.home(), \"Documents/mtorc2/data/xlms/{}_intra_flex.csv\".format(target)))\n"
   ]
  },
  {
   "cell_type": "code",
   "execution_count": null,
   "id": "78b70c5b",
   "metadata": {},
   "outputs": [],
   "source": []
  }
 ],
 "metadata": {
  "kernelspec": {
   "display_name": "Python 3 (ipykernel)",
   "language": "python",
   "name": "python3"
  },
  "language_info": {
   "codemirror_mode": {
    "name": "ipython",
    "version": 3
   },
   "file_extension": ".py",
   "mimetype": "text/x-python",
   "name": "python",
   "nbconvert_exporter": "python",
   "pygments_lexer": "ipython3",
   "version": "3.10.1"
  }
 },
 "nbformat": 4,
 "nbformat_minor": 5
}
