{
 "cells": [
  {
   "cell_type": "code",
   "execution_count": 6,
   "metadata": {},
   "outputs": [],
   "source": [
    "from pathlib import Path\n",
    "import pandas as pd\n",
    "\n",
    "import IMP\n",
    "import IMP.pmi\n",
    "import IMP.pmi.topology\n",
    "import IMP.pmi.dof\n",
    "import IMP.pmi.macros\n",
    "import IMP.rmf\n",
    "import RMF"
   ]
  },
  {
   "cell_type": "code",
   "execution_count": 7,
   "metadata": {},
   "outputs": [],
   "source": [
    "def get_continous_ranges(numbers):\n",
    "    start, end = numbers[0], numbers[0]\n",
    "    ranges = list()\n",
    "    for num in numbers[1:]:\n",
    "        if num == end + 1:\n",
    "            end = num\n",
    "        else:\n",
    "            ranges.append((start, end))\n",
    "            start = num\n",
    "            end = num\n",
    "\n",
    "    return ranges"
   ]
  },
  {
   "cell_type": "code",
   "execution_count": 8,
   "metadata": {},
   "outputs": [
    {
     "name": "stdout",
     "output_type": "stream",
     "text": [
      "     name subunit   color  rb_start  rb_end  \\\n",
      "0    MTOR    MTOR    blue         1    2549   \n",
      "1  RICTOR  RICTOR   green         1    1708   \n",
      "2   MLST8   MLST8  yellow         1     326   \n",
      "3   MSIN1   MSIN1     red         1     154   \n",
      "4    CRIM   MSIN1     red       155     277   \n",
      "\n",
      "                                            pdb_file  \\\n",
      "0  /Users/matthew/Documents/mtorc2/data/em/models...   \n",
      "1  /Users/matthew/Documents/mtorc2/data/em/models...   \n",
      "2  /Users/matthew/Documents/mtorc2/data/em/models...   \n",
      "3  /Users/matthew/Documents/mtorc2/data/em/models...   \n",
      "4  /Users/matthew/Documents/mtorc2/data/em/models...   \n",
      "\n",
      "                                           em_prefix  res_per_comp  start_pdb  \\\n",
      "0                                                NaN             0          1   \n",
      "1                                                NaN             0          1   \n",
      "2                                                NaN             0          1   \n",
      "3                                                NaN             0          1   \n",
      "4  /wynton/home/sali/mhancock/mtorc2/data/em/comp...            10        155   \n",
      "\n",
      "   end_pdb  offset  rb_trans  rb_rot  flex_trans pdb_chain model_chain  \n",
      "0     2549       0         0       0          10         F           A  \n",
      "1     1708       0         0       0          10         H           B  \n",
      "2      326       0         0       0          10         G           C  \n",
      "3      154       0         0       0          10         I           D  \n",
      "4      267       0         1       1          10         I           D  \n"
     ]
    }
   ],
   "source": [
    "m = IMP.Model()\n",
    "s = IMP.pmi.topology.System(m)\n",
    "\n",
    "data_dir = Path(Path.home(), \"Documents/mtorc2/data\")\n",
    "fasta_file = Path(data_dir, \"fasta/mtorc2.fasta\")\n",
    "seqs = IMP.pmi.topology.Sequences(fasta_fn=str(fasta_file))\n",
    "st = s.create_state()\n",
    "\n",
    "param_df = pd.read_csv(Path(data_dir, \"params/130.csv\"))\n",
    "\n",
    "for i in range(len(param_df)):\n",
    "    pdb_file_orig = Path(param_df.iloc[i][\"pdb_file\"])\n",
    "    new_path = Path(Path.home(), \"Documents\", *pdb_file_orig.parts[5:])\n",
    "    param_df.at[i, \"pdb_file\"] = str(new_path)\n",
    "\n",
    "print(param_df.head())\n"
   ]
  },
  {
   "cell_type": "code",
   "execution_count": 9,
   "metadata": {},
   "outputs": [
    {
     "name": "stdout",
     "output_type": "stream",
     "text": [
      "MTOR\n",
      "[0]\n",
      "MTOR /Users/matthew/Documents/mtorc2/data/em/models/mTORC2-Akt_v1113_Dimer.pdb F 1 2549 0 nan\n"
     ]
    },
    {
     "name": "stderr",
     "output_type": "stream",
     "text": [
      "/Users/matthew/opt/anaconda3/envs/imp_220/lib/python3.12/site-packages/IMP/pmi/topology/__init__.py:1317: StructureWarning: Inconsistency between FASTA sequence and PDB sequence. FASTA type 631 \"THR\" and PDB type \"ILE\"\n",
      "  warnings.warn(\n",
      "/Users/matthew/opt/anaconda3/envs/imp_220/lib/python3.12/site-packages/IMP/pmi/topology/__init__.py:1317: StructureWarning: Inconsistency between FASTA sequence and PDB sequence. FASTA type 637 \"ILE\" and PDB type \"ALA\"\n",
      "  warnings.warn(\n"
     ]
    },
    {
     "name": "stdout",
     "output_type": "stream",
     "text": [
      "MTOR 2549\n",
      "MTOR 2184\n",
      "MTOR 365\n",
      "flexible regions:  [(1, 13), (23, 45), (54, 79), (94, 119), (136, 140), (158, 161), (198, 202), (227, 232), (246, 256), (296, 359), (552, 569), (596, 598), (638, 645), (906, 925), (1241, 1261), (1815, 1869)]\n",
      "structural coverage:  0.8568065908199294\n",
      "RICTOR\n",
      "[1]\n",
      "RICTOR /Users/matthew/Documents/mtorc2/data/em/models/mTORC2-Akt_v1113_Dimer.pdb H 1 1708 0 nan\n",
      "begin read_pdb:\n",
      "  WARNING  Could not determine CHARMM atom type for atom \"HET:ZN  \" in residue #1 \"ZN\"\n",
      "end read_pdb\n",
      "RICTOR 1708\n",
      "RICTOR 1171\n",
      "RICTOR 537\n",
      "flexible regions:  [(1, 21), (859, 865), (1018, 1418), (1450, 1477), (1540, 1605)]\n",
      "structural coverage:  0.6855971896955504\n",
      "MLST8\n",
      "[2]\n",
      "MLST8 /Users/matthew/Documents/mtorc2/data/em/models/mTORC2-Akt_v1113_Dimer.pdb G 1 326 0 nan\n",
      "MLST8 326\n",
      "MLST8 317\n",
      "MLST8 9\n",
      "flexible regions:  [(1, 7)]\n",
      "structural coverage:  0.9723926380368099\n",
      "MSIN1\n",
      "[3, 4, 5, 6]\n",
      "MSIN1 /Users/matthew/Documents/mtorc2/data/em/models/mTORC2-Akt_v1113_Dimer.pdb I 1 154 0 nan\n",
      "CRIM /Users/matthew/Documents/mtorc2/data/em/models/mTORC2-Akt_v1113_Dimer.pdb I 155 267 0 /wynton/home/sali/mhancock/mtorc2/data/em/comps/1131/10/CRIM\n"
     ]
    },
    {
     "name": "stderr",
     "output_type": "stream",
     "text": [
      "/Users/matthew/opt/anaconda3/envs/imp_220/lib/python3.12/site-packages/IMP/pmi/topology/__init__.py:1317: StructureWarning: Inconsistency between FASTA sequence and PDB sequence. FASTA type 74 \"SER\" and PDB type \"THR\"\n",
      "  warnings.warn(\n"
     ]
    },
    {
     "name": "stdout",
     "output_type": "stream",
     "text": [
      "RBD /Users/matthew/Documents/mtorc2/data/pdb/7lc1.pdb B 278 353 0 nan\n",
      "MSIN1PH /Users/matthew/Documents/mtorc2/data/pdb/7lc1.pdb B 383 481 0 nan\n",
      "MSIN1 522\n",
      "MSIN1 403\n",
      "MSIN1 119\n",
      "flexible regions:  [(40, 65), (184, 191), (268, 277), (354, 382), (416, 420)]\n",
      "structural coverage:  0.7720306513409961\n",
      "AKT1\n",
      "[7, 8, 9]\n",
      "AKT1PH /Users/matthew/Documents/mtorc2/data/pdb/akt1_af.pdb H 1 123 0 nan\n",
      "KINASEN /Users/matthew/Documents/mtorc2/data/em/models/mTORC2-Akt_v1113_Dimer.pdb J 144 229 0 /wynton/home/sali/mhancock/mtorc2/data/em/comps/1131/10/KINASEN\n",
      "begin read_pdb:\n",
      "  WARNING  Could not determine CHARMM atom type for atom \"HET: N  \" in residue #473 \"T1C\"\n",
      "  WARNING  Could not determine CHARMM atom type for atom \"HET: CA \" in residue #473 \"T1C\"\n",
      "  WARNING  Could not determine CHARMM atom type for atom \"HET: C  \" in residue #473 \"T1C\"\n",
      "  WARNING  Could not determine CHARMM atom type for atom \"HET: O  \" in residue #473 \"T1C\"\n",
      "  WARNING  Could not determine CHARMM atom type for atom \"HET: CB \" in residue #473 \"T1C\"\n",
      "  WARNING  Could not determine CHARMM atom type for atom \"HET: SG \" in residue #473 \"T1C\"\n",
      "  WARNING  Could not determine CHARMM atom type for atom \"HET: C05\" in residue #473 \"T1C\"\n",
      "  WARNING  Could not determine CHARMM atom type for atom \"HET: C06\" in residue #473 \"T1C\"\n",
      "  WARNING  Could not determine CHARMM atom type for atom \"HET: C07\" in residue #473 \"T1C\"\n",
      "  WARNING  Could not determine CHARMM atom type for atom \"HET: C10\" in residue #473 \"T1C\"\n",
      "  WARNING  Could not determine CHARMM atom type for atom \"HET: C11\" in residue #473 \"T1C\"\n",
      "  WARNING  Could not determine CHARMM atom type for atom \"HET: C13\" in residue #473 \"T1C\"\n",
      "  WARNING  Could not determine CHARMM atom type for atom \"HET: C14\" in residue #473 \"T1C\"\n",
      "  WARNING  Could not determine CHARMM atom type for atom \"HET: C15\" in residue #473 \"T1C\"\n",
      "  WARNING  Could not determine CHARMM atom type for atom \"HET: C16\" in residue #473 \"T1C\"\n",
      "  WARNING  Could not determine CHARMM atom type for atom \"HET: C17\" in residue #473 \"T1C\"\n",
      "  WARNING  Could not determine CHARMM atom type for atom \"HET: C18\" in residue #473 \"T1C\"\n",
      "  WARNING  Could not determine CHARMM atom type for atom \"HET: C19\" in residue #473 \"T1C\"\n",
      "  WARNING  Could not determine CHARMM atom type for atom \"HET: C20\" in residue #473 \"T1C\"\n",
      "  WARNING  Could not determine CHARMM atom type for atom \"HET: C22\" in residue #473 \"T1C\"\n",
      "  WARNING  Could not determine CHARMM atom type for atom \"HET: C24\" in residue #473 \"T1C\"\n",
      "  WARNING  Could not determine CHARMM atom type for atom \"HET: C25\" in residue #473 \"T1C\"\n",
      "  WARNING  Could not determine CHARMM atom type for atom \"HET: C26\" in residue #473 \"T1C\"\n",
      "  WARNING  Could not determine CHARMM atom type for atom \"HET: C27\" in residue #473 \"T1C\"\n",
      "  WARNING  Could not determine CHARMM atom type for atom \"HET: C29\" in residue #473 \"T1C\"\n",
      "  WARNING  Could not determine CHARMM atom type for atom \"HET: C30\" in residue #473 \"T1C\"\n",
      "  WARNING  Could not determine CHARMM atom type for atom \"HET: C31\" in residue #473 \"T1C\"\n",
      "  WARNING  Could not determine CHARMM atom type for atom \"HET: C32\" in residue #473 \"T1C\"\n",
      "  WARNING  Could not determine CHARMM atom type for atom \"HET: C33\" in residue #473 \"T1C\"\n",
      "  WARNING  Could not determine CHARMM atom type for atom \"HET: C34\" in residue #473 \"T1C\"\n",
      "  WARNING  Could not determine CHARMM atom type for atom \"HET: C35\" in residue #473 \"T1C\"\n",
      "  WARNING  Could not determine CHARMM atom type for atom \"HET: C36\" in residue #473 \"T1C\"\n",
      "  WARNING  Could not determine CHARMM atom type for atom \"HET: C37\" in residue #473 \"T1C\"\n",
      "  WARNING  Could not determine CHARMM atom type for atom \"HET: C38\" in residue #473 \"T1C\"\n",
      "  WARNING  Could not determine CHARMM atom type for atom \"HET: C39\" in residue #473 \"T1C\"\n",
      "  WARNING  Could not determine CHARMM atom type for atom \"HET: C40\" in residue #473 \"T1C\"\n",
      "  WARNING  Could not determine CHARMM atom type for atom \"HET: C41\" in residue #473 \"T1C\"\n",
      "  WARNING  Could not determine CHARMM atom type for atom \"HET: C42\" in residue #473 \"T1C\"\n",
      "  WARNING  Could not determine CHARMM atom type for atom \"HET: C43\" in residue #473 \"T1C\"\n",
      "  WARNING  Could not determine CHARMM atom type for atom \"HET: C45\" in residue #473 \"T1C\"\n",
      "  WARNING  Could not determine CHARMM atom type for atom \"HET: C46\" in residue #473 \"T1C\"\n",
      "  WARNING  Could not determine CHARMM atom type for atom \"HET: F47\" in residue #473 \"T1C\"\n",
      "  WARNING  Could not determine CHARMM atom type for atom \"HET: F48\" in residue #473 \"T1C\"\n",
      "  WARNING  Could not determine CHARMM atom type for atom \"HET: F49\" in residue #473 \"T1C\"\n",
      "  WARNING  Could not determine CHARMM atom type for atom \"HET: N09\" in residue #473 \"T1C\"\n",
      "  WARNING  Could not determine CHARMM atom type for atom \"HET: N12\" in residue #473 \"T1C\"\n",
      "  WARNING  Could not determine CHARMM atom type for atom \"HET: N21\" in residue #473 \"T1C\"\n",
      "  WARNING  Could not determine CHARMM atom type for atom \"HET: N28\" in residue #473 \"T1C\"\n",
      "  WARNING  Could not determine CHARMM atom type for atom \"HET: N44\" in residue #473 \"T1C\"\n",
      "  WARNING  Could not determine CHARMM atom type for atom \"HET: O08\" in residue #473 \"T1C\"\n",
      "  WARNING  Could not determine CHARMM atom type for atom \"HET: O23\" in residue #473 \"T1C\"\n",
      "end read_pdb\n",
      "KINASEC /Users/matthew/Documents/mtorc2/data/em/models/mTORC2-Akt_v1113_Dimer.pdb J 234 426 0 /wynton/home/sali/mhancock/mtorc2/data/em/comps/1131/10/KINASEC\n",
      "begin read_pdb:\n",
      "  WARNING  Could not determine CHARMM atom type for atom \"HET: N  \" in residue #473 \"T1C\"\n",
      "  WARNING  Could not determine CHARMM atom type for atom \"HET: CA \" in residue #473 \"T1C\"\n",
      "  WARNING  Could not determine CHARMM atom type for atom \"HET: C  \" in residue #473 \"T1C\"\n",
      "  WARNING  Could not determine CHARMM atom type for atom \"HET: O  \" in residue #473 \"T1C\"\n",
      "  WARNING  Could not determine CHARMM atom type for atom \"HET: CB \" in residue #473 \"T1C\"\n",
      "  WARNING  Could not determine CHARMM atom type for atom \"HET: SG \" in residue #473 \"T1C\"\n",
      "  WARNING  Could not determine CHARMM atom type for atom \"HET: C05\" in residue #473 \"T1C\"\n",
      "  WARNING  Could not determine CHARMM atom type for atom \"HET: C06\" in residue #473 \"T1C\"\n",
      "  WARNING  Could not determine CHARMM atom type for atom \"HET: C07\" in residue #473 \"T1C\"\n",
      "  WARNING  Could not determine CHARMM atom type for atom \"HET: C10\" in residue #473 \"T1C\"\n",
      "  WARNING  Could not determine CHARMM atom type for atom \"HET: C11\" in residue #473 \"T1C\"\n",
      "  WARNING  Could not determine CHARMM atom type for atom \"HET: C13\" in residue #473 \"T1C\"\n",
      "  WARNING  Could not determine CHARMM atom type for atom \"HET: C14\" in residue #473 \"T1C\"\n",
      "  WARNING  Could not determine CHARMM atom type for atom \"HET: C15\" in residue #473 \"T1C\"\n",
      "  WARNING  Could not determine CHARMM atom type for atom \"HET: C16\" in residue #473 \"T1C\"\n",
      "  WARNING  Could not determine CHARMM atom type for atom \"HET: C17\" in residue #473 \"T1C\"\n",
      "  WARNING  Could not determine CHARMM atom type for atom \"HET: C18\" in residue #473 \"T1C\"\n",
      "  WARNING  Could not determine CHARMM atom type for atom \"HET: C19\" in residue #473 \"T1C\"\n",
      "  WARNING  Could not determine CHARMM atom type for atom \"HET: C20\" in residue #473 \"T1C\"\n",
      "  WARNING  Could not determine CHARMM atom type for atom \"HET: C22\" in residue #473 \"T1C\"\n",
      "  WARNING  Could not determine CHARMM atom type for atom \"HET: C24\" in residue #473 \"T1C\"\n",
      "  WARNING  Could not determine CHARMM atom type for atom \"HET: C25\" in residue #473 \"T1C\"\n",
      "  WARNING  Could not determine CHARMM atom type for atom \"HET: C26\" in residue #473 \"T1C\"\n",
      "  WARNING  Could not determine CHARMM atom type for atom \"HET: C27\" in residue #473 \"T1C\"\n",
      "  WARNING  Could not determine CHARMM atom type for atom \"HET: C29\" in residue #473 \"T1C\"\n",
      "  WARNING  Could not determine CHARMM atom type for atom \"HET: C30\" in residue #473 \"T1C\"\n",
      "  WARNING  Could not determine CHARMM atom type for atom \"HET: C31\" in residue #473 \"T1C\"\n",
      "  WARNING  Could not determine CHARMM atom type for atom \"HET: C32\" in residue #473 \"T1C\"\n",
      "  WARNING  Could not determine CHARMM atom type for atom \"HET: C33\" in residue #473 \"T1C\"\n",
      "  WARNING  Could not determine CHARMM atom type for atom \"HET: C34\" in residue #473 \"T1C\"\n",
      "  WARNING  Could not determine CHARMM atom type for atom \"HET: C35\" in residue #473 \"T1C\"\n",
      "  WARNING  Could not determine CHARMM atom type for atom \"HET: C36\" in residue #473 \"T1C\"\n",
      "  WARNING  Could not determine CHARMM atom type for atom \"HET: C37\" in residue #473 \"T1C\"\n",
      "  WARNING  Could not determine CHARMM atom type for atom \"HET: C38\" in residue #473 \"T1C\"\n",
      "  WARNING  Could not determine CHARMM atom type for atom \"HET: C39\" in residue #473 \"T1C\"\n",
      "  WARNING  Could not determine CHARMM atom type for atom \"HET: C40\" in residue #473 \"T1C\"\n",
      "  WARNING  Could not determine CHARMM atom type for atom \"HET: C41\" in residue #473 \"T1C\"\n",
      "  WARNING  Could not determine CHARMM atom type for atom \"HET: C42\" in residue #473 \"T1C\"\n",
      "  WARNING  Could not determine CHARMM atom type for atom \"HET: C43\" in residue #473 \"T1C\"\n",
      "  WARNING  Could not determine CHARMM atom type for atom \"HET: C45\" in residue #473 \"T1C\"\n",
      "  WARNING  Could not determine CHARMM atom type for atom \"HET: C46\" in residue #473 \"T1C\"\n",
      "  WARNING  Could not determine CHARMM atom type for atom \"HET: F47\" in residue #473 \"T1C\"\n",
      "  WARNING  Could not determine CHARMM atom type for atom \"HET: F48\" in residue #473 \"T1C\"\n",
      "  WARNING  Could not determine CHARMM atom type for atom \"HET: F49\" in residue #473 \"T1C\"\n",
      "  WARNING  Could not determine CHARMM atom type for atom \"HET: N09\" in residue #473 \"T1C\"\n",
      "  WARNING  Could not determine CHARMM atom type for atom \"HET: N12\" in residue #473 \"T1C\"\n",
      "  WARNING  Could not determine CHARMM atom type for atom \"HET: N21\" in residue #473 \"T1C\"\n",
      "  WARNING  Could not determine CHARMM atom type for atom \"HET: N28\" in residue #473 \"T1C\"\n",
      "  WARNING  Could not determine CHARMM atom type for atom \"HET: N44\" in residue #473 \"T1C\"\n",
      "  WARNING  Could not determine CHARMM atom type for atom \"HET: O08\" in residue #473 \"T1C\"\n",
      "  WARNING  Could not determine CHARMM atom type for atom \"HET: O23\" in residue #473 \"T1C\"\n",
      "end read_pdb\n",
      "OrderedSet([0_AKT1_0_S124, 0_AKT1_0_P125, 0_AKT1_0_S126, 0_AKT1_0_D127, 0_AKT1_0_N128, 0_AKT1_0_S129, 0_AKT1_0_G130, 0_AKT1_0_A131, 0_AKT1_0_E132, 0_AKT1_0_E133, 0_AKT1_0_M134, 0_AKT1_0_E135, 0_AKT1_0_V136, 0_AKT1_0_S137, 0_AKT1_0_L138, 0_AKT1_0_A139, 0_AKT1_0_K140, 0_AKT1_0_P141, 0_AKT1_0_K142, 0_AKT1_0_H143, 0_AKT1_0_P208, 0_AKT1_0_F209, 0_AKT1_0_L210, 0_AKT1_0_T211, 0_AKT1_0_A212, 0_AKT1_0_A230, 0_AKT1_0_N231, 0_AKT1_0_G232, 0_AKT1_0_G233, 0_AKT1_0_K426, 0_AKT1_0_P427, 0_AKT1_0_Q428, 0_AKT1_0_V429, 0_AKT1_0_T430, 0_AKT1_0_S431, 0_AKT1_0_E432, 0_AKT1_0_T433, 0_AKT1_0_D434, 0_AKT1_0_T435, 0_AKT1_0_R436, 0_AKT1_0_Y437, 0_AKT1_0_F438, 0_AKT1_0_D439, 0_AKT1_0_E440, 0_AKT1_0_E441, 0_AKT1_0_F442, 0_AKT1_0_T443, 0_AKT1_0_A444, 0_AKT1_0_Q445, 0_AKT1_0_M446, 0_AKT1_0_I447, 0_AKT1_0_T448, 0_AKT1_0_I449, 0_AKT1_0_T450, 0_AKT1_0_P451, 0_AKT1_0_P452, 0_AKT1_0_D453, 0_AKT1_0_Q454, 0_AKT1_0_D455, 0_AKT1_0_D456, 0_AKT1_0_S457, 0_AKT1_0_M458, 0_AKT1_0_E459, 0_AKT1_0_C460, 0_AKT1_0_V461, 0_AKT1_0_D462, 0_AKT1_0_S463, 0_AKT1_0_E464, 0_AKT1_0_R465, 0_AKT1_0_R466, 0_AKT1_0_P467, 0_AKT1_0_H468, 0_AKT1_0_F469, 0_AKT1_0_P470, 0_AKT1_0_Q471, 0_AKT1_0_F472, 0_AKT1_0_S473, 0_AKT1_0_Y474, 0_AKT1_0_S475, 0_AKT1_0_A476, 0_AKT1_0_S477, 0_AKT1_0_G478, 0_AKT1_0_T479, 0_AKT1_0_A480])\n",
      "AKT1 480\n",
      "AKT1 396\n",
      "AKT1 84\n",
      "flexible regions:  [(124, 143), (208, 212), (230, 233)]\n",
      "structural coverage:  0.825\n"
     ]
    }
   ],
   "source": [
    "clones = dict()\n",
    "mols = dict()\n",
    "subunits = [\"MTOR\", \"RICTOR\", \"MLST8\", \"MSIN1\", \"AKT1\"]\n",
    "for subunit in subunits:\n",
    "    print(subunit)\n",
    "    subunit_row_ids = list(param_df[param_df[\"subunit\"] == subunit].index)\n",
    "    color = param_df.iloc[subunit_row_ids[0], param_df.columns.get_loc(\"color\")]\n",
    "    chain = param_df.iloc[subunit_row_ids[0], param_df.columns.get_loc(\"model_chain\")]\n",
    "\n",
    "    mol = st.create_molecule(\n",
    "        name=subunit,\n",
    "        sequence=seqs[subunit],\n",
    "        chain_id=chain\n",
    "    )\n",
    "    mols[subunit] = mol\n",
    "\n",
    "    print(subunit_row_ids)\n",
    "    for row_id in subunit_row_ids:\n",
    "        name = param_df.iloc[row_id][\"name\"]\n",
    "        pdb_file = Path(param_df.iloc[row_id][\"pdb_file\"])\n",
    "        pdb_chain = param_df.iloc[row_id][\"pdb_chain\"]\n",
    "        start_pdb = param_df.iloc[row_id][\"start_pdb\"]\n",
    "        end_pdb = param_df.iloc[row_id][\"end_pdb\"]\n",
    "        offset = int(param_df.iloc[row_id][\"offset\"])\n",
    "        em_prefix = param_df.iloc[row_id][\"em_prefix\"]\n",
    "        res_per_comp = int(param_df.iloc[row_id][\"res_per_comp\"])\n",
    "        print(name, pdb_file, pdb_chain, start_pdb, end_pdb, offset, em_prefix)\n",
    "\n",
    "        atom_res = mol.add_structure(\n",
    "            pdb_fn=str(pdb_file),\n",
    "            chain_id=pdb_chain,\n",
    "            soft_check=True,\n",
    "            res_range=(start_pdb, end_pdb),\n",
    "            offset=offset,\n",
    "            model_num=1\n",
    "        )\n",
    "\n",
    "        mol.add_representation(\n",
    "            residues=atom_res,\n",
    "            resolutions=[1,10],\n",
    "            color=color\n",
    "        )\n",
    "\n",
    "    if subunit == \"AKT1\":\n",
    "        print(mol.get_non_atomic_residues())\n",
    "        flex_res = list(mol.get_non_atomic_residues())[:22]\n",
    "    else:\n",
    "        flex_res = list(mol.get_non_atomic_residues())\n",
    "\n",
    "    mol.add_representation(\n",
    "        flex_res,\n",
    "        resolutions=[10],\n",
    "        color=color,\n",
    "        setup_particles_as_densities=False\n",
    "    )\n",
    "\n",
    "    print(subunit, len(mol.get_residues()))\n",
    "    print(subunit, len(mol.get_atomic_residues()))\n",
    "    print(subunit, len(mol.get_non_atomic_residues()))\n",
    "\n",
    "    mol.get_non_atomic_residues()\n",
    "\n",
    "    flex_res = list(mol.get_non_atomic_residues())\n",
    "    indices = [res.get_index() for res in flex_res]\n",
    "\n",
    "    print(\"flexible regions: \", get_continous_ranges(indices))\n",
    "    print(\"structural coverage: \", 1-len(mol.get_non_atomic_residues())/len(mol.get_residues()))\n",
    "\n",
    "# root_hier = s.build()\n",
    "# dof = IMP.pmi.dof.DegreesOfFreedom(m)\n"
   ]
  },
  {
   "cell_type": "markdown",
   "metadata": {},
   "source": [
    "### Count the number of unmodeled residues"
   ]
  },
  {
   "cell_type": "code",
   "execution_count": 27,
   "metadata": {},
   "outputs": [
    {
     "name": "stdout",
     "output_type": "stream",
     "text": [
      "MTOR 365\n",
      "RICTOR 537\n",
      "MLST8 9\n",
      "MSIN1 119\n",
      "AKT1 84\n"
     ]
    }
   ],
   "source": [
    "unmodeled_residues = list()\n",
    "for subunit in subunits:\n",
    "    flex_res = mols[subunit].get_non_atomic_residues()\n",
    "    unmodeled_residues.extend(flex_res)\n",
    "    print(subunit, len(flex_res))"
   ]
  },
  {
   "cell_type": "code",
   "execution_count": 28,
   "metadata": {},
   "outputs": [],
   "source": [
    "unmodeled_residues.extend(mols[\"AKT1\"].residue_range(1,143))\n",
    "unmodeled_residues.extend(mols[\"MSIN1\"].residue_range(278,522))"
   ]
  },
  {
   "cell_type": "code",
   "execution_count": 32,
   "metadata": {},
   "outputs": [
    {
     "data": {
      "text/plain": [
       "1406"
      ]
     },
     "execution_count": 32,
     "metadata": {},
     "output_type": "execute_result"
    }
   ],
   "source": [
    "len(set(unmodeled_residues))"
   ]
  },
  {
   "cell_type": "code",
   "execution_count": 33,
   "metadata": {},
   "outputs": [
    {
     "name": "stdout",
     "output_type": "stream",
     "text": [
      "5585\n"
     ]
    }
   ],
   "source": [
    "all_res = list()\n",
    "for subunit in subunits:\n",
    "    all_res.extend(mols[subunit].get_residues())\n",
    "\n",
    "print(len(all_res))\n"
   ]
  },
  {
   "cell_type": "code",
   "execution_count": null,
   "metadata": {},
   "outputs": [],
   "source": []
  }
 ],
 "metadata": {
  "kernelspec": {
   "display_name": "imp_220",
   "language": "python",
   "name": "python3"
  },
  "language_info": {
   "codemirror_mode": {
    "name": "ipython",
    "version": 3
   },
   "file_extension": ".py",
   "mimetype": "text/x-python",
   "name": "python",
   "nbconvert_exporter": "python",
   "pygments_lexer": "ipython3",
   "version": "3.12.1"
  }
 },
 "nbformat": 4,
 "nbformat_minor": 2
}
