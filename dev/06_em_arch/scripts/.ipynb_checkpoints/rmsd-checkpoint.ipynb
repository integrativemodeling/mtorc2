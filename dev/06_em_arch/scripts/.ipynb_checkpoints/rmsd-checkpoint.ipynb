{
 "cells": [
  {
   "cell_type": "code",
   "execution_count": 1,
   "id": "1ba00e50",
   "metadata": {},
   "outputs": [],
   "source": [
    "import IMP \n",
    "import IMP.atom\n",
    "from pathlib import Path"
   ]
  },
  {
   "cell_type": "code",
   "execution_count": 2,
   "id": "3da09a9c",
   "metadata": {},
   "outputs": [
    {
     "name": "stdout",
     "output_type": "stream",
     "text": [
      "83\n"
     ]
    }
   ],
   "source": [
    "n_file = Path(Path.home(), \"mtorc2/data/em/models/J252/AKT1_N-lobe_AF-P31749-F1_conf02.pdb\")\n",
    "m_n = IMP.Model()\n",
    "h_n = IMP.atom.read_pdb(str(n_file), m_n)\n",
    "s_n = IMP.atom.Selection(h_n, chain_id=\"A\", atom_type=IMP.atom.AtomType(\"CA\"), residue_indexes=list(range(146,229)))\n",
    "print(len(s_n.get_selected_particle_indexes()))\n"
   ]
  },
  {
   "cell_type": "code",
   "execution_count": 3,
   "id": "a9bb311b",
   "metadata": {},
   "outputs": [
    {
     "name": "stdout",
     "output_type": "stream",
     "text": [
      "181\n"
     ]
    }
   ],
   "source": [
    "c_file = Path(Path.home(), \"mtorc2/data/em/models/J252/AKT1_C-lobe_AF-P31749-F1_conf02.pdb\")\n",
    "m_c = IMP.Model()\n",
    "h_c = IMP.atom.read_pdb(str(c_file), m_c)\n",
    "s_c = IMP.atom.Selection(h_c, chain_id=\"A\", atom_type=IMP.atom.AtomType(\"CA\"), residue_indexes=list(range(230,480)))\n",
    "print(len(s_c.get_selected_particle_indexes()))\n"
   ]
  },
  {
   "cell_type": "code",
   "execution_count": 5,
   "id": "b643a253",
   "metadata": {},
   "outputs": [
    {
     "name": "stdout",
     "output_type": "stream",
     "text": [
      "/wynton/home/sali/mhancock/mtorc2/dev/06_em_arch/J252/0\n",
      "/wynton/home/sali/mhancock/mtorc2/dev/06_em_arch/J252/1\n",
      "/wynton/home/sali/mhancock/mtorc2/dev/06_em_arch/J252/2\n",
      "/wynton/home/sali/mhancock/mtorc2/dev/06_em_arch/J252/3\n",
      "/wynton/home/sali/mhancock/mtorc2/dev/06_em_arch/J252/4\n",
      "/wynton/home/sali/mhancock/mtorc2/dev/06_em_arch/J252/5\n",
      "/wynton/home/sali/mhancock/mtorc2/dev/06_em_arch/J252/6\n",
      "/wynton/home/sali/mhancock/mtorc2/dev/06_em_arch/J252/7\n"
     ]
    }
   ],
   "source": [
    "# for i in range(10,33): \n",
    "exp_dirs = Path(Path.home(), \"mtorc2/dev/06_em_arch/J252\").glob(\"*\")\n",
    "for exp_dir in exp_dirs:\n",
    "    out_dirs = Path\n",
    "\n",
    "# pdb_dirs = [Path(Path.home(), \"mtorc2/dev/06_em_arch/output/pdbs\")]\n",
    "# for pdb_dir in pdb_dirs:\n",
    "# #     exp_dir = Path(Path.home(), \"mtorc2/dev/06_em_arch/{}\".format(i))\n",
    "# #     job_dir = [job_dir for job_dir in exp_dir.glob(\"output.*\")][-1]\n",
    "# #     print(job_dir)\n",
    "# #     for j in range(1):\n",
    "\n",
    "#     print(pdb_dir)\n",
    "#     pdb_file = Path(pdb_dir, \"model.0.pdb\")\n",
    "#     m = IMP.Model()\n",
    "#     h = IMP.atom.read_pdb(str(pdb_file), m)\n",
    "#     s_model_n = IMP.atom.Selection(h, chain_id=\"E\", residue_indexes=list(range(146,229)))\n",
    "#     s_model_c = IMP.atom.Selection(h, chain_id=\"E\", residue_indexes=list(range(230,480)))\n",
    "\n",
    "# #     print(len(s.get_selected_particles()))\n",
    "#     print(IMP.atom.get_rmsd(s_n, s_model_n))    \n",
    "#     print(IMP.atom.get_rmsd(s_c, s_model_c))    \n"
   ]
  },
  {
   "cell_type": "code",
   "execution_count": null,
   "id": "04afdb02",
   "metadata": {},
   "outputs": [],
   "source": []
  }
 ],
 "metadata": {
  "kernelspec": {
   "display_name": "Python 3 (ipykernel)",
   "language": "python",
   "name": "python3"
  },
  "language_info": {
   "codemirror_mode": {
    "name": "ipython",
    "version": 3
   },
   "file_extension": ".py",
   "mimetype": "text/x-python",
   "name": "python",
   "nbconvert_exporter": "python",
   "pygments_lexer": "ipython3",
   "version": "3.11.0"
  }
 },
 "nbformat": 4,
 "nbformat_minor": 5
}
