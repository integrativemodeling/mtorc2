{
  "cells": [
    {
      "cell_type": "raw",
      "metadata": {
        "vscode": {
          "languageId": "raw"
        }
      },
      "source": [
        "# Process and Renumber PDB Files\n",
        "\n",
        "Merges pdbs_1.ipynb and pdbs_2.ipynb functionality:\n",
        "1. Extract chains from multi-model PDB files\n",
        "2. Process PDB files from directories\n",
        "3. Sequential numbering and chain ID updates\n",
        "4. Add 145 to all residue indices\n"
      ]
    },
    {
      "cell_type": "code",
      "execution_count": 8,
      "metadata": {},
      "outputs": [],
      "source": [
        "from pathlib import Path\n",
        "import IMP\n",
        "import IMP.atom\n"
      ]
    },
    {
      "cell_type": "code",
      "execution_count": 9,
      "metadata": {},
      "outputs": [
        {
          "name": "stdout",
          "output_type": "stream",
          "text": [
            "Starting from: 0.pdb\n"
          ]
        }
      ],
      "source": [
        "# Configuration\n",
        "output_dir = Path(\"../data/pdbs\")\n",
        "output_dir.mkdir(exist_ok=True)\n",
        "\n",
        "# Multi-model PDB file to process (from pdbs_1.ipynb)\n",
        "multi_model_pdb = Path(Path.home(), \"Documents/mtorc2/data/models/submission_1/models/89_2462_1_8525/all_akt_clusters.pdb\")\n",
        "extract_chain = \"I\"\n",
        "\n",
        "# Directories with individual PDB files (from pdbs_2.ipynb)\n",
        "pdb_dirs = [\n",
        "    Path(\"/Users/matthew/Documents/mtorc2_ms/submission_1/figures/akt_atp/akt\"),\n",
        "    Path(\"/Users/matthew/Documents/mtorc2_ms/submission_1/figures/akt_atp/akt_A\"),\n",
        "    Path(\"/Users/matthew/Documents/mtorc2_ms/submission_1/figures/akt_atp/akt_A_rand\")\n",
        "]\n",
        "\n",
        "# Target chain ID for all files\n",
        "target_chain = \"E\"\n",
        "\n",
        "# Residue index offset\n",
        "residue_offset = 145\n",
        "\n",
        "# Count existing files to continue numbering\n",
        "model_count = len(list(output_dir.glob(\"*.pdb\")))\n",
        "print(f\"Starting from: {model_count}.pdb\")\n"
      ]
    },
    {
      "cell_type": "code",
      "execution_count": null,
      "metadata": {},
      "outputs": [
        {
          "name": "stdout",
          "output_type": "stream",
          "text": [
            "Processing 10 models from multi-model file\n"
          ]
        }
      ],
      "source": [
        "if multi_model_pdb.exists():\n",
        "    # Read multi-model PDB\n",
        "    m = IMP.Model()\n",
        "    hierarchies = IMP.atom.read_multimodel_pdb(str(multi_model_pdb), m, IMP.atom.AllPDBSelector())\n",
        "    print(f\"Processing {len(hierarchies)} models from multi-model file\")\n",
        "\n",
        "    for i, h in enumerate(hierarchies):\n",
        "        # Extract specific chain\n",
        "        chain_sel = IMP.atom.Selection(h, chain_id=extract_chain)\n",
        "        IMP.atom.write_pdb(chain_sel, f\"{output_dir}/{model_count}.pdb\")\n",
        "        model_count += 1\n",
        "\n",
        "    # Update chain IDs and residue indices for extracted files\n",
        "    for i in range(len(hierarchies)):\n",
        "        pdb_file = f\"{output_dir}/{model_count - len(hierarchies) + i}.pdb\"\n",
        "        m = IMP.Model()\n",
        "        h = IMP.atom.read_pdb(pdb_file, m)\n",
        "\n",
        "        # Update chain ID\n",
        "        for chain in IMP.atom.get_by_type(h, IMP.atom.CHAIN_TYPE):\n",
        "            IMP.atom.Chain(chain).set_id(target_chain)\n",
        "\n",
        "        # Add offset to residue indices\n",
        "        for residue in IMP.atom.get_by_type(h, IMP.atom.RESIDUE_TYPE):\n",
        "            res = IMP.atom.Residue(residue)\n",
        "            res.set_index(res.get_index() + residue_offset)\n",
        "\n",
        "        IMP.atom.write_pdb(h, pdb_file)\n"
      ]
    },
    {
      "cell_type": "raw",
      "metadata": {
        "vscode": {
          "languageId": "raw"
        }
      },
      "source": [
        "## Process Directory PDBs (from pdbs_2.ipynb)\n"
      ]
    },
    {
      "cell_type": "code",
      "execution_count": null,
      "metadata": {},
      "outputs": [
        {
          "name": "stdout",
          "output_type": "stream",
          "text": [
            "\n",
            "Processing 3 files from akt\n",
            "\n",
            "Processing 25 files from akt_A\n",
            "\n",
            "Processing 25 files from akt_A_rand\n",
            "\n",
            "Total files processed: 63\n",
            "Residue indices increased by 145\n"
          ]
        }
      ],
      "source": [
        "# Process all directories\n",
        "for directory in pdb_dirs:\n",
        "    if not directory.exists():\n",
        "        continue\n",
        "\n",
        "    pdb_files = list(directory.glob(\"*.pdb\"))\n",
        "    print(f\"\\nProcessing {len(pdb_files)} files from {directory.name}\")\n",
        "\n",
        "    for pdb_file in pdb_files:\n",
        "        # Read PDB\n",
        "        m = IMP.Model()\n",
        "        h = IMP.atom.read_pdb(str(pdb_file), m)\n",
        "\n",
        "        # Update chain ID\n",
        "        for chain in IMP.atom.get_by_type(h, IMP.atom.CHAIN_TYPE):\n",
        "            IMP.atom.Chain(chain).set_id(target_chain)\n",
        "\n",
        "        # Add offset to residue indices\n",
        "        for residue in IMP.atom.get_by_type(h, IMP.atom.RESIDUE_TYPE):\n",
        "            res = IMP.atom.Residue(residue)\n",
        "            res.set_index(res.get_index() + residue_offset)\n",
        "\n",
        "        # Save with sequential numbering\n",
        "        IMP.atom.write_pdb(h, f\"{output_dir}/{model_count}.pdb\")\n",
        "        model_count += 1\n",
        "\n",
        "print(f\"\\nTotal files processed: {model_count}\")\n",
        "print(f\"Residue indices increased by {residue_offset}\")\n"
      ]
    }
  ],
  "metadata": {
    "kernelspec": {
      "display_name": "Python 3",
      "language": "python",
      "name": "python3"
    },
    "language_info": {
      "codemirror_mode": {
        "name": "ipython",
        "version": 3
      },
      "file_extension": ".py",
      "mimetype": "text/x-python",
      "name": "python",
      "nbconvert_exporter": "python",
      "pygments_lexer": "ipython3",
      "version": "3.12.1"
    }
  },
  "nbformat": 4,
  "nbformat_minor": 2
}
