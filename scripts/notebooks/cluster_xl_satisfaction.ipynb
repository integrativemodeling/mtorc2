{
 "cells": [
  {
   "cell_type": "code",
   "execution_count": 53,
   "id": "c48610e4",
   "metadata": {},
   "outputs": [],
   "source": [
    "import pandas as pd\n",
    "from pathlib import Path\n",
    "import IMP \n",
    "import IMP.atom\n",
    "import IMP.rmf\n",
    "import RMF\n",
    "import random\n",
    "import numpy as np\n",
    "import matplotlib.pyplot as plt"
   ]
  },
  {
   "cell_type": "code",
   "execution_count": 2,
   "id": "480afb79",
   "metadata": {
    "scrolled": true
   },
   "outputs": [
    {
     "data": {
      "text/html": [
       "<div>\n",
       "<style scoped>\n",
       "    .dataframe tbody tr th:only-of-type {\n",
       "        vertical-align: middle;\n",
       "    }\n",
       "\n",
       "    .dataframe tbody tr th {\n",
       "        vertical-align: top;\n",
       "    }\n",
       "\n",
       "    .dataframe thead th {\n",
       "        text-align: right;\n",
       "    }\n",
       "</style>\n",
       "<table border=\"1\" class=\"dataframe\">\n",
       "  <thead>\n",
       "    <tr style=\"text-align: right;\">\n",
       "      <th></th>\n",
       "      <th>Unnamed: 0</th>\n",
       "      <th>MC_frame</th>\n",
       "      <th>rmf_frame_index</th>\n",
       "      <th>Total_Score</th>\n",
       "      <th>XLs_sum</th>\n",
       "      <th>XLs_psi_sum</th>\n",
       "      <th>DR_sum</th>\n",
       "      <th>EV_sum</th>\n",
       "      <th>EM3D_BayesianEM</th>\n",
       "      <th>EM3D_sigma_BayesianEM</th>\n",
       "      <th>traj</th>\n",
       "      <th>rmf3_file</th>\n",
       "      <th>half</th>\n",
       "      <th>cluster</th>\n",
       "      <th>frame_RMF3</th>\n",
       "    </tr>\n",
       "  </thead>\n",
       "  <tbody>\n",
       "    <tr>\n",
       "      <th>0</th>\n",
       "      <td>68421</td>\n",
       "      <td>68421.0</td>\n",
       "      <td>7555.0</td>\n",
       "      <td>629.061645</td>\n",
       "      <td>35.396760</td>\n",
       "      <td>-1.386294</td>\n",
       "      <td>0.000000</td>\n",
       "      <td>91.670598</td>\n",
       "      <td>476.797229</td>\n",
       "      <td>1.0</td>\n",
       "      <td>output_0</td>\n",
       "      <td>/wynton/scratch/mhancock/output0.9706680668351...</td>\n",
       "      <td>A</td>\n",
       "      <td>1</td>\n",
       "      <td>h1_output_0_68421.rmf3</td>\n",
       "    </tr>\n",
       "    <tr>\n",
       "      <th>1</th>\n",
       "      <td>92009</td>\n",
       "      <td>92009.0</td>\n",
       "      <td>15085.0</td>\n",
       "      <td>635.112823</td>\n",
       "      <td>34.933060</td>\n",
       "      <td>-1.386294</td>\n",
       "      <td>0.000000</td>\n",
       "      <td>97.665761</td>\n",
       "      <td>475.410438</td>\n",
       "      <td>1.0</td>\n",
       "      <td>output_4</td>\n",
       "      <td>/wynton/scratch/mhancock/output0.9706680668351...</td>\n",
       "      <td>A</td>\n",
       "      <td>1</td>\n",
       "      <td>h1_output_4_92009.rmf3</td>\n",
       "    </tr>\n",
       "    <tr>\n",
       "      <th>2</th>\n",
       "      <td>64484</td>\n",
       "      <td>64484.0</td>\n",
       "      <td>8368.0</td>\n",
       "      <td>632.598375</td>\n",
       "      <td>37.527094</td>\n",
       "      <td>-1.386294</td>\n",
       "      <td>0.000000</td>\n",
       "      <td>90.526002</td>\n",
       "      <td>479.773701</td>\n",
       "      <td>1.0</td>\n",
       "      <td>output_2</td>\n",
       "      <td>/wynton/scratch/mhancock/output0.9706680668351...</td>\n",
       "      <td>A</td>\n",
       "      <td>1</td>\n",
       "      <td>h1_output_2_64484.rmf3</td>\n",
       "    </tr>\n",
       "    <tr>\n",
       "      <th>3</th>\n",
       "      <td>21088</td>\n",
       "      <td>21088.0</td>\n",
       "      <td>2208.0</td>\n",
       "      <td>629.885610</td>\n",
       "      <td>36.842500</td>\n",
       "      <td>-1.386294</td>\n",
       "      <td>0.000000</td>\n",
       "      <td>93.337085</td>\n",
       "      <td>475.932324</td>\n",
       "      <td>1.0</td>\n",
       "      <td>output_2</td>\n",
       "      <td>/wynton/scratch/mhancock/output0.9706680668351...</td>\n",
       "      <td>A</td>\n",
       "      <td>1</td>\n",
       "      <td>h1_output_2_21088.rmf3</td>\n",
       "    </tr>\n",
       "    <tr>\n",
       "      <th>4</th>\n",
       "      <td>93948</td>\n",
       "      <td>93948.0</td>\n",
       "      <td>13901.0</td>\n",
       "      <td>628.887331</td>\n",
       "      <td>36.161406</td>\n",
       "      <td>-1.386294</td>\n",
       "      <td>0.026206</td>\n",
       "      <td>90.023331</td>\n",
       "      <td>477.843202</td>\n",
       "      <td>1.0</td>\n",
       "      <td>output_8</td>\n",
       "      <td>/wynton/scratch/mhancock/output0.9706680668351...</td>\n",
       "      <td>A</td>\n",
       "      <td>1</td>\n",
       "      <td>h1_output_8_93948.rmf3</td>\n",
       "    </tr>\n",
       "  </tbody>\n",
       "</table>\n",
       "</div>"
      ],
      "text/plain": [
       "   Unnamed: 0  MC_frame  rmf_frame_index  Total_Score    XLs_sum  XLs_psi_sum  \\\n",
       "0       68421   68421.0           7555.0   629.061645  35.396760    -1.386294   \n",
       "1       92009   92009.0          15085.0   635.112823  34.933060    -1.386294   \n",
       "2       64484   64484.0           8368.0   632.598375  37.527094    -1.386294   \n",
       "3       21088   21088.0           2208.0   629.885610  36.842500    -1.386294   \n",
       "4       93948   93948.0          13901.0   628.887331  36.161406    -1.386294   \n",
       "\n",
       "     DR_sum     EV_sum  EM3D_BayesianEM  EM3D_sigma_BayesianEM      traj  \\\n",
       "0  0.000000  91.670598       476.797229                    1.0  output_0   \n",
       "1  0.000000  97.665761       475.410438                    1.0  output_4   \n",
       "2  0.000000  90.526002       479.773701                    1.0  output_2   \n",
       "3  0.000000  93.337085       475.932324                    1.0  output_2   \n",
       "4  0.026206  90.023331       477.843202                    1.0  output_8   \n",
       "\n",
       "                                           rmf3_file half  cluster  \\\n",
       "0  /wynton/scratch/mhancock/output0.9706680668351...    A        1   \n",
       "1  /wynton/scratch/mhancock/output0.9706680668351...    A        1   \n",
       "2  /wynton/scratch/mhancock/output0.9706680668351...    A        1   \n",
       "3  /wynton/scratch/mhancock/output0.9706680668351...    A        1   \n",
       "4  /wynton/scratch/mhancock/output0.9706680668351...    A        1   \n",
       "\n",
       "               frame_RMF3  \n",
       "0  h1_output_0_68421.rmf3  \n",
       "1  h1_output_4_92009.rmf3  \n",
       "2  h1_output_2_64484.rmf3  \n",
       "3  h1_output_2_21088.rmf3  \n",
       "4  h1_output_8_93948.rmf3  "
      ]
     },
     "execution_count": 2,
     "metadata": {},
     "output_type": "execute_result"
    }
   ],
   "source": [
    "hdbscan_clust_file = Path(\"~/mtorc2/exp_8/66/analysis/analysis.367036/traj/A_cluster1_10000.csv\")\n",
    "hdbscan_clust_df = pd.read_csv(hdbscan_clust_file)\n",
    "hdbscan_clust_df.head()\n"
   ]
  },
  {
   "cell_type": "code",
   "execution_count": 3,
   "id": "2fcc6164",
   "metadata": {
    "scrolled": true
   },
   "outputs": [
    {
     "data": {
      "text/html": [
       "<div>\n",
       "<style scoped>\n",
       "    .dataframe tbody tr th:only-of-type {\n",
       "        vertical-align: middle;\n",
       "    }\n",
       "\n",
       "    .dataframe tbody tr th {\n",
       "        vertical-align: top;\n",
       "    }\n",
       "\n",
       "    .dataframe thead th {\n",
       "        text-align: right;\n",
       "    }\n",
       "</style>\n",
       "<table border=\"1\" class=\"dataframe\">\n",
       "  <thead>\n",
       "    <tr style=\"text-align: right;\">\n",
       "      <th></th>\n",
       "      <th>0</th>\n",
       "    </tr>\n",
       "  </thead>\n",
       "  <tbody>\n",
       "    <tr>\n",
       "      <th>0</th>\n",
       "      <td>5797</td>\n",
       "    </tr>\n",
       "    <tr>\n",
       "      <th>1</th>\n",
       "      <td>18</td>\n",
       "    </tr>\n",
       "    <tr>\n",
       "      <th>2</th>\n",
       "      <td>24</td>\n",
       "    </tr>\n",
       "    <tr>\n",
       "      <th>3</th>\n",
       "      <td>43</td>\n",
       "    </tr>\n",
       "    <tr>\n",
       "      <th>4</th>\n",
       "      <td>45</td>\n",
       "    </tr>\n",
       "  </tbody>\n",
       "</table>\n",
       "</div>"
      ],
      "text/plain": [
       "      0\n",
       "0  5797\n",
       "1    18\n",
       "2    24\n",
       "3    43\n",
       "4    45"
      ]
     },
     "execution_count": 3,
     "metadata": {},
     "output_type": "execute_result"
    }
   ],
   "source": [
    "samp_clust_file = Path(\"~/mtorc2/exp_8/66/analysis/analysis.367036/sampcon/cluster.2.all.txt\")\n",
    "samp_clust_df = pd.read_csv(samp_clust_file, header=None)\n",
    "samp_clust_df.head()\n"
   ]
  },
  {
   "cell_type": "code",
   "execution_count": 4,
   "id": "aa7a6c0d",
   "metadata": {},
   "outputs": [
    {
     "data": {
      "text/html": [
       "<div>\n",
       "<style scoped>\n",
       "    .dataframe tbody tr th:only-of-type {\n",
       "        vertical-align: middle;\n",
       "    }\n",
       "\n",
       "    .dataframe tbody tr th {\n",
       "        vertical-align: top;\n",
       "    }\n",
       "\n",
       "    .dataframe thead th {\n",
       "        text-align: right;\n",
       "    }\n",
       "</style>\n",
       "<table border=\"1\" class=\"dataframe\">\n",
       "  <thead>\n",
       "    <tr style=\"text-align: right;\">\n",
       "      <th></th>\n",
       "      <th>0</th>\n",
       "    </tr>\n",
       "  </thead>\n",
       "  <tbody>\n",
       "    <tr>\n",
       "      <th>0</th>\n",
       "      <td>5797</td>\n",
       "    </tr>\n",
       "    <tr>\n",
       "      <th>1</th>\n",
       "      <td>18</td>\n",
       "    </tr>\n",
       "    <tr>\n",
       "      <th>2</th>\n",
       "      <td>24</td>\n",
       "    </tr>\n",
       "    <tr>\n",
       "      <th>3</th>\n",
       "      <td>43</td>\n",
       "    </tr>\n",
       "    <tr>\n",
       "      <th>4</th>\n",
       "      <td>45</td>\n",
       "    </tr>\n",
       "  </tbody>\n",
       "</table>\n",
       "</div>"
      ],
      "text/plain": [
       "      0\n",
       "0  5797\n",
       "1    18\n",
       "2    24\n",
       "3    43\n",
       "4    45"
      ]
     },
     "execution_count": 4,
     "metadata": {},
     "output_type": "execute_result"
    }
   ],
   "source": [
    "samp_clust_A_df = samp_clust_df[samp_clust_df[0]<10000]\n",
    "samp_clust_A_df.head()"
   ]
  },
  {
   "cell_type": "code",
   "execution_count": 5,
   "id": "873d2ddc",
   "metadata": {},
   "outputs": [
    {
     "data": {
      "text/html": [
       "<div>\n",
       "<style scoped>\n",
       "    .dataframe tbody tr th:only-of-type {\n",
       "        vertical-align: middle;\n",
       "    }\n",
       "\n",
       "    .dataframe tbody tr th {\n",
       "        vertical-align: top;\n",
       "    }\n",
       "\n",
       "    .dataframe thead th {\n",
       "        text-align: right;\n",
       "    }\n",
       "</style>\n",
       "<table border=\"1\" class=\"dataframe\">\n",
       "  <thead>\n",
       "    <tr style=\"text-align: right;\">\n",
       "      <th></th>\n",
       "      <th>0</th>\n",
       "    </tr>\n",
       "  </thead>\n",
       "  <tbody>\n",
       "    <tr>\n",
       "      <th>343</th>\n",
       "      <td>26</td>\n",
       "    </tr>\n",
       "    <tr>\n",
       "      <th>344</th>\n",
       "      <td>135</td>\n",
       "    </tr>\n",
       "    <tr>\n",
       "      <th>345</th>\n",
       "      <td>136</td>\n",
       "    </tr>\n",
       "    <tr>\n",
       "      <th>346</th>\n",
       "      <td>146</td>\n",
       "    </tr>\n",
       "    <tr>\n",
       "      <th>347</th>\n",
       "      <td>221</td>\n",
       "    </tr>\n",
       "  </tbody>\n",
       "</table>\n",
       "</div>"
      ],
      "text/plain": [
       "       0\n",
       "343   26\n",
       "344  135\n",
       "345  136\n",
       "346  146\n",
       "347  221"
      ]
     },
     "execution_count": 5,
     "metadata": {},
     "output_type": "execute_result"
    }
   ],
   "source": [
    "samp_clust_B_df = samp_clust_df[samp_clust_df[0]>=10000].copy()\n",
    "samp_clust_B_df[0] = samp_clust_B_df[0].apply(lambda x: x - 10000)\n",
    "    \n",
    "samp_clust_B_df.head()\n",
    "\n"
   ]
  },
  {
   "cell_type": "code",
   "execution_count": 6,
   "id": "21c99811",
   "metadata": {},
   "outputs": [],
   "source": [
    "rmf_file_clust = Path(Path.home(), \"mtorc2/exp_8/66/analysis/analysis.367036/sampcon/cluster.2/cluster_center_model.rmf3\")\n",
    "fh_clust = RMF.open_rmf_file_read_only(str(rmf_file_clust))\n",
    "m_clust = IMP.Model()\n",
    "h_clust = IMP.rmf.create_hierarchies(fh_clust, m_clust)[0]\n",
    "    "
   ]
  },
  {
   "cell_type": "code",
   "execution_count": 7,
   "id": "da51e0ad",
   "metadata": {},
   "outputs": [
    {
     "data": {
      "text/plain": [
       "0.0"
      ]
     },
     "execution_count": 7,
     "metadata": {},
     "output_type": "execute_result"
    }
   ],
   "source": [
    "xyzs_1 = IMP.core.XYZs(IMP.core.get_leaves(h_clust))\n",
    "xyzs_2 = IMP.core.XYZs(IMP.core.get_leaves(h_clust))\n",
    "IMP.atom.get_rmsd(xyzs_1, xyzs_2)"
   ]
  },
  {
   "cell_type": "code",
   "execution_count": 8,
   "id": "ba286dad",
   "metadata": {},
   "outputs": [
    {
     "data": {
      "text/plain": [
       "4351"
      ]
     },
     "execution_count": 8,
     "metadata": {},
     "output_type": "execute_result"
    }
   ],
   "source": [
    "len(IMP.atom.Selection(h_clust, resolution=0).get_selected_particle_indexes())\n",
    "\n"
   ]
  },
  {
   "cell_type": "code",
   "execution_count": 9,
   "id": "5b99be8d",
   "metadata": {},
   "outputs": [
    {
     "data": {
      "text/plain": [
       "478"
      ]
     },
     "execution_count": 9,
     "metadata": {},
     "output_type": "execute_result"
    }
   ],
   "source": [
    "len(IMP.atom.Selection(h_clust, resolution=10).get_selected_particle_indexes())\n",
    "\n"
   ]
  },
  {
   "cell_type": "code",
   "execution_count": 10,
   "id": "16ddb42e",
   "metadata": {},
   "outputs": [
    {
     "data": {
      "text/plain": [
       "array([  10,   11,   12, ..., 5118, 5119, 5120], dtype=int32)"
      ]
     },
     "execution_count": 10,
     "metadata": {},
     "output_type": "execute_result"
    }
   ],
   "source": [
    "IMP.atom.Selection(h_clust).get_selected_particle_indexes()\n",
    "\n",
    "\n"
   ]
  },
  {
   "cell_type": "code",
   "execution_count": 11,
   "id": "8af1929b",
   "metadata": {},
   "outputs": [
    {
     "ename": "SyntaxError",
     "evalue": "positional argument follows keyword argument (870113896.py, line 2)",
     "output_type": "error",
     "traceback": [
      "\u001b[0;36m  Input \u001b[0;32mIn [11]\u001b[0;36m\u001b[0m\n\u001b[0;31m    sel_2 = IMP.atom.Selection(h_, resolution=10, particle_type).get_selected_particles()\u001b[0m\n\u001b[0m                                                               ^\u001b[0m\n\u001b[0;31mSyntaxError\u001b[0m\u001b[0;31m:\u001b[0m positional argument follows keyword argument\n"
     ]
    }
   ],
   "source": [
    "sel_1 = IMP.atom.Selection(h_clust, resolution=10).get_selected_particles()\n",
    "sel_2 = IMP.atom.Selection(h_, resolution=10, particle_type).get_selected_particles()\n",
    "\n",
    "xyzs_1 = IMP.core.XYZs(sel_1)\n",
    "xyzs_2 = IMP.core.XYZs(sel_2)\n",
    "\n"
   ]
  },
  {
   "cell_type": "code",
   "execution_count": 12,
   "id": "8281ec36",
   "metadata": {},
   "outputs": [],
   "source": [
    "sel_res_1 = IMP.atom.Selection(h_clust, molecule=\"MSIN1\", resolution=1)\n",
    "sel_res_10 = IMP.atom.Selection(h_clust, molecule=\"MSIN1\", resolution=10)\n",
    "# sel_res_1.set_difference(sel_res_10)\n",
    "# print(len(sel_res_1.get_selected_particle_indexes()))\n",
    "\n"
   ]
  },
  {
   "cell_type": "code",
   "execution_count": 13,
   "id": "8f755f41",
   "metadata": {},
   "outputs": [
    {
     "name": "stdout",
     "output_type": "stream",
     "text": [
      "105\n"
     ]
    }
   ],
   "source": [
    "pids = [pid for pid in sel_res_1.get_selected_particle_indexes() if \"bead\" not in m_clust.get_particle_name(pid)]\n",
    "print(len(pids))\n",
    "\n"
   ]
  },
  {
   "cell_type": "code",
   "execution_count": 14,
   "id": "1613c9ca",
   "metadata": {},
   "outputs": [
    {
     "name": "stdout",
     "output_type": "stream",
     "text": [
      "1\n",
      "2\n",
      "3\n",
      "4\n",
      "5\n",
      "6\n",
      "7\n",
      "8\n",
      "9\n",
      "10\n",
      "11\n",
      "12\n",
      "13\n",
      "14\n",
      "15\n",
      "16\n",
      "17\n",
      "18\n",
      "19\n",
      "20\n",
      "21\n",
      "22\n",
      "23\n",
      "24\n",
      "25\n",
      "26\n",
      "27\n",
      "28\n",
      "29\n",
      "30\n",
      "31\n",
      "32\n",
      "33\n",
      "34\n",
      "35\n",
      "36\n",
      "37\n",
      "38\n",
      "39\n",
      "40\n",
      "41\n",
      "42\n",
      "43\n",
      "44\n",
      "45\n",
      "46\n",
      "47\n",
      "48\n",
      "49\n",
      "77\n",
      "78\n",
      "79\n",
      "80\n",
      "81\n",
      "82\n",
      "83\n",
      "84\n",
      "85\n",
      "86\n",
      "87\n",
      "88\n",
      "89\n",
      "90\n",
      "91\n",
      "92\n",
      "93\n",
      "94\n",
      "95\n",
      "96\n",
      "97\n",
      "98\n",
      "99\n",
      "100\n",
      "101\n",
      "102\n",
      "103\n",
      "104\n",
      "105\n",
      "106\n",
      "107\n",
      "108\n",
      "109\n",
      "110\n",
      "111\n",
      "112\n",
      "113\n",
      "114\n",
      "115\n",
      "116\n",
      "117\n",
      "118\n",
      "119\n",
      "120\n",
      "121\n",
      "122\n",
      "123\n",
      "124\n",
      "125\n",
      "126\n",
      "127\n",
      "128\n",
      "129\n",
      "130\n",
      "131\n",
      "132\n",
      "50-59_bead\n",
      "60-69_bead\n",
      "70-76_bead\n",
      "133-142_bead\n",
      "143-152_bead\n",
      "153-157_bead\n"
     ]
    }
   ],
   "source": [
    "for pid in sel_res_1.get_selected_particle_indexes(): \n",
    "    print(m_clust.get_particle_name(pid))"
   ]
  },
  {
   "cell_type": "code",
   "execution_count": 15,
   "id": "ca1005fb",
   "metadata": {},
   "outputs": [],
   "source": [
    "pids_res_1 = [pid for pid in sel_res_10.get_selected_particle_indexes() if IMP.core.XYZ.get_is_setup(m_clust, pid)]\n",
    "\n"
   ]
  },
  {
   "cell_type": "code",
   "execution_count": 16,
   "id": "36872092",
   "metadata": {},
   "outputs": [
    {
     "name": "stdout",
     "output_type": "stream",
     "text": [
      "17\n"
     ]
    }
   ],
   "source": [
    "print(len(pids_res_1))"
   ]
  },
  {
   "cell_type": "code",
   "execution_count": 17,
   "id": "a3520ab2",
   "metadata": {},
   "outputs": [
    {
     "name": "stdout",
     "output_type": "stream",
     "text": [
      "Fragment [1-11)\n"
     ]
    }
   ],
   "source": [
    "print(m_clust.get_particle_name(sel_res_10.get_selected_particle_indexes()[0]))\n",
    "\n",
    "\n",
    "\n",
    "\n",
    "\n"
   ]
  },
  {
   "cell_type": "code",
   "execution_count": 18,
   "id": "f031d36e",
   "metadata": {},
   "outputs": [
    {
     "name": "stdout",
     "output_type": "stream",
     "text": [
      "2145\n"
     ]
    }
   ],
   "source": [
    "test_sel_1 = IMP.atom.Selection(h_clust, molecule=\"MTOR\")\n",
    "test_sel_2 = IMP.atom.Selection(h_clust, molecule=\"RICTOR\")\n",
    "test_sel_1.set_difference(test_sel_2)\n",
    "print(len(test_sel_1.get_selected_particle_indexes()))"
   ]
  },
  {
   "cell_type": "code",
   "execution_count": 19,
   "id": "f060866c",
   "metadata": {},
   "outputs": [
    {
     "name": "stdout",
     "output_type": "stream",
     "text": [
      "Fragment [1-11)\n",
      "Fragment [11-21)\n",
      "Fragment [21-31)\n",
      "Fragment [31-41)\n",
      "Fragment [41-50)\n",
      "Fragment [77-87)\n",
      "Fragment [87-97)\n",
      "Fragment [97-107)\n",
      "Fragment [107-117)\n",
      "Fragment [117-127)\n",
      "Fragment [127-133)\n",
      "50-59_bead\n",
      "60-69_bead\n",
      "70-76_bead\n",
      "133-142_bead\n",
      "143-152_bead\n",
      "153-157_bead\n"
     ]
    }
   ],
   "source": [
    "for pid in sel_res_10.get_selected_particle_indexes():\n",
    "    print(m_clust.get_particle_name(pid))\n",
    "    "
   ]
  },
  {
   "cell_type": "code",
   "execution_count": 20,
   "id": "caf41ce3",
   "metadata": {},
   "outputs": [],
   "source": [
    "sel_res_10.set_difference(sel_res_1)"
   ]
  },
  {
   "cell_type": "code",
   "execution_count": 22,
   "id": "ba0bf407",
   "metadata": {},
   "outputs": [
    {
     "name": "stdout",
     "output_type": "stream",
     "text": [
      "4351\n"
     ]
    }
   ],
   "source": [
    "print(len(IMP.core.get_leaves(h_clust)))"
   ]
  },
  {
   "cell_type": "code",
   "execution_count": 24,
   "id": "1b45bf50",
   "metadata": {
    "scrolled": false
   },
   "outputs": [
    {
     "name": "stdout",
     "output_type": "stream",
     "text": [
      "100\n",
      "200\n",
      "300\n",
      "100\n",
      "200\n",
      "300\n"
     ]
    }
   ],
   "source": [
    "clust_precision = 0 \n",
    "\n",
    "rmf_file = Path(Path.home(), \"mtorc2/exp_8/66/analysis/analysis.367036/hdbscan/A_1_10000.rmf3\")\n",
    "fh = RMF.open_rmf_file_read_only(str(rmf_file))\n",
    "m = IMP.Model()\n",
    "h = IMP.rmf.create_hierarchies(fh, m)[0]\n",
    "\n",
    "for i in range(1, len(samp_clust_A_df)):\n",
    "    if i % 100 == 0:\n",
    "        print(i)\n",
    "        \n",
    "    rmf_id = int(samp_clust_A_df.iloc[i, 0])\n",
    "    IMP.rmf.load_frame(fh, RMF.FrameID(rmf_id))\n",
    "\n",
    "    sel_1 = IMP.atom.Selection(h_clust, resolution=1)\n",
    "    sel_2 = IMP.atom.Selection(h, resolution=1)\n",
    "\n",
    "    pids_1 = [pid for pid in sel_1.get_selected_particle_indexes()]\n",
    "    pids_2 = [pid for pid in sel_2.get_selected_particle_indexes()]\n",
    "    \n",
    "    xyzs_1 = [IMP.core.XYZ(m_clust, pid) for pid in pids_1]\n",
    "    xyzs_2 = [IMP.core.XYZ(m, pid) for pid in pids_2]\n",
    "    \n",
    "    t = IMP.core.get_transformation_aligning_first_to_second(\n",
    "        xyzs_2, xyzs_1)\n",
    "    \n",
    "    rmsd = IMP.atom.get_rmsd_transforming_first(t, xyzs_2, xyzs_1)\n",
    "    \n",
    "    clust_precision = clust_precision + rmsd\n",
    "    \n",
    "del fh \n",
    "    \n",
    "rmf_file = Path(Path.home(), \"mtorc2/exp_8/66/analysis/analysis.367036/hdbscan/B_1_10000.rmf3\")\n",
    "fh = RMF.open_rmf_file_read_only(str(rmf_file))\n",
    "m = IMP.Model()\n",
    "h = IMP.rmf.create_hierarchies(fh, m)[0]\n",
    "\n",
    "for i in range(1, len(samp_clust_B_df)):\n",
    "    if i % 100 == 0:\n",
    "        print(i)\n",
    "        \n",
    "    rmf_id = int(samp_clust_B_df.iloc[i, 0])\n",
    "    IMP.rmf.load_frame(fh, RMF.FrameID(rmf_id))\n",
    "\n",
    "    sel_1 = IMP.atom.Selection(h_clust, resolution=1)\n",
    "    sel_2 = IMP.atom.Selection(h, resolution=1)\n",
    "\n",
    "    pids_1 = [pid for pid in sel_1.get_selected_particle_indexes()]\n",
    "    pids_2 = [pid for pid in sel_2.get_selected_particle_indexes()]\n",
    "\n",
    "    xyzs_1 = [IMP.core.XYZ(m_clust, pid) for pid in pids_1]\n",
    "    xyzs_2 = [IMP.core.XYZ(m, pid) for pid in pids_2]\n",
    "\n",
    "    t = IMP.core.get_transformation_aligning_first_to_second(\n",
    "        xyzs_2, xyzs_1)\n",
    "    \n",
    "    rmsd = IMP.atom.get_rmsd_transforming_first(t, xyzs_2, xyzs_1)\n",
    "    \n",
    "    clust_precision = clust_precision + rmsd\n",
    "    \n",
    "del fh\n"
   ]
  },
  {
   "cell_type": "code",
   "execution_count": 41,
   "id": "d6a6ddc8",
   "metadata": {
    "scrolled": true
   },
   "outputs": [
    {
     "data": {
      "text/plain": [
       "3539.2777698748564"
      ]
     },
     "execution_count": 41,
     "metadata": {},
     "output_type": "execute_result"
    }
   ],
   "source": [
    "clust_precision"
   ]
  },
  {
   "cell_type": "markdown",
   "id": "12eb7d05",
   "metadata": {},
   "source": [
    "## Iterate through all cluster structures and check XL satisfaction."
   ]
  },
  {
   "cell_type": "code",
   "execution_count": 68,
   "id": "2ca6786a",
   "metadata": {},
   "outputs": [
    {
     "name": "stdout",
     "output_type": "stream",
     "text": [
      "89\n"
     ]
    },
    {
     "data": {
      "text/html": [
       "<div>\n",
       "<style scoped>\n",
       "    .dataframe tbody tr th:only-of-type {\n",
       "        vertical-align: middle;\n",
       "    }\n",
       "\n",
       "    .dataframe tbody tr th {\n",
       "        vertical-align: top;\n",
       "    }\n",
       "\n",
       "    .dataframe thead th {\n",
       "        text-align: right;\n",
       "    }\n",
       "</style>\n",
       "<table border=\"1\" class=\"dataframe\">\n",
       "  <thead>\n",
       "    <tr style=\"text-align: right;\">\n",
       "      <th></th>\n",
       "      <th>prot1</th>\n",
       "      <th>res1</th>\n",
       "      <th>prot2</th>\n",
       "      <th>res2</th>\n",
       "      <th>sat</th>\n",
       "    </tr>\n",
       "  </thead>\n",
       "  <tbody>\n",
       "    <tr>\n",
       "      <th>0</th>\n",
       "      <td>KINASE</td>\n",
       "      <td>38</td>\n",
       "      <td>RBD</td>\n",
       "      <td>34</td>\n",
       "      <td>False</td>\n",
       "    </tr>\n",
       "    <tr>\n",
       "      <th>1</th>\n",
       "      <td>KINASE</td>\n",
       "      <td>9</td>\n",
       "      <td>CRIM</td>\n",
       "      <td>18</td>\n",
       "      <td>False</td>\n",
       "    </tr>\n",
       "    <tr>\n",
       "      <th>2</th>\n",
       "      <td>KINASE</td>\n",
       "      <td>38</td>\n",
       "      <td>RBD</td>\n",
       "      <td>16</td>\n",
       "      <td>False</td>\n",
       "    </tr>\n",
       "    <tr>\n",
       "      <th>3</th>\n",
       "      <td>MSIN1PH</td>\n",
       "      <td>41</td>\n",
       "      <td>KINASE</td>\n",
       "      <td>25</td>\n",
       "      <td>False</td>\n",
       "    </tr>\n",
       "    <tr>\n",
       "      <th>4</th>\n",
       "      <td>RBD</td>\n",
       "      <td>38</td>\n",
       "      <td>RBD</td>\n",
       "      <td>23</td>\n",
       "      <td>False</td>\n",
       "    </tr>\n",
       "  </tbody>\n",
       "</table>\n",
       "</div>"
      ],
      "text/plain": [
       "     prot1  res1   prot2  res2    sat\n",
       "0   KINASE    38     RBD    34  False\n",
       "1   KINASE     9    CRIM    18  False\n",
       "2   KINASE    38     RBD    16  False\n",
       "3  MSIN1PH    41  KINASE    25  False\n",
       "4      RBD    38     RBD    23  False"
      ]
     },
     "execution_count": 68,
     "metadata": {},
     "output_type": "execute_result"
    }
   ],
   "source": [
    "xl_files = list() \n",
    "xl_files.append(Path(Path.home(), \"mtorc2/data/xlms/57.csv\"))\n",
    "xl_files.append(Path(Path.home(), \"mtorc2/data/xlms/A.csv\"))\n",
    "xl_files.append(Path(Path.home(), \"mtorc2/data/xlms/akt.csv\"))\n",
    "\n",
    "frames = list() \n",
    "for file in xl_files: \n",
    "    frames.append(pd.read_csv(file))\n",
    "\n",
    "xl_df = pd.concat(frames)\n",
    "xl_df[\"sat\"] = False\n",
    "xl_df = xl_df.drop(columns=[\"Unnamed: 0\"])\n",
    "\n",
    "print(len(xl_df))\n",
    "xl_df.head()\n"
   ]
  },
  {
   "cell_type": "code",
   "execution_count": 69,
   "id": "a16fab60",
   "metadata": {},
   "outputs": [
    {
     "data": {
      "text/plain": [
       "(151.34, 69.2565, 210.308)"
      ]
     },
     "execution_count": 69,
     "metadata": {},
     "output_type": "execute_result"
    }
   ],
   "source": [
    "test_sel = IMP.atom.Selection(h, molecule=\"KINASE\", residue_index=38)\n",
    "pid = test_sel.get_selected_particle_indexes()[0]\n",
    "xyz = IMP.core.XYZ(m, pid).get_coordinates()\n",
    "xyz"
   ]
  },
  {
   "cell_type": "code",
   "execution_count": 70,
   "id": "80902f85",
   "metadata": {},
   "outputs": [
    {
     "name": "stdout",
     "output_type": "stream",
     "text": [
      "0\n",
      "KINASE 38 RBD 34 0\n",
      "KINASE 9 CRIM 18 0\n",
      "KINASE 38 RBD 16 0\n",
      "MSIN1 102 MSIN1 95 0\n",
      "AKT1PH 30 RICTOR 11 0\n",
      "KINASE 177 RICTOR 11 0\n",
      "MSIN1 95 RICTOR 1614 0\n",
      "MSIN1 102 RICTOR 1642 0\n",
      "MSIN1 104 RICTOR 1642 0\n",
      "MSIN1 104 RICTOR 1590 0\n",
      "KINASE 18 KINASE 38 0\n",
      "KINASE 44 KINASE 156 0\n",
      "KINASE 18 KINASE 156 0\n",
      "AKT1PH 30 KINASE 25 0\n",
      "AKT1PH 30 KINASE 38 0\n",
      "AKT1PH 30 KINASE 13 0\n",
      "KINASE 44 KINASE 18 0\n",
      "KINASE 9 KINASE 23 0\n",
      "KINASE 34 KINASE 38 0\n",
      "KINASE 13 KINASE 38 0\n",
      "AKT1PH 30 KINASE 244 0\n",
      "KINASE 69 KINASE 139 0\n",
      "KINASE 162 KINASE 44 0\n",
      "KINASE 123 AKT1PH 112 0\n",
      "KINASE 152 AKT1PH 14 0\n",
      "KINASE 131 KINASE 34 0\n",
      "AKT1PH 20 KINASE 156 0\n",
      "AKT1PH 112 KINASE 18 0\n",
      "KINASE 18 KINASE 25 0\n",
      "KINASE 152 KINASE 131 0\n",
      "KINASE 156 KINASE 34 0\n",
      "KINASE 44 KINASE 34 0\n",
      "KINASE 9 KINASE 18 0\n",
      "AKT1PH 30 KINASE 156 0\n",
      "AKT1PH 30 KINASE 18 0\n",
      "KINASE 18 KINASE 13 0\n",
      "AKT1PH 30 AKT1PH 14 0\n",
      "KINASE 38 KINASE 18 0\n",
      "KINASE 44 AKT1PH 30 0\n",
      "AKT1PH 20 AKT1PH 14 0\n",
      "KINASE 162 KINASE 131 0\n",
      "KINASE 123 AKT1PH 30 0\n",
      "AKT1PH 30 KINASE 152 0\n",
      "AKT1PH 30 KINASE 241 0\n",
      "AKT1PH 20 KINASE 152 0\n",
      "AKT1PH 20 KINASE 18 0\n",
      "KINASE 44 AKT1PH 112 0\n",
      "KINASE 9 KINASE 139 0\n",
      "KINASE 152 KINASE 34 0\n",
      "KINASE 152 AKT1PH 20 0\n",
      "KINASE 18 KINASE 34 0\n",
      "KINASE 44 AKT1PH 20 0\n",
      "KINASE 162 KINASE 37 0\n",
      "KINASE 123 KINASE 34 0\n",
      "KINASE 44 KINASE 152 0\n",
      "KINASE 139 KINASE 281 0\n",
      "AKT1PH 30 AKT1PH 20 0\n",
      "KINASE 38 KINASE 37 0\n",
      "KINASE 123 KINASE 156 0\n",
      "KINASE 162 KINASE 34 0\n",
      "KINASE 162 AKT1PH 20 0\n",
      "AKT1PH 39 AKT1PH 14 0\n",
      "KINASE 38 KINASE 34 0\n",
      "KINASE 44 KINASE 23 0\n",
      "KINASE 162 KINASE 18 0\n",
      "KINASE 162 KINASE 13 0\n",
      "KINASE 162 AKT1PH 14 0\n",
      "AKT1PH 30 KINASE 232 0\n",
      "AKT1PH 140 KINASE 69 0\n",
      "CRIM 119 RBD 28 1\n",
      "CRIM 19 CRIM 9 1\n",
      "CRIM 119 MSIN1PH 120 1\n",
      "CRIM 19 MLST8 313 1\n",
      "CRIM 9 MLST8 307 10\n",
      "RBD 38 RBD 23 66\n",
      "100\n",
      "200\n",
      "MSIN1PH 134 MSIN1PH 123 200\n",
      "300\n"
     ]
    }
   ],
   "source": [
    "clust_precision = 0 \n",
    "\n",
    "rmf_file = Path(Path.home(), \"mtorc2/exp_8/66/analysis/analysis.367036/hdbscan/A_1_10000.rmf3\")\n",
    "fh = RMF.open_rmf_file_read_only(str(rmf_file))\n",
    "m = IMP.Model()\n",
    "h = IMP.rmf.create_hierarchies(fh, m)[0]\n",
    "\n",
    "for i in range(len(samp_clust_A_df)):\n",
    "    if i % 100 == 0:\n",
    "        print(i)\n",
    "        \n",
    "    rmf_id = int(samp_clust_A_df.iloc[i, 0])\n",
    "    IMP.rmf.load_frame(fh, RMF.FrameID(rmf_id))\n",
    "\n",
    "    for j in range(len(xl_df)): \n",
    "        prot1, res1, prot2, res2 = xl_df.iloc[j,0:4]\n",
    "\n",
    "        sel1 = IMP.atom.Selection(h, molecule=prot1, residue_index=res1)\n",
    "        pid1 = sel1.get_selected_particle_indexes()[0]\n",
    "        xyz1 = IMP.core.XYZ(m, pid1).get_coordinates()\n",
    "\n",
    "        sel2 = IMP.atom.Selection(h, molecule=prot2, residue_index=res2)\n",
    "        pid2 = sel2.get_selected_particle_indexes()[0]\n",
    "        xyz2 = IMP.core.XYZ(m, pid).get_coordinates()    \n",
    "\n",
    "        dist = np.linalg.norm(np.array(xyz1)-np.array(xyz2))\n",
    "        if dist < 35: \n",
    "            if not xl_df.iloc[j, xl_df.columns.get_loc(\"sat\")]: \n",
    "                print(prot1, res1, prot2, res2, i)\n",
    "    \n",
    "            xl_df.iloc[j, xl_df.columns.get_loc(\"sat\")] = True\n",
    "#         else: \n",
    "#             xl_df.iloc[j, xl_df.columns.get_loc(\"sat\")] = True\n",
    "    \n",
    "del fh \n",
    "    \n",
    "# rmf_file = Path(Path.home(), \"mtorc2/exp_8/66/analysis/analysis.367036/hdbscan/B_1_10000.rmf3\")\n",
    "# fh = RMF.open_rmf_file_read_only(str(rmf_file))\n",
    "# m = IMP.Model()\n",
    "# h = IMP.rmf.create_hierarchies(fh, m)[0]\n",
    "\n",
    "# for i in range(len(samp_clust_B_df)):\n",
    "#     if i % 100 == 0:\n",
    "#         print(i)\n",
    "        \n",
    "#     for i in range(len(xl_df)): \n",
    "#         prot1, res1, prot2, res2 = xl_df.iloc[i,0:4]\n",
    "\n",
    "#         sel1 = IMP.atom.Selection(h, molecule=prot1, residue_index=res1)\n",
    "#         pid1 = sel1.get_selected_particle_indexes()[0]\n",
    "#         xyz1 = IMP.core.XYZ(m, pid1).get_coordinates()\n",
    "\n",
    "#         sel2 = IMP.atom.Selection(h, molecule=prot2, residue_index=res2)\n",
    "#         pid2 = sel2.get_selected_particle_indexes()[0]\n",
    "#         xyz2 = IMP.core.XYZ(m, pid).get_coordinates()    \n",
    "\n",
    "#         dist = np.linalg.norm(np.array(xyz1)-np.array(xyz2))\n",
    "#         if dist < 35: \n",
    "#             xl_df.iloc[i, xl_df.columns.get_loc(\"sat\")] = True\n",
    "#         else: \n",
    "#             xl_df.iloc[i, xl_df.columns.get_loc(\"sat\")] = True\n",
    "    \n",
    "# del fh\n"
   ]
  },
  {
   "cell_type": "code",
   "execution_count": null,
   "id": "580e57ac",
   "metadata": {},
   "outputs": [],
   "source": []
  },
  {
   "cell_type": "code",
   "execution_count": 71,
   "id": "caa5daf4",
   "metadata": {},
   "outputs": [
    {
     "data": {
      "image/png": "[encoded data removed]",
      "text/plain": [
       "<Figure size 2000x1440 with 1 Axes>"
      ]
     },
     "metadata": {
      "needs_background": "light"
     },
     "output_type": "display_data"
    }
   ],
   "source": [
    "n_contains = dict()\n",
    "n_satisfied = dict() \n",
    "n_xls = dict() \n",
    "\n",
    "prots = [\"MTOR\", \"RICTOR\", \"MSIN1\", \"MLST8\", \"AKT1\"]\n",
    "for prot in prots: \n",
    "    for prot2 in prots: \n",
    "        entry = prot + \"|\" + prot2\n",
    "        if prot2 + \"|\" + prot not in n_contains.keys(): \n",
    "            n_contains[entry] = 0\n",
    "            n_satisfied[entry] = 0\n",
    "            n_xls[entry] = 0\n",
    "\n",
    "for i in range(len(xl_df)): \n",
    "    prot1 = xl_df.iloc[i, xl_df.columns.get_loc('prot1')]\n",
    "    prot2 = xl_df.iloc[i, xl_df.columns.get_loc('prot2')]\n",
    "    \n",
    "    if prot1 == \"CRIM\" or prot1 == \"RBD\" or prot1 == \"MSIN1PH\": \n",
    "        prot1 = \"MSIN1\"\n",
    "    if prot2 == \"CRIM\" or prot2 == \"RBD\" or prot2 == \"MSIN1PH\": \n",
    "        prot2 = \"MSIN1\"\n",
    "        \n",
    "    if prot1 == \"KINASE\" or prot1 == \"AKT1PH\": \n",
    "        prot1 = \"AKT1\"\n",
    "    if prot2 == \"KINASE\" or prot2 == \"AKT1PH\": \n",
    "        prot2 = \"AKT1\"\n",
    "    \n",
    "    entry = prot1 + \"|\" + prot2\n",
    "    if entry not in n_contains.keys(): \n",
    "        entry = prot2 + \"|\" + prot1\n",
    "\n",
    "    n_xls[entry] = n_xls[entry] + 1\n",
    "\n",
    "#     if xl_df.iloc[i, xl_df.columns.get_loc('contains')]: \n",
    "#         n_contains[entry] = n_contains[entry] + 1\n",
    "        \n",
    "    if xl_df.iloc[i, xl_df.columns.get_loc('sat')]:\n",
    "        n_satisfied[entry] = n_satisfied[entry] + 1 \n",
    "        \n",
    "fig, ax = plt.subplots(figsize=(25, 18), dpi=80) \n",
    "labels = list(n_contains.keys())\n",
    "# contains_list = [n_contains[key] for key in n_contains.keys()]\n",
    "satisfied_list = [n_satisfied[key] for key in n_contains.keys()]\n",
    "n_xls_list = [n_xls[key] for key in n_contains.keys()]\n",
    "\n",
    "x = np.arange(len(labels))  # the label locations\n",
    "width = .8  # the width of the bars\n",
    "\n",
    "rects3 = ax.bar(x, n_xls_list, width/2, label='Total')\n",
    "# rects1 = ax.bar(x + width/3, contains_list, width/3, label='Contains')\n",
    "rects2 = ax.bar(x + width/2, satisfied_list, width/2, label='Satisfied')\n",
    "\n",
    "# Add some text for labels, title and custom x-axis tick labels, etc.\n",
    "ax.set_ylabel('Counts')\n",
    "ax.set_title('XL Counts')\n",
    "ax.set_xticks(x, labels)\n",
    "ax.set_xticklabels(labels, rotation=45)\n",
    "ax.legend()\n",
    "\n",
    "# ax.bar_label(rects1, padding=1)\n",
    "ax.bar_label(rects2, padding=1)\n",
    "ax.bar_label(rects3, padding=1)\n",
    "\n",
    "fig.tight_layout()\n",
    "plt.show()\n"
   ]
  },
  {
   "cell_type": "code",
   "execution_count": 42,
   "id": "f654b2bd",
   "metadata": {},
   "outputs": [
    {
     "data": {
      "text/plain": [
       "327"
      ]
     },
     "execution_count": 42,
     "metadata": {},
     "output_type": "execute_result"
    }
   ],
   "source": [
    "len(samp_clust_B_df)"
   ]
  },
  {
   "cell_type": "code",
   "execution_count": 45,
   "id": "d3092b78",
   "metadata": {},
   "outputs": [
    {
     "name": "stdout",
     "output_type": "stream",
     "text": [
      "5.291965936362292\n"
     ]
    }
   ],
   "source": [
    "print(clust_precision / (len(samp_clust_A_df) + len(samp_clust_B_df) - 2))"
   ]
  },
  {
   "cell_type": "code",
   "execution_count": null,
   "id": "8b1390b6",
   "metadata": {},
   "outputs": [],
   "source": [
    "rmf_file_tmp = Path(Path.home(), \"mtorc2/exp_8/66/analysis/analysis.367036/clust0.rmf3\")\n",
    "fh_tmp = RMF.open_rmf_file_read_only(str(rmf_file_tmp))\n",
    "m_tmp = IMP.Model()\n",
    "h_tmp = IMP.rmf.create_hierarchies(fh_tmp, m_tmp)[0]\n"
   ]
  },
  {
   "cell_type": "code",
   "execution_count": null,
   "id": "804edbfd",
   "metadata": {},
   "outputs": [],
   "source": [
    "xl_dist_file = Path(\"~/mtorc2/exp_8/66/analysis/analysis.367036/traj/XLs_dist_info_0.csv\")\n",
    "pd.read_csv(xl_dist_file)\n"
   ]
  },
  {
   "cell_type": "code",
   "execution_count": null,
   "id": "e3880c9c",
   "metadata": {},
   "outputs": [],
   "source": [
    "### Write a rmf \n",
    "\n",
    "#     states = IMP.atom.get_by_type(h,IMP.atom.STATE_TYPE)\n",
    "#     s = states[0]\n",
    "    \n",
    "#     output_rmf_file = Path(Path.home(), \"mtorc2/exp_8/66/analysis/analysis.367036/clust_0/{}.rmf3\".format(hdbscan_id))\n",
    "#     fh_out = RMF.create_rmf_file(str(output_rmf_file))\n",
    "\n",
    "#     p = IMP.Particle(m,'System')\n",
    "#     hier_temp = IMP.atom.Hierarchy.setup_particle(p)\n",
    "#     hier_temp.add_child(s)\n",
    "#     IMP.rmf.add_hierarchy(fh_out, hier_temp)\n",
    "\n",
    "    \n",
    "#     print(hdbscan_id, rmf_id, rmsd)\n",
    "#     IMP.rmf.save_frame(fh_out, str(i))\n",
    "\n",
    "#     del fh\n",
    "#     del fh_out\n",
    "\n"
   ]
  }
 ],
 "metadata": {
  "kernelspec": {
   "display_name": "Python 3",
   "language": "python",
   "name": "python3"
  },
  "language_info": {
   "codemirror_mode": {
    "name": "ipython",
    "version": 3
   },
   "file_extension": ".py",
   "mimetype": "text/x-python",
   "name": "python",
   "nbconvert_exporter": "python",
   "pygments_lexer": "ipython3",
   "version": "3.6.15"
  }
 },
 "nbformat": 4,
 "nbformat_minor": 5
}
