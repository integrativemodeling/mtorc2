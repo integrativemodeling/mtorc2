{
 "cells": [
  {
   "cell_type": "code",
   "execution_count": null,
   "id": "253b23ee",
   "metadata": {},
   "outputs": [],
   "source": [
    "import pandas as pd\n",
    "from pathlib import Path\n",
    "import IMP \n",
    "import IMP.atom\n",
    "import IMP.rmf\n",
    "import RMF\n",
    "import random\n",
    "import numpy as np\n",
    "import matplotlib.pyplot as plt\n",
    "import shutil \n"
   ]
  },
  {
   "cell_type": "code",
   "execution_count": null,
   "id": "1c38fcb7",
   "metadata": {},
   "outputs": [],
   "source": [
    "gsms_dir = Path(\"/wynton/group/sali/mhancock/mtorc2/samples/exp_14/129/analysis/1/sampcon_3/gsms/10000R/\")\n",
    "gsms_file = Path(gsms_dir, \"A.rmf3\")\n",
    "fh_clust = RMF.open_rmf_file_read_only(str(gsms_file))\n",
    "m_clust = IMP.Model()\n",
    "h_clust = IMP.rmf.create_hierarchies(fh_clust, m_clust)[0]\n",
    "    "
   ]
  },
  {
   "cell_type": "code",
   "execution_count": null,
   "id": "0b822a3b",
   "metadata": {
    "scrolled": true
   },
   "outputs": [],
   "source": [
    "s = IMP.atom.Selection(h_clust, chain_id=\"E\", resolution=10)\n",
    "print(len(s.get_selected_particles()))"
   ]
  },
  {
   "cell_type": "markdown",
   "id": "cba9dbf6",
   "metadata": {},
   "source": [
    "#### Find structures that are close to either the Kinase domain in the full EM structure or ar enear the Rictor binding site. "
   ]
  },
  {
   "cell_type": "code",
   "execution_count": null,
   "id": "a30c613c",
   "metadata": {
    "scrolled": true
   },
   "outputs": [],
   "source": [
    "dist_dict = dict()\n",
    "dist_dict[\"frame\"] = list() \n",
    "dist_dict[\"dist_to_kd\"] = list() \n",
    "dist_dict[\"dist_to_atp\"] = list() \n",
    "\n",
    "for i in range(10000):\n",
    "    if i % 100 == 0: \n",
    "        print(i)\n",
    "\n",
    "    IMP.rmf.load_frame(fh_clust, RMF.FrameID(i))\n",
    "    dist_dict[\"frame\"].append(i)\n",
    "\n",
    "    s = IMP.atom.Selection(h_clust, resolution=10, residue_indexes=list(range(145,410)), chain_id=\"E\")\n",
    "\n",
    "    pids = [pid for pid in s.get_selected_particle_indexes()]\n",
    "\n",
    "    xyzs = [IMP.core.XYZ(m_clust, pid) for pid in pids]\n",
    "    \n",
    "    # Asparagine 279 CA \n",
    "    avg = 0\n",
    "    for xyz in xyzs: \n",
    "        d = (xyz.get_coordinates() - IMP.algebra.Vector3D(129.895,58.140,174.139)).get_magnitude()\n",
    "        avg = avg + d\n",
    "        \n",
    "        \n",
    "    avg = avg / len(xyzs)\n",
    "    dist_dict[\"dist_to_kd\"].append(avg)\n",
    "    \n",
    "    # Asparagine 279 CA \n",
    "    avg = 0\n",
    "    for xyz in xyzs: \n",
    "        d = (xyz.get_coordinates() - IMP.algebra.Vector3D(167.651, 131.687, 194.140)).get_magnitude()\n",
    "        avg = avg + d\n",
    "        \n",
    "        \n",
    "    avg = avg / len(xyzs)\n",
    "    dist_dict[\"dist_to_atp\"].append(avg)\n",
    "    \n",
    "del fh_clust\n"
   ]
  },
  {
   "cell_type": "code",
   "execution_count": null,
   "id": "2737f45e",
   "metadata": {},
   "outputs": [],
   "source": [
    "data_df = pd.DataFrame(dist_dict)\n",
    "data_df.head()"
   ]
  },
  {
   "cell_type": "code",
   "execution_count": null,
   "id": "c56886b2",
   "metadata": {},
   "outputs": [],
   "source": [
    "data_df[['dist_to_kd']].idxmin()\n"
   ]
  },
  {
   "cell_type": "code",
   "execution_count": null,
   "id": "09ad458c",
   "metadata": {},
   "outputs": [],
   "source": [
    "data_df[['dist_to_atp']].idxmin()\n"
   ]
  },
  {
   "cell_type": "code",
   "execution_count": null,
   "id": "b0ad9c34",
   "metadata": {
    "scrolled": true
   },
   "outputs": [],
   "source": [
    "data_df.nsmallest(20, \"dist_to_atp\")"
   ]
  },
  {
   "cell_type": "markdown",
   "id": "cb5180d3",
   "metadata": {},
   "source": []
  },
  {
   "cell_type": "code",
   "execution_count": null,
   "id": "8b56414e",
   "metadata": {},
   "outputs": [],
   "source": []
  },
  {
   "cell_type": "code",
   "execution_count": null,
   "id": "cd0f4f90",
   "metadata": {},
   "outputs": [],
   "source": []
  },
  {
   "cell_type": "code",
   "execution_count": null,
   "id": "4b3f7625",
   "metadata": {},
   "outputs": [],
   "source": [
    "print()"
   ]
  }
 ],
 "metadata": {
  "kernelspec": {
   "display_name": "Python 3 (ipykernel)",
   "language": "python",
   "name": "python3"
  },
  "language_info": {
   "codemirror_mode": {
    "name": "ipython",
    "version": 3
   },
   "file_extension": ".py",
   "mimetype": "text/x-python",
   "name": "python",
   "nbconvert_exporter": "python",
   "pygments_lexer": "ipython3",
   "version": "3.9.13"
  }
 },
 "nbformat": 4,
 "nbformat_minor": 5
}
