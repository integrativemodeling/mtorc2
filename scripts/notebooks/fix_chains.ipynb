{
 "cells": [
  {
   "cell_type": "code",
   "execution_count": 1,
   "metadata": {},
   "outputs": [],
   "source": [
    "chains_1, inv_chains_1 = dict(), dict() \n",
    "chains_1[\"MTOR_0\"] = \"A\"\n",
    "chains_1[\"RICTOR_0\"] = \"B\"\n",
    "chains_1[\"MLST8_0\"] = \"C\"\n",
    "chains_1[\"MSIN1_0\"] = \"G\" \n",
    "chains_1[\"CRIM_0\"] = \"I\"\n",
    "# chains_1[\"RBD_0\"] = \"K\"\n",
    "chains_1[\"MTOR_1\"] = \"D\"\n",
    "chains_1[\"RICTOR_1\"] = \"E\"\n",
    "chains_1[\"MLST8_1\"] = \"F\"\n",
    "chains_1[\"MSIN1_1\"] = \"H\" \n",
    "chains_1[\"CRIM_1\"] = \"J\"\n",
    "# chains_1[\"RBD_1\"] = \"L\"\n",
    "# chains_1[\"AKT1PH_0\"] = \"M\"\n",
    "# chains_1[\"AKT1PH_1\"] = \"N\"\n",
    "# chains_1[\"MSIN1PH_0\"] = \"O\"\n",
    "# chains_1[\"MSIN1PH_1\"] = \"P\"\n",
    "chains_1[\"KINASE_0\"] = \"Q\"\n",
    "chains_1[\"KINASE_1\"] = \"R\"\n"
   ]
  },
  {
   "cell_type": "code",
   "execution_count": 2,
   "metadata": {},
   "outputs": [],
   "source": [
    "def get_tmp_id(chains, new_id): \n",
    "    used_letters = [chains[chain] for chain in chains.keys()]\n",
    "    for letter in \"ABCDEFGHIJKLMNOPQRSTUVWXYZ\": \n",
    "        if letter not in used_letters and letter != new_id: \n",
    "            return letter \n",
    "    "
   ]
  },
  {
   "cell_type": "code",
   "execution_count": 3,
   "metadata": {},
   "outputs": [],
   "source": [
    "def get_current_chain(chains, letter): \n",
    "    for chain in chains.keys(): \n",
    "        if chains[chain] == letter: \n",
    "            return chain\n",
    "    "
   ]
  },
  {
   "cell_type": "code",
   "execution_count": 4,
   "metadata": {},
   "outputs": [
    {
     "data": {
      "text/plain": [
       "'K'"
      ]
     },
     "execution_count": 4,
     "metadata": {},
     "output_type": "execute_result"
    }
   ],
   "source": [
    "get_tmp_id(chains_1, \"S\")"
   ]
  },
  {
   "cell_type": "code",
   "execution_count": 5,
   "metadata": {},
   "outputs": [
    {
     "data": {
      "text/plain": [
       "'MLST8_0'"
      ]
     },
     "execution_count": 5,
     "metadata": {},
     "output_type": "execute_result"
    }
   ],
   "source": [
    "get_current_chain(chains_1, \"C\")"
   ]
  },
  {
   "cell_type": "code",
   "execution_count": 6,
   "metadata": {},
   "outputs": [],
   "source": [
    "chains_2, inv_chains_2 = dict(), dict() \n",
    "chains_2[\"MTOR_0\"] = \"A\"\n",
    "chains_2[\"RICTOR_0\"] = \"B\"\n",
    "chains_2[\"MLST8_0\"] = \"C\"\n",
    "chains_2[\"MSIN1_0\"] = \"D\" \n",
    "chains_2[\"CRIM_0\"] = \"E\"\n",
    "# chains_2[\"RBD_0\"] = \"F\"\n",
    "# chains_2[\"MSIN1PH_0\"] = \"G\"\n",
    "# chains_2[\"AKT1PH_0\"] = \"H\"\n",
    "chains_2[\"KINASE_0\"] = \"I\"\n",
    "chains_2[\"MTOR_1\"] = \"J\"\n",
    "chains_2[\"RICTOR_1\"] = \"K\"\n",
    "chains_2[\"MLST8_1\"] = \"L\"\n",
    "chains_2[\"MSIN1_1\"] = \"M\" \n",
    "chains_2[\"CRIM_1\"] = \"N\"\n",
    "# chains_2[\"RBD_1\"] = \"O\"\n",
    "# chains_2[\"MSIN1PH_1\"] = \"P\"\n",
    "# chains_2[\"AKT1PH_1\"] = \"Q\"\n",
    "chains_2[\"KINASE_1\"] = \"R\"\n"
   ]
  },
  {
   "cell_type": "code",
   "execution_count": 7,
   "metadata": {
    "scrolled": false
   },
   "outputs": [
    {
     "name": "stdout",
     "output_type": "stream",
     "text": [
      "changechains G,D D,K\n",
      "changechains I,E E,G\n",
      "changechains K,J J,I\n",
      "changechains G,K K,L\n",
      "changechains F,L L,G\n",
      "changechains H,M M,F\n",
      "changechains I,N N,G\n",
      "changechains Q,I I,F\n"
     ]
    }
   ],
   "source": [
    "chains = list(chains_1.keys())\n",
    "for chain in chains: \n",
    "#     print(chain)\n",
    "    orig_id = chains_1[chain]\n",
    "    new_id = chains_2[chain]\n",
    "    \n",
    "    tmp_id = get_tmp_id(chains_1, new_id)\n",
    "#     print(chain, orig_id, new_id, tmp_id)\n",
    "\n",
    "    if new_id == orig_id: \n",
    "        continue \n",
    "    \n",
    "    chains_1[get_current_chain(chains_1, new_id)] = tmp_id\n",
    "#     print(\"setattr /{} c chain_id {}\".format(new_id, tmp_id))\n",
    "#     print(\"setattr /{} r chain_id {}\".format(new_id, tmp_id))\n",
    "    \n",
    "    chains_1[chain] = new_id \n",
    "#     print(\"setattr /{} c chain_id {}\".format(orig_id, new_id))    \n",
    "#     print(\"setattr /{} r chain_id {}\".format(orig_id, new_id))  \n",
    "\n",
    "    print(\"changechains {},{} {},{}\".format(orig_id, new_id, new_id, tmp_id))\n",
    "\n"
   ]
  },
  {
   "cell_type": "code",
   "execution_count": 40,
   "metadata": {},
   "outputs": [
    {
     "name": "stdout",
     "output_type": "stream",
     "text": [
      "{'C': 'CYS', 'D': 'ASP', 'S': 'SER', 'Q': 'GLN', 'K': 'LYS', 'I': 'ILE', 'P': 'PRO', 'T': 'THR', 'F': 'PHE', 'N': 'ASN', 'G': 'GLY', 'H': 'HIS', 'L': 'LEU', 'R': 'ARG', 'W': 'TRP', 'A': 'ALA', 'V': 'VAL', 'E': 'GLU', 'Y': 'TYR', 'M': 'MET'}\n"
     ]
    }
   ],
   "source": [
    "amino_acids_reverse = {'CYS': 'C', 'ASP': 'D', 'SER': 'S', 'GLN': 'Q', 'LYS': 'K',\n",
    "     'ILE': 'I', 'PRO': 'P', 'THR': 'T', 'PHE': 'F', 'ASN': 'N', \n",
    "     'GLY': 'G', 'HIS': 'H', 'LEU': 'L', 'ARG': 'R', 'TRP': 'W', \n",
    "     'ALA': 'A', 'VAL':'V', 'GLU': 'E', 'TYR': 'Y', 'MET': 'M'}\n",
    "\n",
    "amino_acids = dict() \n",
    "for key in amino_acids_reverse.keys(): \n",
    "    amino_acids[amino_acids_reverse[key]] = key\n",
    "    \n",
    "print(amino_acids)"
   ]
  },
  {
   "cell_type": "code",
   "execution_count": 37,
   "metadata": {},
   "outputs": [
    {
     "name": "stdout",
     "output_type": "stream",
     "text": [
      "TMNEFEYLKLLGKGTFGKVILVKEKATGRYYAMKILKKEVIVAKDEVAHTLTENRVLQNSRHPFLTALKYSFQTHDRLCFVMEYANGGELFFHLSRERVFSEDRARFYGAEIVSALDYLHSEKNVVYRDLKLENLMLDKDGHIKITDFGLCKEGIKDGATMKTFCGTPEYLAPEVLEDNDYGRAVDWWGLGVVMYEMMCGRLPFYNQDHEKLFELILMEEIRFPRTLGPEAKSLLSGLLKKDPKQRLGGGSEDAKEIMQHRFFAGIVWQHVYEKKLSPPFKPQVTSETDTRYFDEEFTAQMITITPPDQDDSMECVDSERRPHFPQFSYSASGTA\n"
     ]
    }
   ],
   "source": [
    "kinase_helices = [\\\n",
    "\"HELIX    3   3 MET I  147  GLU I  149  1                                   3\",\n",
    "\"HELIX    4   4 LYS I  183  ALA I  188  1                                   6\",\n",
    "\"HELIX    5   5 VAL I  192  ASN I  204  1                                  13\",\n",
    "\"HELIX    6   6 LEU I  235  GLU I  242  1                                   8\",\n",
    "\"HELIX    7   7 GLU I  247  GLU I  267  1                                  21\",\n",
    "\"HELIX    8   8 LEU I  277  ASN I  279  1                                   3\",\n",
    "\"HELIX    9   9 PHE I  293  LEU I  295  1                                   3\",\n",
    "\"HELIX   10  10 PRO I  313  TYR I  315  1                                   3\",\n",
    "\"HELIX   11  11 PRO I  318  LEU I  321  1                                   4\",\n",
    "\"HELIX   12  12 ARG I  328  CYS I  344  1                                  17\",\n",
    "\"HELIX   13  13 HIS I  354  MET I  363  1                                  10\",\n",
    "\"HELIX   14  14 PRO I  374  LEU I  383  1                                  10\",\n",
    "\"HELIX   15  15 PRO I  388  GLN I  390  1                                   3\",\n",
    "\"HELIX   16  16 ASP I  398  MET I  403  1                                   6\",\n",
    "\"HELIX   17  17 ARG I  406  PHE I  408  1                                   3\",\n",
    "\"HELIX   18  18 TRP I  413  TYR I  417  1                                   5\",\n",
    "\"HELIX   19  19 GLU I  440  THR I  443  1                                   4\"]\n",
    "\n",
    "kinase_sheets = [\\\n",
    "\"SHEET    8   8 1 PHE I 150  LEU I 155  0\",\n",
    "\"SHEET    9   9 1 GLY I 162  GLU I 169  0\",\n",
    "\"SHEET   10  10 1 TYR I 175  LYS I 182  0\",\n",
    "\"SHEET   11  11 1 LEU I 213  GLN I 218  0\",\n",
    "\"SHEET   12  12 1 ARG I 222  GLU I 228  0\",\n",
    "\"SHEET   13  13 1 LEU I 280  LEU I 282  0\",\n",
    "\"SHEET   14  14 1 ILE I 288  ILE I 290  0\"]\n",
    "\n",
    "kinase = \"TMNEFEYLKLLGKGTFGKVILVKEKATGRYYAMKILKKEVIVAKDEVAHTLTENRVLQN\\\n",
    "SRHPFLTALKYSFQTHDRLCFVMEYANGGELFFHLSRERVFSEDRARFYGAEIVSALDY\\\n",
    "LHSEKNVVYRDLKLENLMLDKDGHIKITDFGLCKEGIKDGATMKTFCGTPEYLAPEVLE\\\n",
    "DNDYGRAVDWWGLGVVMYEMMCGRLPFYNQDHEKLFELILMEEIRFPRTLGPEAKSLLS\\\n",
    "GLLKKDPKQRLGGGSEDAKEIMQHRFFAGIVWQHVYEKKLSPPFKPQVTSETDTRYFDE\\\n",
    "EFTAQMITITPPDQDDSMECVDSERRPHFPQFSYSASGTA\"\n",
    "\n",
    "print(kinase)\n"
   ]
  },
  {
   "cell_type": "code",
   "execution_count": 72,
   "metadata": {},
   "outputs": [
    {
     "name": "stdout",
     "output_type": "stream",
     "text": [
      "HELIX    3   3 MET I  2  GLU I  4  1                                   3\n",
      "HELIX    4   4 LYS I  38  ALA I  43  1                                   6\n",
      "HELIX    5   5 VAL I  47  ASN I  59  1                                  13\n",
      "HELIX    6   6 LEU I  90  GLU I  97  1                                   8\n",
      "HELIX    7   7 GLU I  102  GLU I  122  1                                  21\n",
      "HELIX    8   8 LEU I  132  ASN I  134  1                                   3\n",
      "HELIX    9   9 PHE I  148  LEU I  150  1                                   3\n",
      "HELIX   10  10 PRO I  168  TYR I  170  1                                   3\n",
      "HELIX   11  11 PRO I  173  LEU I  176  1                                   4\n",
      "HELIX   12  12 ARG I  183  CYS I  199  1                                  17\n",
      "HELIX   13  13 HIS I  209  MET I  218  1                                  10\n",
      "HELIX   14  14 PRO I  229  LEU I  238  1                                  10\n",
      "HELIX   15  15 PRO I  243  GLN I  245  1                                   3\n",
      "HELIX   16  16 ASP I  253  MET I  258  1                                   6\n",
      "HELIX   17  17 ARG I  261  PHE I  263  1                                   3\n",
      "HELIX   18  18 TRP I  268  TYR I  272  1                                   5\n",
      "HELIX   19  19 GLU I  295  THR I  298  1                                   4\n",
      "SHEET    8   8 1 PHE I 5  LEU I 10  0\n",
      "SHEET    9   9 1 GLY I 17  GLU I 24  0\n",
      "SHEET   10  10 1 TYR I 30  LYS I 37  0\n",
      "SHEET   11  11 1 LEU I 68  GLN I 73  0\n",
      "SHEET   12  12 1 ARG I 77  GLU I 83  0\n",
      "SHEET   13  13 1 LEU I 135  LEU I 137  0\n",
      "SHEET   14  14 1 ILE I 143  ILE I 145  0\n"
     ]
    }
   ],
   "source": [
    "offset = 145\n",
    "for entry in kinase_helices:\n",
    "    new_res_id_1 = int(entry[22:25]) - offset\n",
    "    new_res_id_2 = int(entry[34:37]) - offset\n",
    "    \n",
    "    new_res_1 = amino_acids[kinase[new_res_id_1-1]]\n",
    "    new_res_2 = amino_acids[kinase[new_res_id_2-1]]\n",
    "    \n",
    "#     new_res_1 = entry[16:19]\n",
    "#     new_res_2 = entry[28:31]\n",
    "#     print(new_res_1, new_res_id_1, new_res_2, new_res_id_2)\n",
    "    print(entry[:15] + new_res_1 + entry[18:22] + str(new_res_id_1) + entry[25:27] + new_res_2 + entry[30:34] + str(new_res_id_2) + entry[37:])\n",
    "#         \n",
    "for entry in kinase_sheets:\n",
    "    new_res_id_1 = int(entry[23:26]) - offset\n",
    "    new_res_id_2 = int(entry[34:37]) - offset\n",
    "    \n",
    "    new_res_1 = amino_acids[kinase[new_res_id_1-1]]\n",
    "    new_res_2 = amino_acids[kinase[new_res_id_2-1]]\n",
    "    \n",
    "    print(entry[:17] + new_res_1 + entry[20:23] + str(new_res_id_1) + \"  \" + new_res_2 + entry[31:34] + str(new_res_id_2) + entry[37:])\n"
   ]
  },
  {
   "cell_type": "code",
   "execution_count": 22,
   "metadata": {},
   "outputs": [
    {
     "name": "stdout",
     "output_type": "stream",
     "text": [
      "149\n",
      "188\n",
      "204\n",
      "242\n",
      "267\n",
      "279\n",
      "295\n",
      "315\n",
      "321\n",
      "344\n",
      "363\n",
      "383\n",
      "390\n",
      "403\n",
      "408\n",
      "417\n",
      "443\n"
     ]
    }
   ],
   "source": [
    "for entry in kinase_entries:\n",
    "    print(entry[34:37])"
   ]
  },
  {
   "cell_type": "code",
   "execution_count": 3,
   "metadata": {},
   "outputs": [],
   "source": [
    "msin1_helices = [\\\n",
    "\"HELIX    1   1 PRO G    7  SER G   21  1                                  15\",\n",
    "\"HELIX    2   2 MET G   26  HIS G   34  1                                   9\",\n",
    "\"HELIX    3   3 LEU G   38  ILE G   41  1                                   4\",\n",
    "\"HELIX    5   5 ALA G  117  LEU G  123  1                                   7\",\n",
    "\"HELIX    6   6 ILE G  141  GLN G  148  1                                   8\",\n",
    "\"HELIX    7   7 PRO G  150  LEU G  153  1                                   4\",\n",
    "\"HELIX    8   8 ASN G  158  PHE G  163  1                                   6\",\n",
    "\"HELIX    9   9 ASP G  188  LEU G  190  1                                   3\",\n",
    "\"HELIX   10  10 VAL G  203  SER G  216  1                                  14\",\n",
    "\"HELIX   11  11 VAL G  227  ALA G  229  1                                   3\",\n",
    "\"HELIX   12  12 ILE G  254  LYS G  256  1                                   3\",\n",
    "\"HELIX   13  13 MET G  301  LYS G  313  1                                  13\",\n",
    "\"HELIX   14  14 LEU G  341  GLN G  344  1                                   4\",\n",
    "\"HELIX   15  15 ILE G  371  HIS G  381  1                                  11\",\n",
    "\"HELIX   16  16 SER G  434  LEU G  436  1                                   3\",\n",
    "\"HELIX   17  17 ALA G  472  SER G  488  1                                  17\",\n",
    "\"HELIX   18  18 THR G  492  SER G  519  1                                  28\"]\n",
    "\n",
    "msin1_sheets = [\\\n",
    "\"SHEET    1   1 1 THR G 174  TYR G 180  0\",\n",
    "\"SHEET    2   2 1 MET G 193  MET G 198  0\",\n",
    "\"SHEET    3   3 1 TYR G 230  ILE G 234  0\",\n",
    "\"SHEET    4   4 1 THR G 261  GLU G 266  0\",\n",
    "\"SHEET    5   5 1 LEU G 279  ALA G 285  0\",\n",
    "\"SHEET    6   6 1 GLY G 288  VAL G 294  0\",\n",
    "\"SHEET    7   7 1 TYR G 323  LYS G 327  0\",\n",
    "\"SHEET    8   8 1 GLU G 348  ARG G 353  0\",\n",
    "\"SHEET    9   9 1 LYS G 384  ILE G 391  0\",\n",
    "\"SHEET   10  10 1 THR G 397  ILE G 404  0\",\n",
    "\"SHEET   11  11 1 LYS G 408  PRO G 413  0\",\n",
    "\"SHEET   12  12 1 ILE G 430  ASP G 433  0\",\n",
    "\"SHEET   13  13 1 LEU G 437  LEU G 442  0\",\n",
    "\"SHEET   14  14 1 GLU G 444  SER G 447  0\",\n",
    "\"SHEET   15  15 1 HIS G 450  SER G 459  0\",\n",
    "\"SHEET   16  16 1 ASP G 462  SER G 470  0\"]"
   ]
  },
  {
   "cell_type": "code",
   "execution_count": 19,
   "metadata": {},
   "outputs": [],
   "source": [
    "test_str = \"SHEET    1   1 1 THR G 174  TYR G 180  0\"\n"
   ]
  },
  {
   "cell_type": "code",
   "execution_count": 20,
   "metadata": {},
   "outputs": [
    {
     "name": "stdout",
     "output_type": "stream",
     "text": [
      "SHEET    1   1 1 THR G 174  TYR G 180  0\n",
      "0123456789012345678901234567890123456789\n",
      "0         1         2         3         \n"
     ]
    }
   ],
   "source": [
    "cnt_str_ones = \"\"\n",
    "cnt_str_tens = \"\" \n",
    "for i in range(len(test_str)):\n",
    "    ones = i % 10\n",
    "    cnt_str_ones = cnt_str_ones + str(ones)\n",
    "    \n",
    "    if i % 10 == 0: \n",
    "        tens = i // 10\n",
    "        cnt_str_tens = cnt_str_tens + str(tens)\n",
    "    else: \n",
    "        cnt_str_tens = cnt_str_tens + \" \"\n",
    "        \n",
    "print(test_str)\n",
    "print(cnt_str_ones)\n",
    "print(cnt_str_tens)"
   ]
  },
  {
   "cell_type": "code",
   "execution_count": 21,
   "metadata": {},
   "outputs": [
    {
     "name": "stdout",
     "output_type": "stream",
     "text": [
      "HELIX    8   8 ASN E    1  PHE E    6  1                                   6\n",
      "HELIX    9   9 ASP E   31  LEU E   33  1                                   3\n",
      "HELIX   10  10 VAL E   46  SER E   59  1                                  14\n",
      "HELIX   11  11 VAL E   70  ALA E   72  1                                   3\n",
      "HELIX   12  12 ILE E   97  LYS E   99  1                                   3\n",
      "HELIX   13  13 MET F   22  LYS F   34  1                                  13\n",
      "HELIX   14  14 LEU F   62  GLN F   65  1                                   4\n",
      "HELIX   15  15 ILE F   92  HIS F  102  1                                  11\n",
      "HELIX   16  16 SER G   53  LEU G   55  1                                   3\n",
      "HELIX   17  17 ALA G   91  SER G  107  1                                  17\n",
      "HELIX   18  18 THR G  111  SER G  138  1                                  28\n",
      "SHEET    1   1 1 THR E  17  TYR E  23  0\n",
      "SHEET    2   2 1 MET E  36  MET E  41  0\n",
      "SHEET    3   3 1 TYR E  73  ILE E  77  0\n",
      "SHEET    4   4 1 THR E 104  GLU E 109  0\n",
      "SHEET    5   5 1 LEU E 122  ALA E 128  0\n",
      "SHEET    6   6 1 GLY F   9  VAL F  15  0\n",
      "SHEET    7   7 1 TYR F  44  LYS F  48  0\n",
      "SHEET    8   8 1 GLU F  69  ARG F  74  0\n",
      "SHEET    9   9 1 LYS G   3  ILE G  10  0\n",
      "SHEET   10  10 1 THR G  16  ILE G  23  0\n",
      "SHEET   11  11 1 LYS G  27  PRO G  32  0\n",
      "SHEET   12  12 1 ILE G  49  ASP G  52  0\n",
      "SHEET   13  13 1 LEU G  56  LEU G  61  0\n",
      "SHEET   14  14 1 GLU G  63  SER G  66  0\n",
      "SHEET   15  15 1 HIS G  69  SER G  78  0\n",
      "SHEET   16  16 1 ASP G  81  SER G  89  0\n"
     ]
    }
   ],
   "source": [
    "for entry in msin1_helices:\n",
    "    res_1_id = int(entry[22:25])\n",
    "    res_2_id = int(entry[34:37])\n",
    "    \n",
    "    if res_1_id < 158: \n",
    "        continue \n",
    "    if res_1_id >= 158 and res_1_id < 280: \n",
    "        new_res_1_id = res_1_id - 157\n",
    "        new_res_2_id = res_2_id - 157\n",
    "        new_chain = \"E\"\n",
    "    if res_1_id >= 280 and res_1_id < 382: \n",
    "        new_res_1_id = res_1_id - 279\n",
    "        new_res_2_id = res_2_id - 279        \n",
    "        new_chain = \"F\"\n",
    "    if res_1_id >= 382: \n",
    "        new_res_1_id = res_1_id - 381\n",
    "        new_res_2_id = res_2_id - 381  \n",
    "        new_chain = \"G\"\n",
    "        \n",
    "    print(entry[:19] + new_chain + \"{:>5}\".format(new_res_1_id) + entry[25:31] + new_chain + \"{:>5}\".format(new_res_2_id) + entry[37:])\n",
    "\n",
    "for entry in msin1_sheets:\n",
    "    res_1_id = int(entry[23:26])\n",
    "    res_2_id = int(entry[34:37])\n",
    "    \n",
    "    if res_1_id < 158: \n",
    "        continue \n",
    "    if res_1_id >= 158 and res_1_id < 280: \n",
    "        new_res_1_id = res_1_id - 157\n",
    "        new_res_2_id = res_2_id - 157\n",
    "        new_chain = \"E\"\n",
    "    if res_1_id >= 280 and res_1_id < 382: \n",
    "        new_res_1_id = res_1_id - 279\n",
    "        new_res_2_id = res_2_id - 279        \n",
    "        new_chain = \"F\"\n",
    "    if res_1_id >= 382: \n",
    "        new_res_1_id = res_1_id - 381\n",
    "        new_res_2_id = res_2_id - 381  \n",
    "        new_chain = \"G\"\n",
    "        \n",
    "    print(entry[:21] + new_chain + \"{:>4}\".format(new_res_1_id) + entry[26:32] + new_chain + \"{:>4}\".format(new_res_2_id) + entry[37:])\n",
    "\n",
    "    "
   ]
  },
  {
   "cell_type": "code",
   "execution_count": 22,
   "metadata": {},
   "outputs": [
    {
     "name": "stdout",
     "output_type": "stream",
     "text": [
      "HELIX    1   1 PRO G    7  SER G   21  1                                  15\n",
      "SHEET    1   1 1 THR G 174  TYR G 180  0\n"
     ]
    }
   ],
   "source": [
    "print(\"HELIX    1   1 PRO G    7  SER G   21  1                                  15\")\n",
    "print(\"SHEET    1   1 1 THR G 174  TYR G 180  0\")"
   ]
  },
  {
   "cell_type": "code",
   "execution_count": null,
   "metadata": {},
   "outputs": [],
   "source": []
  }
 ],
 "metadata": {
  "kernelspec": {
   "display_name": "Python 3",
   "language": "python",
   "name": "python3"
  },
  "language_info": {
   "codemirror_mode": {
    "name": "ipython",
    "version": 3
   },
   "file_extension": ".py",
   "mimetype": "text/x-python",
   "name": "python",
   "nbconvert_exporter": "python",
   "pygments_lexer": "ipython3",
   "version": "3.8.5"
  }
 },
 "nbformat": 4,
 "nbformat_minor": 5
}
